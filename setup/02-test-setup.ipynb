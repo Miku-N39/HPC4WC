{
 "cells": [
  {
   "cell_type": "markdown",
   "metadata": {},
   "source": [
    "## Test numpy & matplotlib"
   ]
  },
  {
   "cell_type": "code",
   "execution_count": 3,
   "metadata": {},
   "outputs": [],
   "source": [
    "import numpy as np\n",
    "import matplotlib.pyplot as plt"
   ]
  },
  {
   "cell_type": "code",
   "execution_count": 4,
   "metadata": {},
   "outputs": [
    {
     "data": {
      "image/png": "[encoded data removed]",
      "text/plain": [
       "<Figure size 432x288 with 1 Axes>"
      ]
     },
     "metadata": {
      "needs_background": "light"
     },
     "output_type": "display_data"
    }
   ],
   "source": [
    "plt.imshow( np.random.rand( 32, 32 ), origin='lower', cmap=plt.get_cmap('magma') );"
   ]
  },
  {
   "cell_type": "markdown",
   "metadata": {},
   "source": [
    "## Test MPI"
   ]
  },
  {
   "cell_type": "code",
   "execution_count": 5,
   "metadata": {},
   "outputs": [],
   "source": [
    "import numpy as np\n",
    "import ipcmagic\n",
    "import ipyparallel as ipp"
   ]
  },
  {
   "cell_type": "code",
   "execution_count": 6,
   "metadata": {},
   "outputs": [
    {
     "data": {
      "application/vnd.jupyter.widget-view+json": {
       "model_id": "c5a422a45a4b4224b01d75b35a8ba2df",
       "version_major": 2,
       "version_minor": 0
      },
      "text/plain": [
       "  0%|          | 0/4 [00:00<?, ?engine/s]"
      ]
     },
     "metadata": {},
     "output_type": "display_data"
    }
   ],
   "source": [
    "%ipcluster start -n 4"
   ]
  },
  {
   "cell_type": "code",
   "execution_count": 7,
   "metadata": {},
   "outputs": [],
   "source": [
    "c = ipp.Client()"
   ]
  },
  {
   "cell_type": "code",
   "execution_count": 8,
   "metadata": {},
   "outputs": [
    {
     "data": {
      "text/plain": [
       "[0, 1, 2, 3]"
      ]
     },
     "execution_count": 8,
     "metadata": {},
     "output_type": "execute_result"
    }
   ],
   "source": [
    "c.ids"
   ]
  },
  {
   "cell_type": "code",
   "execution_count": 9,
   "metadata": {},
   "outputs": [],
   "source": [
    "%%px\n",
    "import socket\n",
    "from mpi4py import MPI"
   ]
  },
  {
   "cell_type": "code",
   "execution_count": 10,
   "metadata": {},
   "outputs": [
    {
     "data": {
      "text/plain": [
       "[stdout:0] Hello World from rank 2 of 4 on nid nid02510\n"
      ]
     },
     "metadata": {},
     "output_type": "display_data"
    },
    {
     "data": {
      "text/plain": [
       "[stdout:2] Hello World from rank 3 of 4 on nid nid02510\n"
      ]
     },
     "metadata": {},
     "output_type": "display_data"
    },
    {
     "data": {
      "text/plain": [
       "[stdout:3] Hello World from rank 1 of 4 on nid nid02510\n"
      ]
     },
     "metadata": {},
     "output_type": "display_data"
    },
    {
     "data": {
      "text/plain": [
       "[stdout:1] Hello World from rank 0 of 4 on nid nid02510\n"
      ]
     },
     "metadata": {},
     "output_type": "display_data"
    }
   ],
   "source": [
    "%%px\n",
    "print(\"Hello World from rank %s of %s on nid %s\" % (MPI.COMM_WORLD.rank,\n",
    "                                                    MPI.COMM_WORLD.size,\n",
    "                                                    socket.gethostname()))"
   ]
  },
  {
   "cell_type": "code",
   "execution_count": 11,
   "metadata": {},
   "outputs": [
    {
     "name": "stdout",
     "output_type": "stream",
     "text": [
      "IPCluster stopped.\n"
     ]
    }
   ],
   "source": [
    "c.close()\n",
    "%ipcluster stop"
   ]
  },
  {
   "cell_type": "markdown",
   "metadata": {},
   "source": [
    "## Test Cupy"
   ]
  },
  {
   "cell_type": "code",
   "execution_count": 12,
   "metadata": {},
   "outputs": [],
   "source": [
    "import numpy as np\n",
    "import cupy as cp\n",
    "import time"
   ]
  },
  {
   "cell_type": "code",
   "execution_count": 13,
   "metadata": {},
   "outputs": [
    {
     "name": "stdout",
     "output_type": "stream",
     "text": [
      "2.850228786468506\n",
      "0.5841176509857178\n"
     ]
    }
   ],
   "source": [
    "### Numpy and CPU\n",
    "s = time.time()\n",
    "x_cpu = np.ones((1000,1000,1000))\n",
    "e = time.time()\n",
    "print(e - s)\n",
    "\n",
    "### CuPy and GPU\n",
    "s = time.time()\n",
    "x_gpu = cp.ones((1000,1000,1000))\n",
    "cp.cuda.Stream.null.synchronize()\n",
    "e = time.time()\n",
    "print(e - s)"
   ]
  },
  {
   "cell_type": "markdown",
   "metadata": {},
   "source": [
    "## Test GT4Py"
   ]
  },
  {
   "cell_type": "code",
   "execution_count": 14,
   "metadata": {},
   "outputs": [
    {
     "name": "stderr",
     "output_type": "stream",
     "text": [
      "/users/class151/HPC4WC_venv/lib/python3.9/site-packages/setuptools/distutils_patch.py:25: UserWarning: Distutils was imported before Setuptools. This usage is discouraged and may exhibit undesirable behaviors or errors. Please use Setuptools' objects directly or at least import Setuptools first.\n",
      "  warnings.warn(\n"
     ]
    }
   ],
   "source": [
    "import os\n",
    "import warnings\n",
    "import gt4py\n",
    "from gt4py import gtscript\n",
    "\n",
    "# The setuptools warning can be ignored!"
   ]
  },
  {
   "cell_type": "code",
   "execution_count": 15,
   "metadata": {},
   "outputs": [],
   "source": [
    "@gtscript.stencil(backend=\"numpy\")\n",
    "def copy_stencil(in_field: gtscript.Field[float], out_field: gtscript.Field[float]):\n",
    "    from __gtscript__ import computation, interval, PARALLEL\n",
    "\n",
    "    with computation(PARALLEL), interval(...):\n",
    "        out_field = in_field"
   ]
  },
  {
   "cell_type": "code",
   "execution_count": 16,
   "metadata": {},
   "outputs": [
    {
     "name": "stdout",
     "output_type": "stream",
     "text": [
      "[[[1. 1. 1. 1.]\n",
      "  [1. 1. 1. 1.]\n",
      "  [1. 1. 1. 1.]\n",
      "  [1. 1. 1. 1.]]\n",
      "\n",
      " [[1. 1. 1. 1.]\n",
      "  [1. 1. 1. 1.]\n",
      "  [1. 1. 1. 1.]\n",
      "  [1. 1. 1. 1.]]]\n"
     ]
    }
   ],
   "source": [
    "shape = (2,4,4)\n",
    "in_storage = gt4py.storage.ones(shape=shape, default_origin=(0,0,0), dtype=float, backend=\"numpy\")\n",
    "out_storage = gt4py.storage.zeros(shape=shape, default_origin=(0,0,0), dtype=float, backend=\"numpy\")\n",
    "copy_stencil(in_storage, out_storage)\n",
    "print(out_storage)"
   ]
  },
  {
   "cell_type": "markdown",
   "metadata": {},
   "source": [
    "## Check installed packages"
   ]
  },
  {
   "cell_type": "code",
   "execution_count": 17,
   "metadata": {},
   "outputs": [
    {
     "name": "stdout",
     "output_type": "stream",
     "text": [
      "Package                   Version\n",
      "------------------------- ----------\n",
      "aenum                     3.1.0\n",
      "aiohttp                   3.8.1\n",
      "aiosignal                 1.2.0\n",
      "alembic                   1.7.6\n",
      "anyio                     3.5.0\n",
      "appdirs                   1.4.4\n",
      "argon2-cffi               21.3.0\n",
      "argon2-cffi-bindings      21.2.0\n",
      "ase                       3.22.1\n",
      "asttokens                 2.0.5\n",
      "astunparse                1.6.3\n",
      "async-generator           1.10\n",
      "async-timeout             4.0.2\n",
      "attrs                     20.3.0\n",
      "Babel                     2.9.1\n",
      "backcall                  0.2.0\n",
      "bash_kernel               0.7.2\n",
      "batchspawner              0.9.0.dev0\n",
      "black                     22.1.0\n",
      "bleach                    4.1.0\n",
      "bokeh                     2.4.2\n",
      "boltons                   21.0.0\n",
      "cached-property           1.5.2\n",
      "certifi                   2021.10.8\n",
      "certipy                   0.1.3\n",
      "cffi                      1.15.0\n",
      "chardet                   4.0.0\n",
      "charset-normalizer        2.0.11\n",
      "click                     8.0.3\n",
      "cloudpickle               2.0.0\n",
      "cmake                     3.20.2\n",
      "cryptography              36.0.1\n",
      "cupy-cuda110              10.1.0\n",
      "cycler                    0.11.0\n",
      "cytoolz                   0.11.0\n",
      "dask                      2022.1.1\n",
      "dask-labextension         5.2.0\n",
      "debugpy                   1.5.1\n",
      "decorator                 5.1.1\n",
      "defusedxml                0.7.1\n",
      "devtools                  0.6.1\n",
      "dill                      0.3.3\n",
      "distributed               2022.1.1\n",
      "distro                    1.5.0\n",
      "docopt                    0.6.2\n",
      "entrypoints               0.4\n",
      "executing                 0.8.2\n",
      "fastrlock                 0.8\n",
      "Flask                     1.1.2\n",
      "fonttools                 4.29.1\n",
      "frozenlist                1.3.0\n",
      "fsspec                    2024.6.0\n",
      "graphviz                  0.19.1\n",
      "greenlet                  1.1.2\n",
      "gt4py                     0.1.0\n",
      "HeapDict                  1.0.1\n",
      "idna                      3.3\n",
      "ipcluster-magics          1.0.2\n",
      "ipykernel                 6.9.0\n",
      "ipympl                    0.8.7\n",
      "ipyparallel               8.2.0\n",
      "ipyparaview               0.1.2b0\n",
      "ipython                   8.0.1\n",
      "ipython-genutils          0.2.0\n",
      "ipywidgets                7.6.5\n",
      "isort                     5.10.1\n",
      "itsdangerous              1.1.0\n",
      "jedi                      0.18.1\n",
      "Jinja2                    3.0.3\n",
      "json5                     0.9.6\n",
      "jsonschema                4.4.0\n",
      "jupyter-client            7.1.2\n",
      "jupyter-core              4.9.1\n",
      "jupyter-resource-usage    0.6.1\n",
      "jupyter-server            1.13.5\n",
      "jupyter-server-proxy      3.2.1\n",
      "jupyter-telemetry         0.1.0\n",
      "jupyterhub                1.4.2\n",
      "jupyterlab                3.2.8\n",
      "jupyterlab-code-formatter 1.4.10\n",
      "jupyterlab-nvdashboard    0.6.0\n",
      "jupyterlab-pygments       0.1.2\n",
      "jupyterlab-server         2.10.3\n",
      "jupyterlab-system-monitor 0.8.0\n",
      "jupyterlab-topbar         0.6.1\n",
      "jupyterlab-widgets        1.0.2\n",
      "kiwisolver                1.3.2\n",
      "locket                    1.0.0\n",
      "Mako                      1.1.6\n",
      "MarkupSafe                2.0.1\n",
      "matplotlib                3.5.1\n",
      "matplotlib-inline         0.1.3\n",
      "mistune                   0.8.4\n",
      "mpi4py                    3.1.4\n",
      "mpmath                    1.2.1\n",
      "msgpack                   1.0.3\n",
      "multidict                 6.0.2\n",
      "mypy-extensions           0.4.3\n",
      "nbclassic                 0.3.5\n",
      "nbclient                  0.5.10\n",
      "nbconvert                 6.4.1\n",
      "nbformat                  5.1.3\n",
      "nbresuse                  0.4.0\n",
      "nest-asyncio              1.5.4\n",
      "networkx                  2.5.1\n",
      "nglview                   3.0.3\n",
      "notebook                  6.4.8\n",
      "numpy                     1.20.0\n",
      "oauthlib                  3.2.0\n",
      "packaging                 24.1\n",
      "pamela                    1.0.0\n",
      "pandocfilters             1.5.0\n",
      "parso                     0.8.3\n",
      "partd                     1.4.2\n",
      "pathspec                  0.9.0\n",
      "pexpect                   4.8.0\n",
      "pickleshare               0.7.5\n",
      "Pillow                    9.0.1\n",
      "pip                       24.0\n",
      "platformdirs              2.4.1\n",
      "ply                       3.11\n",
      "prometheus-client         0.13.1\n",
      "prompt-toolkit            3.0.27\n",
      "psutil                    5.9.0\n",
      "ptyprocess                0.7.0\n",
      "pure-eval                 0.2.2\n",
      "pybind11                  2.6.2\n",
      "pycparser                 2.21\n",
      "pydantic                  1.7.4\n",
      "pyexpect                  1.0.21\n",
      "Pygments                  2.11.2\n",
      "pynvml                    11.4.1\n",
      "pyOpenSSL                 22.0.0\n",
      "pyparsing                 2.4.7\n",
      "pyrsistent                0.18.0\n",
      "python-dateutil           2.8.1\n",
      "python-json-logger        2.0.2\n",
      "pytz                      2024.1\n",
      "PyYAML                    6.0\n",
      "pyzmq                     22.3.0\n",
      "regex                     2021.4.4\n",
      "requests                  2.27.1\n",
      "ruamel.yaml               0.17.20\n",
      "ruamel.yaml.clib          0.2.6\n",
      "scikit-build              0.11.1\n",
      "scipy                     1.10.1\n",
      "Send2Trash                1.8.0\n",
      "setuptools                49.2.1\n",
      "simpervisor               0.4\n",
      "six                       1.16.0\n",
      "sniffio                   1.2.0\n",
      "sortedcontainers          2.4.0\n",
      "SQLAlchemy                1.4.31\n",
      "stack-data                0.1.4\n",
      "sympy                     1.9\n",
      "tabulate                  0.8.9\n",
      "tblib                     1.7.0\n",
      "terminado                 0.13.1\n",
      "testpath                  0.5.0\n",
      "toml                      0.10.2\n",
      "tomli                     2.0.1\n",
      "toolz                     0.11.1\n",
      "tornado                   6.1\n",
      "tqdm                      4.62.3\n",
      "traitlets                 5.1.1\n",
      "typing_extensions         4.0.1\n",
      "typing-inspect            0.6.0\n",
      "urllib3                   1.26.8\n",
      "virtualenv-clone          0.5.4\n",
      "wcwidth                   0.2.5\n",
      "webencodings              0.5.1\n",
      "websocket-client          1.2.3\n",
      "websockets                9.1\n",
      "Werkzeug                  1.0.1\n",
      "wheel                     0.43.0\n",
      "widgetsnbextension        3.5.2\n",
      "xxhash                    2.0.2\n",
      "yarl                      1.7.2\n",
      "zict                      2.0.0\n"
     ]
    }
   ],
   "source": [
    "%%bash\n",
    "python -m pip list"
   ]
  }
 ],
 "metadata": {
  "kernelspec": {
   "display_name": "HPC4WC_kernel",
   "language": "python",
   "name": "hpc4wc_kernel"
  },
  "language_info": {
   "codemirror_mode": {
    "name": "ipython",
    "version": 3
   },
   "file_extension": ".py",
   "mimetype": "text/x-python",
   "name": "python",
   "nbconvert_exporter": "python",
   "pygments_lexer": "ipython3",
   "version": "3.9.4"
  }
 },
 "nbformat": 4,
 "nbformat_minor": 4
}
