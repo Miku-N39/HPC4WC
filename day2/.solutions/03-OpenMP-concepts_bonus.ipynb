{
 "cells": [
  {
   "cell_type": "markdown",
   "metadata": {},
   "source": [
    "# Bonus Questions for more in-depth OpenMP \n",
    "\n",
    "In this notebook we will explore some of the more advanced concepts surrounding openMP. Note that not all of these are critical to speed up weather and climate codes so they are structured in this bonus notebook"
   ]
  },
  {
   "cell_type": "markdown",
   "metadata": {},
   "source": [
    "## Parallel Execution Time\n",
    "\n",
    "<div class=\"alert alert-block alert-success\">\n",
    "<b>Now it's your turn...</b><br>\n",
    "B1: Assume you have a program hat is 99% parallelizeable. If we parallelize it but by parallelizing we add parallel overhead to the code (by adding communication). The overhead is at $0.001 \\cdot \\log(n)$ runtime. Write a simple experiment to see how many nodes are the ideal configuration for this to run as fast as possible?\n",
    "</div>"
   ]
  },
  {
   "cell_type": "code",
   "execution_count": 1,
   "metadata": {},
   "outputs": [
    {
     "name": "stdout",
     "output_type": "stream",
     "text": [
      "990\n"
     ]
    }
   ],
   "source": [
    "import numpy as np\n",
    "import math\n",
    "\n",
    "cores = range(1,10000) # TODO\n",
    "run_time = [(0.01+(0.99/(float)(x))+0.001*math.log(x)) for x in cores] # TODO\n",
    "index_min = np.argmin(run_time)\n",
    "print(index_min+1)\n"
   ]
  },
  {
   "cell_type": "code",
   "execution_count": 3,
   "metadata": {},
   "outputs": [
    {
     "data": {
      "text/plain": [
       "[<matplotlib.lines.Line2D at 0x1554ea8b67c0>]"
      ]
     },
     "execution_count": 3,
     "metadata": {},
     "output_type": "execute_result"
    },
    {
     "data": {
      "image/png": "[encoded data removed]",
      "text/plain": [
       "<Figure size 432x288 with 1 Axes>"
      ]
     },
     "metadata": {
      "needs_background": "light"
     },
     "output_type": "display_data"
    }
   ],
   "source": [
    "import matplotlib.pyplot as plt\n",
    "\n",
    "cores = range(100,3000) \n",
    "run_time = [(0.01+(0.99/(float)(x))+0.001*math.log(x)) for x in cores]\n",
    "plt.plot(cores, run_time)"
   ]
  },
  {
   "cell_type": "markdown",
   "metadata": {},
   "source": [
    "<div class=\"alert alert-block alert-success\">\n",
    "<b>Now it's your turn...</b><br>\n",
    "B2: Can we mathemathically prove that this is actually ideal?\n",
    "    </div>"
   ]
  },
  {
   "cell_type": "markdown",
   "metadata": {},
   "source": [
    "$\\frac{d}{dn}(0.01+\\frac{0.99}{n} + 0.001\\log(n)) = 0$\n",
    "\n",
    "$\\frac{0.001n - 0.99}{n^2} = 0$\n",
    "\n",
    "$n = 990$"
   ]
  },
  {
   "cell_type": "markdown",
   "metadata": {},
   "source": [
    "## Amdahl's Law\n",
    "\n",
    "<div class=\"alert alert-block alert-success\">\n",
    "<b>Now it's your turn...</b><br>\n",
    "B3: Assume you have a program that is 99% parallelizeable. If you have three machines available, your laptop with 8 cores, all the fat-nodes of Brutus (3840 cores) and the full CPU partition of Piz Daint with it's 65268 cores. How much speedup do these machines offer you?\n",
    "    </div>"
   ]
  },
  {
   "cell_type": "code",
   "execution_count": 4,
   "metadata": {},
   "outputs": [
    {
     "name": "stdout",
     "output_type": "stream",
     "text": [
      "[1.0, 4.871508379888269, 10.871970700537677, 10.89834691373344]\n"
     ]
    }
   ],
   "source": [
    "cores = [1, 8,3840,65268] \n",
    "run_time = [0.1 + 0.99/x for x in cores]\n",
    "speedup = [run_time[0]/x for x in run_time]\n",
    "print(speedup)\n"
   ]
  },
  {
   "cell_type": "code",
   "execution_count": 5,
   "metadata": {},
   "outputs": [
    {
     "data": {
      "image/png": "[encoded data removed]",
      "text/plain": [
       "<Figure size 720x360 with 1 Axes>"
      ]
     },
     "metadata": {
      "needs_background": "light"
     },
     "output_type": "display_data"
    }
   ],
   "source": [
    "import matplotlib.pyplot as plt\n",
    "\n",
    "# creating the dataset\n",
    "courses = [\"Single Node\", \"Laptop\", \"Brutus\", \"Daint\"]\n",
    "fig = plt.figure(figsize = (10, 5))\n",
    " \n",
    "# creating the bar plot\n",
    "plt.bar(courses, speedup, color ='maroon',\n",
    "        width = 0.4)\n",
    " \n",
    "plt.xlabel(\"Machine\")\n",
    "plt.ylabel(\"Speedup\")\n",
    "plt.title(\"Speedup on different machines\")\n",
    "plt.show()"
   ]
  },
  {
   "cell_type": "markdown",
   "metadata": {},
   "source": [
    "# Exploration of intrinsics\n",
    "\n",
    "In this section we are exploring the difference in speed between various intrinsics\n",
    "\n",
    "<div class=\"alert alert-block alert-success\">\n",
    "<b>Now it's your turn...</b><br>\n",
    "B4: Write a program <tt>expensive.cpp</tt> where we loop over $n$ iteration and take the $arccos$ of the $cos$ of the $arcsin$ of the $sin$ of the $abs$ value of it's iteration number divided by the total number of iterations.\n",
    "\n",
    "</div>\n",
    "We sum all these values up and verify correctness by printing the result.\n",
    "Ideally the program is parametrized with the number of iterations as well as the number of threads used.\n"
   ]
  },
  {
   "cell_type": "code",
   "execution_count": 6,
   "metadata": {},
   "outputs": [
    {
     "name": "stdout",
     "output_type": "stream",
     "text": [
      "rm -f *.out weak.txt caching.txt caching2.txt out.txt \n",
      "rm -f -rf *~ *.o *.mod *.MOD *.i core.* *.out *.lst *.x *.x+orig *.x+[0-9]* *.dat *.report report_*.txt out*.txt\n"
     ]
    }
   ],
   "source": [
    "%%bash\n",
    "make clean"
   ]
  },
  {
   "cell_type": "code",
   "execution_count": 7,
   "metadata": {},
   "outputs": [],
   "source": [
    "%%bash\n",
    "module load daint-gpu\n",
    "module switch PrgEnv-gnu PrgEnv-cray\n",
    "\n",
    "CC expensive.cpp -fopenmp -o expensive.x -O3"
   ]
  },
  {
   "cell_type": "code",
   "execution_count": 8,
   "metadata": {},
   "outputs": [
    {
     "name": "stdout",
     "output_type": "stream",
     "text": [
      "5e+06\n",
      "0.766278\n"
     ]
    }
   ],
   "source": [
    "%%bash\n",
    "srun -n 1 ./expensive.x 10000001 2"
   ]
  },
  {
   "cell_type": "markdown",
   "metadata": {},
   "source": [
    "The output value should be 5e6"
   ]
  },
  {
   "cell_type": "markdown",
   "metadata": {},
   "source": [
    "<div class=\"alert alert-block alert-success\">\n",
    "<b>Now it's your turn...</b><br>\n",
    "B4a: Make sure to add a timer around your code"
   ]
  },
  {
   "cell_type": "code",
   "execution_count": 9,
   "metadata": {},
   "outputs": [],
   "source": [
    "%%bash\n",
    "module load daint-gpu\n",
    "module switch PrgEnv-gnu PrgEnv-cray\n",
    "\n",
    "CC expensive.cpp -fopenmp -o expensive.x -O3"
   ]
  },
  {
   "cell_type": "code",
   "execution_count": 10,
   "metadata": {},
   "outputs": [
    {
     "name": "stdout",
     "output_type": "stream",
     "text": [
      "5e+06\n",
      "0.759307\n"
     ]
    }
   ],
   "source": [
    "%%bash\n",
    "srun -n 1 ./expensive.x 10000001 12"
   ]
  },
  {
   "cell_type": "markdown",
   "metadata": {},
   "source": [
    "<div class=\"alert alert-block alert-success\">\n",
    "<b>Now it's your turn...</b><br>\n",
    "B5: Duplicate the file into a file called <tt>critical.cpp</tt> Parallelize the for loop and make the updates work in critical secions.\n",
    "How much speedup do we get?\n",
    "</div>    "
   ]
  },
  {
   "cell_type": "code",
   "execution_count": 11,
   "metadata": {},
   "outputs": [],
   "source": [
    "%%bash\n",
    "module load daint-gpu\n",
    "module switch PrgEnv-gnu PrgEnv-cray\n",
    "\n",
    "CC critical.cpp -fopenmp -o critical.x -O3"
   ]
  },
  {
   "cell_type": "code",
   "execution_count": 12,
   "metadata": {},
   "outputs": [
    {
     "name": "stdout",
     "output_type": "stream",
     "text": [
      "5e+06\n",
      "1.07772\n"
     ]
    }
   ],
   "source": [
    "%%bash\n",
    "srun -n 1 ./critical.x 10000001 12"
   ]
  },
  {
   "cell_type": "markdown",
   "metadata": {},
   "source": [
    "<b>TODO.</b><br>\n",
    "This indicates a slowdown rather than a speedup. The reason for this is that critical sections introduce significant overhead due to the need for synchronization. Each thread must wait to enter the critical section, which serializes the updates to sum and negates the benefits of parallelization.\n",
    "</div>    "
   ]
  },
  {
   "cell_type": "markdown",
   "metadata": {},
   "source": [
    "<div class=\"alert alert-block alert-success\">\n",
    "<b>Now it's your turn...</b><br>\n",
    "B6: Duplicate the file into a file called <tt>atomic.cpp</tt> update the critical section to use an atomic instead.\n",
    "How much speedup do we get?\n",
    "</div>    "
   ]
  },
  {
   "cell_type": "code",
   "execution_count": 13,
   "metadata": {},
   "outputs": [],
   "source": [
    "%%bash\n",
    "module load daint-gpu\n",
    "module switch PrgEnv-gnu PrgEnv-cray\n",
    "\n",
    "CC atomic.cpp -fopenmp -o atomic.x -O3"
   ]
  },
  {
   "cell_type": "code",
   "execution_count": 14,
   "metadata": {},
   "outputs": [
    {
     "name": "stdout",
     "output_type": "stream",
     "text": [
      "5e+06\n",
      "0.731977\n"
     ]
    }
   ],
   "source": [
    "%%bash\n",
    "srun -n 1 ./atomic.x 10000001 12"
   ]
  },
  {
   "cell_type": "markdown",
   "metadata": {},
   "source": [
    "<div class=\"alert alert-block alert-success\">\n",
    "<b>Now it's your turn...</b><br>\n",
    "B7: Duplicate the file into a file called <tt>reduction.cpp</tt> and change the loop to use the intrinsic reduction. How do times compare between the reduction and the atomic?\n",
    "</div>"
   ]
  },
  {
   "cell_type": "code",
   "execution_count": 15,
   "metadata": {},
   "outputs": [],
   "source": [
    "%%bash\n",
    "module load daint-gpu\n",
    "module switch PrgEnv-gnu PrgEnv-cray\n",
    "\n",
    "CC reduction.cpp -fopenmp -o reduction.x -O3"
   ]
  },
  {
   "cell_type": "code",
   "execution_count": 16,
   "metadata": {},
   "outputs": [
    {
     "name": "stdout",
     "output_type": "stream",
     "text": [
      "5e+06\n",
      "0.72845\n"
     ]
    }
   ],
   "source": [
    "%%bash\n",
    "srun -n 1 ./atomic.x  10000001 12"
   ]
  },
  {
   "cell_type": "markdown",
   "metadata": {},
   "source": [
    "<div class=\"alert alert-block alert-success\">\n",
    "<b>Now it's your turn...</b><br>\n",
    "B8: Lastly we try to completely parallelize the code and have a single thread sum up the result in <tt>fully_parallel.cpp</tt>. How does that compare to the above times?\n",
    "</div>"
   ]
  },
  {
   "cell_type": "code",
   "execution_count": 17,
   "metadata": {},
   "outputs": [],
   "source": [
    "%%bash\n",
    "module load daint-gpu\n",
    "module switch PrgEnv-gnu PrgEnv-cray\n",
    "\n",
    "CC fully_parallel.cpp -fopenmp -o fully_parallel.x -O3"
   ]
  },
  {
   "cell_type": "code",
   "execution_count": 18,
   "metadata": {},
   "outputs": [
    {
     "name": "stdout",
     "output_type": "stream",
     "text": [
      "5e+06\n",
      "0.134921\n"
     ]
    }
   ],
   "source": [
    "%%bash\n",
    "srun -n 1 ./fully_parallel.x 10000001 12"
   ]
  },
  {
   "cell_type": "markdown",
   "metadata": {},
   "source": [
    "<div class=\"alert alert-block alert-success\">\n",
    "<b>Now it's your turn...</b><br>\n",
    "Now we had a very expensive computation instead of a simple one. We want to copy <tt>fully_parallel.cpp</tt> into <tt>iterations_count_fully_parallel</tt> and <tt>atomic.cpp</tt> into <tt>iterations_count_atomic</tt>.<br>\n",
    "In the new version we change the computation to just be the iteration index.<br>\n",
    "    <b>B9:</b> How do the two versions compare to each other? How do they compare to their expensive counterparts?\n",
    "</div>"
   ]
  },
  {
   "cell_type": "code",
   "execution_count": 19,
   "metadata": {},
   "outputs": [],
   "source": [
    "%%bash\n",
    "module load daint-gpu\n",
    "module switch PrgEnv-gnu PrgEnv-cray\n",
    "\n",
    "CC iterations_count_atomic.cpp -fopenmp -o iterations_count_atomic.x -O3\n",
    "CC iterations_count_fully_parallel.cpp -fopenmp -o iterations_count_fully_parallel.x -O3\n"
   ]
  },
  {
   "cell_type": "code",
   "execution_count": 20,
   "metadata": {},
   "outputs": [
    {
     "name": "stdout",
     "output_type": "stream",
     "text": [
      "5e+13\n",
      "0.538799\n"
     ]
    }
   ],
   "source": [
    "%%bash\n",
    "srun -n 1 ./iterations_count_atomic.x 10000001 12"
   ]
  },
  {
   "cell_type": "code",
   "execution_count": 21,
   "metadata": {},
   "outputs": [
    {
     "name": "stdout",
     "output_type": "stream",
     "text": [
      "5e+13\n",
      "0.0431054\n"
     ]
    }
   ],
   "source": [
    "%%bash\n",
    "srun -n 1 ./iterations_count_fully_parallel.x 10000001 12"
   ]
  },
  {
   "cell_type": "markdown",
   "metadata": {},
   "source": [
    "# Exploration of caching\n",
    "<div class=\"alert alert-block alert-success\">\n",
    "<b>Now it's your turn...</b><br>\n",
    "B10: Parallelize <tt>fully_parallel.cpp</tt> in a new file <tt>static_small_expensive.cpp</tt> with a static loop schedule of size 1. But we slightly change the output to be \n",
    "<br><code>output[i] = acos(cos(asin(sin(abs(input[i]))))) + output[i];</code>\n",
    "</div>\n"
   ]
  },
  {
   "cell_type": "code",
   "execution_count": 22,
   "metadata": {},
   "outputs": [],
   "source": [
    "%%bash\n",
    "module load daint-gpu\n",
    "module switch PrgEnv-gnu PrgEnv-cray\n",
    "\n",
    "CC static_small_expensive.cpp -fopenmp -o static_small_expensive.x -O3"
   ]
  },
  {
   "cell_type": "code",
   "execution_count": 23,
   "metadata": {},
   "outputs": [
    {
     "name": "stdout",
     "output_type": "stream",
     "text": [
      "5e+06\n",
      "0.111994\n"
     ]
    }
   ],
   "source": [
    "%%bash\n",
    "srun -n 1 ./static_small_expensive.x 10000001 12"
   ]
  },
  {
   "cell_type": "markdown",
   "metadata": {},
   "source": [
    "<div class=\"alert alert-block alert-success\">\n",
    "<b>Now it's your turn...</b><br>\n",
    "B11: How does our time change if we move to a static schedule of size 80? Copy <tt>static_small_expensive.cpp</tt> and change it to have a different policy in <tt>static_large_expensive.cpp</tt>\n",
    "</div>\n"
   ]
  },
  {
   "cell_type": "code",
   "execution_count": 24,
   "metadata": {},
   "outputs": [],
   "source": [
    "%%bash\n",
    "module load daint-gpu\n",
    "module switch PrgEnv-gnu PrgEnv-cray\n",
    "\n",
    "CC static_large_expensive.cpp -fopenmp -o static_large_expensive.x -O3"
   ]
  },
  {
   "cell_type": "code",
   "execution_count": 25,
   "metadata": {},
   "outputs": [
    {
     "name": "stdout",
     "output_type": "stream",
     "text": [
      "5e+06\n",
      "0.118795\n"
     ]
    }
   ],
   "source": [
    "%%bash\n",
    "srun -n 1 ./static_large_expensive.x 10000001 12"
   ]
  },
  {
   "cell_type": "markdown",
   "metadata": {},
   "source": [
    "<div class=\"alert alert-block alert-success\">\n",
    "<b>Now it's your turn...</b><br>\n",
    "B12: How do these two results change if we move to a cheap iteration in just adding up the iteration number? <br><code>output[i] = i + output[i];</code> <br>Explore in <tt>static_small_cheap.cpp</tt> and <tt>static_large_cheap.cpp</tt>\n",
    "</div>\n",
    "\n"
   ]
  },
  {
   "cell_type": "code",
   "execution_count": 26,
   "metadata": {},
   "outputs": [],
   "source": [
    "%%bash\n",
    "module load daint-gpu\n",
    "module switch PrgEnv-gnu PrgEnv-cray\n",
    "\n",
    "CC static_small_cheap.cpp -fopenmp -o static_small_cheap.x -O3\n",
    "CC static_large_cheap.cpp -fopenmp -o static_large_cheap.x -O3\n"
   ]
  },
  {
   "cell_type": "code",
   "execution_count": 27,
   "metadata": {},
   "outputs": [
    {
     "name": "stdout",
     "output_type": "stream",
     "text": [
      "5e+13\n",
      "0.0455393\n"
     ]
    }
   ],
   "source": [
    "%%bash\n",
    "srun -n 1 ./static_small_cheap.x 10000001 12"
   ]
  },
  {
   "cell_type": "code",
   "execution_count": 28,
   "metadata": {},
   "outputs": [
    {
     "name": "stdout",
     "output_type": "stream",
     "text": [
      "5e+13\n",
      "0.0400229\n"
     ]
    }
   ],
   "source": [
    "%%bash\n",
    "srun -n 1 ./static_large_cheap.x 10000001 12"
   ]
  },
  {
   "cell_type": "code",
   "execution_count": 29,
   "metadata": {},
   "outputs": [
    {
     "name": "stdout",
     "output_type": "stream",
     "text": [
      "rm -f *.out weak.txt caching.txt caching2.txt out.txt \n",
      "rm -f -rf *~ *.o *.mod *.MOD *.i core.* *.out *.lst *.x *.x+orig *.x+[0-9]* *.dat *.report report_*.txt out*.txt\n"
     ]
    }
   ],
   "source": [
    "%%bash\n",
    "make clean"
   ]
  }
 ],
 "metadata": {
  "kernelspec": {
   "display_name": "HPC4WC_kernel",
   "language": "python",
   "name": "hpc4wc_kernel"
  },
  "language_info": {
   "codemirror_mode": {
    "name": "ipython",
    "version": 3
   },
   "file_extension": ".py",
   "mimetype": "text/x-python",
   "name": "python",
   "nbconvert_exporter": "python",
   "pygments_lexer": "ipython3",
   "version": "3.9.4"
  }
 },
 "nbformat": 4,
 "nbformat_minor": 4
}
