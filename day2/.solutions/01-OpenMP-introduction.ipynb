{
 "cells": [
  {
   "cell_type": "markdown",
   "metadata": {},
   "source": [
    "# Shared Memory Parallelism Using OpenMP\n",
    "We want to use OpenMP to enable parallel execution of our codes. If multiple workers can do the same job, execution will be sped up."
   ]
  },
  {
   "cell_type": "code",
   "execution_count": 1,
   "metadata": {},
   "outputs": [
    {
     "name": "stdout",
     "output_type": "stream",
     "text": [
      "\u001b[36m#\u001b[39;49;00m\u001b[36minclude\u001b[39;49;00m\u001b[37m \u001b[39;49;00m\u001b[37m<cstdlib>\u001b[39;49;00m\u001b[36m\u001b[39;49;00m\n",
      "\u001b[36m#\u001b[39;49;00m\u001b[36minclude\u001b[39;49;00m\u001b[37m \u001b[39;49;00m\u001b[37m<iostream>\u001b[39;49;00m\u001b[36m\u001b[39;49;00m\n",
      "\u001b[36m#\u001b[39;49;00m\u001b[36minclude\u001b[39;49;00m\u001b[37m \u001b[39;49;00m\u001b[37m<omp.h>\u001b[39;49;00m\u001b[36m\u001b[39;49;00m\n",
      "\u001b[36m#\u001b[39;49;00m\u001b[36minclude\u001b[39;49;00m\u001b[37m \u001b[39;49;00m\u001b[37m<vector>\u001b[39;49;00m\u001b[36m\u001b[39;49;00m\n",
      "\u001b[37m\u001b[39;49;00m\n",
      "\u001b[36mint\u001b[39;49;00m\u001b[37m \u001b[39;49;00m\u001b[32mmain\u001b[39;49;00m(\u001b[36mint\u001b[39;49;00m\u001b[37m \u001b[39;49;00margc,\u001b[37m \u001b[39;49;00m\u001b[36mchar\u001b[39;49;00m\u001b[37m \u001b[39;49;00m\u001b[34mconst\u001b[39;49;00m\u001b[37m \u001b[39;49;00m*argv[])\u001b[37m \u001b[39;49;00m{\u001b[37m\u001b[39;49;00m\n",
      "\u001b[37m  \u001b[39;49;00m\u001b[37m// this is a sequential region\u001b[39;49;00m\n",
      "\u001b[37m  \u001b[39;49;00msrand(\u001b[34m712\u001b[39;49;00m);\u001b[37m\u001b[39;49;00m\n",
      "\u001b[37m  \u001b[39;49;00m\u001b[36mdouble\u001b[39;49;00m\u001b[37m \u001b[39;49;00ma\u001b[37m \u001b[39;49;00m=\u001b[37m \u001b[39;49;00mrand()\u001b[37m \u001b[39;49;00m%\u001b[37m \u001b[39;49;00m\u001b[34m100\u001b[39;49;00m;\u001b[37m\u001b[39;49;00m\n",
      "\u001b[37m  \u001b[39;49;00mstd::cout\u001b[37m \u001b[39;49;00m<<\u001b[37m \u001b[39;49;00mstd::to_string(a)\u001b[37m \u001b[39;49;00m+\u001b[37m \u001b[39;49;00m\u001b[33m\"\u001b[39;49;00m\u001b[33m\\n\u001b[39;49;00m\u001b[33m\\n\u001b[39;49;00m\u001b[33m\"\u001b[39;49;00m;\u001b[37m\u001b[39;49;00m\n",
      "\u001b[37m\u001b[39;49;00m\n",
      "\u001b[37m  \u001b[39;49;00m\u001b[37m// this is a parallel region\u001b[39;49;00m\n",
      "\u001b[36m#\u001b[39;49;00m\u001b[36mpragma omp parallel\u001b[39;49;00m\u001b[36m\u001b[39;49;00m\n",
      "\u001b[37m  \u001b[39;49;00m{\u001b[37m\u001b[39;49;00m\n",
      "\u001b[37m    \u001b[39;49;00m\u001b[36mdouble\u001b[39;49;00m\u001b[37m \u001b[39;49;00mb\u001b[37m \u001b[39;49;00m=\u001b[37m \u001b[39;49;00mrand()\u001b[37m \u001b[39;49;00m%\u001b[37m \u001b[39;49;00m\u001b[34m100\u001b[39;49;00m;\u001b[37m\u001b[39;49;00m\n",
      "\u001b[37m    \u001b[39;49;00mstd::cout\u001b[37m \u001b[39;49;00m<<\u001b[37m \u001b[39;49;00mstd::to_string(b)\u001b[37m \u001b[39;49;00m+\u001b[37m \u001b[39;49;00m\u001b[33m\"\u001b[39;49;00m\u001b[33m\\n\u001b[39;49;00m\u001b[33m\"\u001b[39;49;00m;\u001b[37m\u001b[39;49;00m\n",
      "\u001b[37m  \u001b[39;49;00m}\u001b[37m\u001b[39;49;00m\n",
      "\u001b[37m\u001b[39;49;00m\n",
      "\u001b[37m  \u001b[39;49;00m\u001b[37m// this is a sequential region\u001b[39;49;00m\n",
      "\u001b[37m  \u001b[39;49;00mstd::cout\u001b[37m \u001b[39;49;00m<<\u001b[37m \u001b[39;49;00m\u001b[33m\"\u001b[39;49;00m\u001b[33m\\n\u001b[39;49;00m\u001b[33mthis is a sequential region again\u001b[39;49;00m\u001b[33m\\n\u001b[39;49;00m\u001b[33m\"\u001b[39;49;00m;\u001b[37m\u001b[39;49;00m\n",
      "\u001b[37m\u001b[39;49;00m\n",
      "\u001b[37m  \u001b[39;49;00mstd::cout\u001b[37m \u001b[39;49;00m<<\u001b[37m \u001b[39;49;00mstd::flush;\u001b[37m\u001b[39;49;00m\n",
      "}\u001b[37m\u001b[39;49;00m\n"
     ]
    }
   ],
   "source": [
    "pygmentize omp_examples/a01-parallel.cpp"
   ]
  },
  {
   "cell_type": "markdown",
   "metadata": {},
   "source": [
    "We need to tell the compiler that our program contains OpenMP pragmas with the `-fopenmp` option."
   ]
  },
  {
   "cell_type": "code",
   "execution_count": 2,
   "metadata": {},
   "outputs": [],
   "source": [
    "g++ omp_examples/a01-parallel.cpp -fopenmp -o parallel.out"
   ]
  },
  {
   "cell_type": "markdown",
   "metadata": {},
   "source": [
    "Now we can run the generated executable."
   ]
  },
  {
   "cell_type": "code",
   "execution_count": 3,
   "metadata": {},
   "outputs": [
    {
     "name": "stdout",
     "output_type": "stream",
     "text": [
      "22.000000\n",
      "\n",
      "12.000000\n",
      "83.000000\n",
      "81.000000\n",
      "49.000000\n",
      "38.000000\n",
      "76.000000\n",
      "31.000000\n",
      "3.000000\n",
      "48.000000\n",
      "2.000000\n",
      "93.000000\n",
      "54.000000\n",
      "97.000000\n",
      "25.000000\n",
      "37.000000\n",
      "56.000000\n",
      "42.000000\n",
      "13.000000\n",
      "89.000000\n",
      "51.000000\n",
      "45.000000\n",
      "15.000000\n",
      "59.000000\n",
      "65.000000\n",
      "\n",
      "this is a sequential region again\n"
     ]
    }
   ],
   "source": [
    "./parallel.out"
   ]
  },
  {
   "cell_type": "markdown",
   "metadata": {},
   "source": [
    "<div class=\"alert alert-block alert-warning\">\n",
    "    We see that each worker is entering the parallel region and executes the code independent of the other workers.<br>\n",
    "    If we repeat the same block multiple times we see that there is no deterministic answer as the order changes. We see thought that the numbers printed are always the same\n",
    "</div>    "
   ]
  },
  {
   "cell_type": "markdown",
   "metadata": {},
   "source": [
    "<div class=\"alert alert-block alert-info\">\n",
    "<b>Now it's your turn...</b><br>\n",
    "<b>1.</b> Can you explain why the numbers are the same but the order is jumbled up?\n",
    "    \n",
    "<b>2.</b> Why do you see the number of outputs?\n",
    "</div>"
   ]
  },
  {
   "cell_type": "markdown",
   "metadata": {},
   "source": [
    "1: We are seeding the random number generator, so we have consistent output. Every thread writes the same number every execution. There is no way of guaranteeing the oder of operations though.\n",
    "\n",
    "2: The default on daint is that we use all 24 (virtual) cores available. "
   ]
  },
  {
   "cell_type": "markdown",
   "metadata": {},
   "source": [
    "## Infos About the Region\n",
    "OpenMP allows to get the information about number of threads present in each parallel region"
   ]
  },
  {
   "cell_type": "code",
   "execution_count": 4,
   "metadata": {},
   "outputs": [
    {
     "name": "stdout",
     "output_type": "stream",
     "text": [
      "\u001b[36m#\u001b[39;49;00m\u001b[36minclude\u001b[39;49;00m\u001b[37m \u001b[39;49;00m\u001b[37m<cstdlib>\u001b[39;49;00m\u001b[36m\u001b[39;49;00m\n",
      "\u001b[36m#\u001b[39;49;00m\u001b[36minclude\u001b[39;49;00m\u001b[37m \u001b[39;49;00m\u001b[37m<iostream>\u001b[39;49;00m\u001b[36m\u001b[39;49;00m\n",
      "\u001b[36m#\u001b[39;49;00m\u001b[36minclude\u001b[39;49;00m\u001b[37m \u001b[39;49;00m\u001b[37m<omp.h>\u001b[39;49;00m\u001b[36m\u001b[39;49;00m\n",
      "\u001b[36m#\u001b[39;49;00m\u001b[36minclude\u001b[39;49;00m\u001b[37m \u001b[39;49;00m\u001b[37m<vector>\u001b[39;49;00m\u001b[36m\u001b[39;49;00m\n",
      "\u001b[37m\u001b[39;49;00m\n",
      "\u001b[36mint\u001b[39;49;00m\u001b[37m \u001b[39;49;00m\u001b[32mmain\u001b[39;49;00m(\u001b[36mint\u001b[39;49;00m\u001b[37m \u001b[39;49;00margc,\u001b[37m \u001b[39;49;00m\u001b[36mchar\u001b[39;49;00m\u001b[37m \u001b[39;49;00m\u001b[34mconst\u001b[39;49;00m*\u001b[37m \u001b[39;49;00margv[])\u001b[37m \u001b[39;49;00m{\u001b[37m\u001b[39;49;00m\n",
      "\u001b[36m#\u001b[39;49;00m\u001b[36mpragma omp parallel\u001b[39;49;00m\u001b[36m\u001b[39;49;00m\n",
      "\u001b[37m  \u001b[39;49;00m{\u001b[37m\u001b[39;49;00m\n",
      "\u001b[37m    \u001b[39;49;00m\u001b[36mint\u001b[39;49;00m\u001b[37m \u001b[39;49;00msize\u001b[37m \u001b[39;49;00m=\u001b[37m \u001b[39;49;00momp_get_num_threads();\u001b[37m\u001b[39;49;00m\n",
      "\u001b[37m    \u001b[39;49;00m\u001b[36mint\u001b[39;49;00m\u001b[37m \u001b[39;49;00mrank\u001b[37m \u001b[39;49;00m=\u001b[37m \u001b[39;49;00momp_get_thread_num();\u001b[37m\u001b[39;49;00m\n",
      "\u001b[36m#\u001b[39;49;00m\u001b[36mpragma omp critical(output)\u001b[39;49;00m\u001b[36m\u001b[39;49;00m\n",
      "\u001b[37m    \u001b[39;49;00mstd::cout\u001b[37m \u001b[39;49;00m<<\u001b[37m \u001b[39;49;00m\u001b[33m\"\u001b[39;49;00m\u001b[33mI am thread \u001b[39;49;00m\u001b[33m\"\u001b[39;49;00m\u001b[37m \u001b[39;49;00m<<\u001b[37m \u001b[39;49;00mrank\u001b[37m \u001b[39;49;00m<<\u001b[37m \u001b[39;49;00m\u001b[33m\"\u001b[39;49;00m\u001b[33m of a total of \u001b[39;49;00m\u001b[33m\"\u001b[39;49;00m\u001b[37m \u001b[39;49;00m<<\u001b[37m \u001b[39;49;00msize\u001b[37m \u001b[39;49;00m<<\u001b[37m \u001b[39;49;00m\u001b[33m\"\u001b[39;49;00m\u001b[33m threads\u001b[39;49;00m\u001b[33m\"\u001b[39;49;00m\u001b[37m \u001b[39;49;00m<<\u001b[37m \u001b[39;49;00mstd::endl;\u001b[37m\u001b[39;49;00m\n",
      "\u001b[37m  \u001b[39;49;00m}\u001b[37m\u001b[39;49;00m\n",
      "}\u001b[37m\u001b[39;49;00m\n"
     ]
    }
   ],
   "source": [
    "pygmentize omp_examples/a02-infos.cpp"
   ]
  },
  {
   "cell_type": "code",
   "execution_count": 5,
   "metadata": {},
   "outputs": [
    {
     "name": "stdout",
     "output_type": "stream",
     "text": [
      "I am thread 12 of a total of 24 threads\n",
      "I am thread 9 of a total of 24 threads\n",
      "I am thread 21 of a total of 24 threads\n",
      "I am thread 14 of a total of 24 threads\n",
      "I am thread 19 of a total of 24 threads\n",
      "I am thread 1 of a total of 24 threads\n",
      "I am thread 3 of a total of 24 threads\n",
      "I am thread 15 of a total of 24 threads\n",
      "I am thread 23 of a total of 24 threads\n",
      "I am thread 4 of a total of 24 threads\n",
      "I am thread 11 of a total of 24 threads\n",
      "I am thread 20 of a total of 24 threads\n",
      "I am thread 13 of a total of 24 threads\n",
      "I am thread 8 of a total of 24 threads\n",
      "I am thread 18 of a total of 24 threads\n",
      "I am thread 6 of a total of 24 threads\n",
      "I am thread 5 of a total of 24 threads\n",
      "I am thread 17 of a total of 24 threads\n",
      "I am thread 0 of a total of 24 threads\n",
      "I am thread 16 of a total of 24 threads\n",
      "I am thread 2 of a total of 24 threads\n",
      "I am thread 7 of a total of 24 threads\n",
      "I am thread 22 of a total of 24 threads\n",
      "I am thread 10 of a total of 24 threads\n"
     ]
    }
   ],
   "source": [
    "g++ omp_examples/a02-infos.cpp -fopenmp -o infos.out && ./infos.out"
   ]
  },
  {
   "cell_type": "markdown",
   "metadata": {},
   "source": [
    "<div class=\"alert alert-block alert-warning\">\n",
    "    We can inspect the current thread number and the total number of threads via intrinsics\n",
    "</div>    "
   ]
  },
  {
   "cell_type": "markdown",
   "metadata": {},
   "source": [
    "<div class=\"alert alert-block alert-info\">\n",
    "<b>Now it's your turn...</b><br>\n",
    "<b>3.</b> Can you think of a good reason why this information might be useful?\n",
    "    \n",
    "</div>"
   ]
  },
  {
   "cell_type": "markdown",
   "metadata": {},
   "source": [
    "3: \n",
    "- Each thread doing local work and storing it in it's own element of an array\n",
    "- Threads working on local work having to communicate with thread that are neighboring"
   ]
  },
  {
   "cell_type": "markdown",
   "metadata": {},
   "source": [
    "## Setting the Number of Threads\n",
    "We can do this either on each parallel region or with an environment variable"
   ]
  },
  {
   "cell_type": "code",
   "execution_count": 6,
   "metadata": {},
   "outputs": [
    {
     "name": "stdout",
     "output_type": "stream",
     "text": [
      "\u001b[36m#\u001b[39;49;00m\u001b[36minclude\u001b[39;49;00m\u001b[37m \u001b[39;49;00m\u001b[37m<cstdlib>\u001b[39;49;00m\u001b[36m\u001b[39;49;00m\n",
      "\u001b[36m#\u001b[39;49;00m\u001b[36minclude\u001b[39;49;00m\u001b[37m \u001b[39;49;00m\u001b[37m<iostream>\u001b[39;49;00m\u001b[36m\u001b[39;49;00m\n",
      "\u001b[36m#\u001b[39;49;00m\u001b[36minclude\u001b[39;49;00m\u001b[37m \u001b[39;49;00m\u001b[37m<omp.h>\u001b[39;49;00m\u001b[36m\u001b[39;49;00m\n",
      "\u001b[36m#\u001b[39;49;00m\u001b[36minclude\u001b[39;49;00m\u001b[37m \u001b[39;49;00m\u001b[37m<vector>\u001b[39;49;00m\u001b[36m\u001b[39;49;00m\n",
      "\u001b[37m\u001b[39;49;00m\n",
      "\u001b[36mint\u001b[39;49;00m\u001b[37m \u001b[39;49;00m\u001b[32mmain\u001b[39;49;00m(\u001b[36mint\u001b[39;49;00m\u001b[37m \u001b[39;49;00margc,\u001b[37m \u001b[39;49;00m\u001b[36mchar\u001b[39;49;00m\u001b[37m \u001b[39;49;00m\u001b[34mconst\u001b[39;49;00m*\u001b[37m \u001b[39;49;00margv[])\u001b[37m \u001b[39;49;00m{\u001b[37m\u001b[39;49;00m\n",
      "\u001b[37m\u001b[39;49;00m\n",
      "\u001b[36m#\u001b[39;49;00m\u001b[36mpragma omp parallel num_threads(2)\u001b[39;49;00m\u001b[36m\u001b[39;49;00m\n",
      "\u001b[37m  \u001b[39;49;00m{\u001b[37m\u001b[39;49;00m\n",
      "\u001b[37m    \u001b[39;49;00m\u001b[36mint\u001b[39;49;00m\u001b[37m \u001b[39;49;00msize\u001b[37m \u001b[39;49;00m=\u001b[37m \u001b[39;49;00momp_get_num_threads();\u001b[37m\u001b[39;49;00m\n",
      "\u001b[37m    \u001b[39;49;00m\u001b[36mint\u001b[39;49;00m\u001b[37m \u001b[39;49;00mrank\u001b[37m \u001b[39;49;00m=\u001b[37m \u001b[39;49;00momp_get_thread_num();\u001b[37m\u001b[39;49;00m\n",
      "\u001b[36m#\u001b[39;49;00m\u001b[36mpragma omp critical(output)\u001b[39;49;00m\u001b[36m\u001b[39;49;00m\n",
      "\u001b[37m    \u001b[39;49;00mstd::cout\u001b[37m \u001b[39;49;00m<<\u001b[37m \u001b[39;49;00m\u001b[33m\"\u001b[39;49;00m\u001b[33mI am rank \u001b[39;49;00m\u001b[33m\"\u001b[39;49;00m\u001b[37m \u001b[39;49;00m<<\u001b[37m \u001b[39;49;00mrank\u001b[37m \u001b[39;49;00m<<\u001b[37m \u001b[39;49;00m\u001b[33m\"\u001b[39;49;00m\u001b[33m of a total of \u001b[39;49;00m\u001b[33m\"\u001b[39;49;00m\u001b[37m \u001b[39;49;00m<<\u001b[37m \u001b[39;49;00msize\u001b[37m \u001b[39;49;00m<<\u001b[37m \u001b[39;49;00m\u001b[33m\"\u001b[39;49;00m\u001b[33m threads\u001b[39;49;00m\u001b[33m\"\u001b[39;49;00m\u001b[37m \u001b[39;49;00m<<\u001b[37m \u001b[39;49;00mstd::endl;\u001b[37m\u001b[39;49;00m\n",
      "\u001b[37m  \u001b[39;49;00m}\u001b[37m\u001b[39;49;00m\n",
      "}\u001b[37m\u001b[39;49;00m\n"
     ]
    }
   ],
   "source": [
    "pygmentize omp_examples/a03-threadnum.cpp"
   ]
  },
  {
   "cell_type": "code",
   "execution_count": 7,
   "metadata": {},
   "outputs": [
    {
     "name": "stdout",
     "output_type": "stream",
     "text": [
      "I am rank 0 of a total of 2 threads\n",
      "I am rank 1 of a total of 2 threads\n"
     ]
    }
   ],
   "source": [
    "g++ omp_examples/a03-threadnum.cpp -fopenmp -o threadnum.out && ./threadnum.out"
   ]
  },
  {
   "cell_type": "markdown",
   "metadata": {},
   "source": [
    "<div class=\"alert alert-block alert-warning\">\n",
    "    We can set the number of threads with the <code>num_threads</code> keyword for parallel regions\n",
    "</div>"
   ]
  },
  {
   "cell_type": "code",
   "execution_count": 8,
   "metadata": {},
   "outputs": [
    {
     "name": "stdout",
     "output_type": "stream",
     "text": [
      "I am thread 0 of a total of 4 threads\n",
      "I am thread 2 of a total of 4 threads\n",
      "I am thread 3 of a total of 4 threads\n",
      "I am thread 1 of a total of 4 threads\n"
     ]
    }
   ],
   "source": [
    "OMP_NUM_THREADS=4 ./infos.out"
   ]
  },
  {
   "cell_type": "markdown",
   "metadata": {},
   "source": [
    "<div class=\"alert alert-block alert-warning\">\n",
    "    We can set the number of threads to use when nothing is specified with the <code>OMP_NUM_THREADS</code> environment variable.\n",
    "</div>"
   ]
  },
  {
   "cell_type": "code",
   "execution_count": 9,
   "metadata": {},
   "outputs": [
    {
     "name": "stdout",
     "output_type": "stream",
     "text": [
      "I am rank 0 of a total of 2 threads\n",
      "I am rank 1 of a total of 2 threads\n"
     ]
    }
   ],
   "source": [
    "OMP_NUM_THREADS=4 ./threadnum.out"
   ]
  },
  {
   "cell_type": "markdown",
   "metadata": {},
   "source": [
    "<div class=\"alert alert-block alert-warning\">\n",
    "    We see that <code>num_threads</code> takes presedence over <code>OMP_NUM_THREADS</code>\n",
    "</div>"
   ]
  },
  {
   "cell_type": "markdown",
   "metadata": {},
   "source": [
    "<div class=\"alert alert-block alert-info\">\n",
    "<b>Now it's your turn...</b><br>\n",
    "<b>4.</b> Why do you think num_threads is higher up in the order of precedence?<br>\n",
    "<b>5.</b> Why do we need to ways of controlling this are these two ways fulfilling the same purpose?\n",
    "</div>"
   ]
  },
  {
   "cell_type": "markdown",
   "metadata": {},
   "source": [
    "<b>4.</b> We can optimize certain codes an fixed numbers of workers. If we have such a code we do not want the environment to overwrite this.<br>\n",
    "<b>5.</b> We have more fine-grained control over the number of threads on a per-block basis compared to a global default value. \n",
    "    "
   ]
  },
  {
   "cell_type": "markdown",
   "metadata": {},
   "source": [
    "## Parallel Loops\n",
    "Since loops are such an important concept to parallelize, there is a special directive for it."
   ]
  },
  {
   "cell_type": "code",
   "execution_count": 10,
   "metadata": {},
   "outputs": [
    {
     "name": "stdout",
     "output_type": "stream",
     "text": [
      "\u001b[36m#\u001b[39;49;00m\u001b[36minclude\u001b[39;49;00m\u001b[37m \u001b[39;49;00m\u001b[37m<cstdlib>\u001b[39;49;00m\u001b[36m\u001b[39;49;00m\n",
      "\u001b[36m#\u001b[39;49;00m\u001b[36minclude\u001b[39;49;00m\u001b[37m \u001b[39;49;00m\u001b[37m<iostream>\u001b[39;49;00m\u001b[36m\u001b[39;49;00m\n",
      "\u001b[36m#\u001b[39;49;00m\u001b[36minclude\u001b[39;49;00m\u001b[37m \u001b[39;49;00m\u001b[37m<omp.h>\u001b[39;49;00m\u001b[36m\u001b[39;49;00m\n",
      "\u001b[36m#\u001b[39;49;00m\u001b[36minclude\u001b[39;49;00m\u001b[37m \u001b[39;49;00m\u001b[37m<vector>\u001b[39;49;00m\u001b[36m\u001b[39;49;00m\n",
      "\u001b[37m\u001b[39;49;00m\n",
      "\u001b[36mint\u001b[39;49;00m\u001b[37m \u001b[39;49;00m\u001b[32mmain\u001b[39;49;00m(\u001b[36mint\u001b[39;49;00m\u001b[37m \u001b[39;49;00margc,\u001b[37m \u001b[39;49;00m\u001b[36mchar\u001b[39;49;00m\u001b[37m \u001b[39;49;00m\u001b[34mconst\u001b[39;49;00m*\u001b[37m \u001b[39;49;00margv[])\u001b[37m \u001b[39;49;00m{\u001b[37m\u001b[39;49;00m\n",
      "\u001b[37m\u001b[39;49;00m\n",
      "\u001b[37m// parallel loop\u001b[39;49;00m\n",
      "\u001b[36m#\u001b[39;49;00m\u001b[36mpragma omp parallel for\u001b[39;49;00m\u001b[36m\u001b[39;49;00m\n",
      "\u001b[37m  \u001b[39;49;00m\u001b[34mfor\u001b[39;49;00m(\u001b[36mint\u001b[39;49;00m\u001b[37m \u001b[39;49;00mi\u001b[37m \u001b[39;49;00m=\u001b[37m \u001b[39;49;00m\u001b[34m0\u001b[39;49;00m;\u001b[37m \u001b[39;49;00mi\u001b[37m \u001b[39;49;00m<\u001b[37m \u001b[39;49;00m\u001b[34m10\u001b[39;49;00m;\u001b[37m \u001b[39;49;00m++i)\u001b[37m \u001b[39;49;00m{\u001b[37m\u001b[39;49;00m\n",
      "\u001b[36m#\u001b[39;49;00m\u001b[36mpragma omp critical(output)\u001b[39;49;00m\u001b[36m\u001b[39;49;00m\n",
      "\u001b[37m    \u001b[39;49;00mstd::cout\u001b[37m \u001b[39;49;00m<<\u001b[37m \u001b[39;49;00m\u001b[33m\"\u001b[39;49;00m\u001b[33mThis is iteration \u001b[39;49;00m\u001b[33m\"\u001b[39;49;00m\u001b[37m \u001b[39;49;00m<<\u001b[37m \u001b[39;49;00mi\u001b[37m \u001b[39;49;00m<<\u001b[37m \u001b[39;49;00m\u001b[33m\"\u001b[39;49;00m\u001b[33m executed from thread \u001b[39;49;00m\u001b[33m\"\u001b[39;49;00m\u001b[37m \u001b[39;49;00m<<\u001b[37m \u001b[39;49;00momp_get_thread_num()\u001b[37m\u001b[39;49;00m\n",
      "\u001b[37m              \u001b[39;49;00m<<\u001b[37m \u001b[39;49;00mstd::endl;\u001b[37m\u001b[39;49;00m\n",
      "\u001b[37m  \u001b[39;49;00m}\u001b[37m\u001b[39;49;00m\n",
      "}\u001b[37m\u001b[39;49;00m\n"
     ]
    }
   ],
   "source": [
    "pygmentize omp_examples/a04-loops.cpp"
   ]
  },
  {
   "cell_type": "code",
   "execution_count": 12,
   "metadata": {},
   "outputs": [],
   "source": [
    "g++ omp_examples/a04-loops.cpp -fopenmp -o loops.out"
   ]
  },
  {
   "cell_type": "code",
   "execution_count": 13,
   "metadata": {},
   "outputs": [
    {
     "name": "stdout",
     "output_type": "stream",
     "text": [
      "This is iteration 0 executed from thread 0\n",
      "This is iteration 1 executed from thread 0\n",
      "This is iteration 8 executed from thread 3\n",
      "This is iteration 9 executed from thread 3\n",
      "This is iteration 2 executed from thread 0\n",
      "This is iteration 6 executed from thread 2\n",
      "This is iteration 7 executed from thread 2\n",
      "This is iteration 3 executed from thread 1\n",
      "This is iteration 4 executed from thread 1\n",
      "This is iteration 5 executed from thread 1\n"
     ]
    }
   ],
   "source": [
    "OMP_NUM_THREADS=4 ./loops.out"
   ]
  },
  {
   "cell_type": "markdown",
   "metadata": {},
   "source": [
    "<div class=\"alert alert-block alert-warning\">\n",
    "    We see that the loop order is not preserved, threads take diffent amout of iterations and are not sorted\n",
    "</div>"
   ]
  },
  {
   "cell_type": "markdown",
   "metadata": {},
   "source": [
    "<div class=\"alert alert-block alert-info\">\n",
    "<b>Now it's your turn...</b><br>\n",
    "<b>6.</b> Since this is an existing concept it has it's applications. Can you think of a simple example where the loop order does not matter? Can you also think of one where an unordered loop will break the program flow?<br>\n",
    "    \n",
    "</div>"
   ]
  },
  {
   "cell_type": "markdown",
   "metadata": {},
   "source": [
    "6a: Any stencil computation. (The output is not the input)\n",
    "\n",
    "6b: For example the circuit value problem: For a set of circuits and a given input, generate the output."
   ]
  },
  {
   "cell_type": "code",
   "execution_count": 14,
   "metadata": {},
   "outputs": [
    {
     "name": "stdout",
     "output_type": "stream",
     "text": [
      "This is iteration 0 executed from thread 0\n",
      "This is iteration 6 executed from thread 6\n",
      "This is iteration 1 executed from thread 1\n",
      "This is iteration 4 executed from thread 4\n",
      "This is iteration 5 executed from thread 5\n",
      "This is iteration 9 executed from thread 9\n",
      "This is iteration 3 executed from thread 3\n",
      "This is iteration 7 executed from thread 7\n",
      "This is iteration 8 executed from thread 8\n",
      "This is iteration 2 executed from thread 2\n"
     ]
    }
   ],
   "source": [
    "OMP_NUM_THREADS=12 ./loops.out"
   ]
  },
  {
   "cell_type": "markdown",
   "metadata": {},
   "source": [
    "<div class=\"alert alert-block alert-warning\">\n",
    "    If more threads than loop iterations are available, only the first set of threads is used\n",
    "</div>"
   ]
  },
  {
   "cell_type": "markdown",
   "metadata": {},
   "source": [
    "## Scheduling\n",
    "<div class=\"alert alert-block alert-danger\">\n",
    "This is an important concept to understand but is not necessarily used in our example\n",
    "</div>\n",
    "\n",
    "Controlling the loop execution with the `schedule` directive might be important for performance. Since the work is oftentimes similar in weather and climate codes this is not super important for our example but is still a concept worth knowing."
   ]
  },
  {
   "cell_type": "code",
   "execution_count": 15,
   "metadata": {},
   "outputs": [
    {
     "name": "stdout",
     "output_type": "stream",
     "text": [
      "\u001b[36m#\u001b[39;49;00m\u001b[36minclude\u001b[39;49;00m\u001b[37m \u001b[39;49;00m\u001b[37m<cstdlib>\u001b[39;49;00m\u001b[36m\u001b[39;49;00m\n",
      "\u001b[36m#\u001b[39;49;00m\u001b[36minclude\u001b[39;49;00m\u001b[37m \u001b[39;49;00m\u001b[37m<iostream>\u001b[39;49;00m\u001b[36m\u001b[39;49;00m\n",
      "\u001b[36m#\u001b[39;49;00m\u001b[36minclude\u001b[39;49;00m\u001b[37m \u001b[39;49;00m\u001b[37m<omp.h>\u001b[39;49;00m\u001b[36m\u001b[39;49;00m\n",
      "\u001b[36m#\u001b[39;49;00m\u001b[36minclude\u001b[39;49;00m\u001b[37m \u001b[39;49;00m\u001b[37m<vector>\u001b[39;49;00m\u001b[36m\u001b[39;49;00m\n",
      "\u001b[37m\u001b[39;49;00m\n",
      "\u001b[36mint\u001b[39;49;00m\u001b[37m \u001b[39;49;00m\u001b[32mmain\u001b[39;49;00m(\u001b[36mint\u001b[39;49;00m\u001b[37m \u001b[39;49;00margc,\u001b[37m \u001b[39;49;00m\u001b[36mchar\u001b[39;49;00m\u001b[37m \u001b[39;49;00m\u001b[34mconst\u001b[39;49;00m*\u001b[37m \u001b[39;49;00margv[])\u001b[37m \u001b[39;49;00m{\u001b[37m\u001b[39;49;00m\n",
      "\u001b[37m\u001b[39;49;00m\n",
      "\u001b[37m  \u001b[39;49;00mstd::cout\u001b[37m \u001b[39;49;00m<<\u001b[37m \u001b[39;49;00m\u001b[33m\"\u001b[39;49;00m\u001b[33mschedule(static, 2)\u001b[39;49;00m\u001b[33m\"\u001b[39;49;00m\u001b[37m \u001b[39;49;00m<<\u001b[37m \u001b[39;49;00mstd::endl;\u001b[37m\u001b[39;49;00m\n",
      "\u001b[36m#\u001b[39;49;00m\u001b[36mpragma omp parallel for schedule(static, 2)\u001b[39;49;00m\u001b[36m\u001b[39;49;00m\n",
      "\u001b[37m  \u001b[39;49;00m\u001b[34mfor\u001b[39;49;00m(std::\u001b[36msize_t\u001b[39;49;00m\u001b[37m \u001b[39;49;00mi\u001b[37m \u001b[39;49;00m=\u001b[37m \u001b[39;49;00m\u001b[34m0\u001b[39;49;00m;\u001b[37m \u001b[39;49;00mi\u001b[37m \u001b[39;49;00m<\u001b[37m \u001b[39;49;00m\u001b[34m10\u001b[39;49;00m;\u001b[37m \u001b[39;49;00m++i)\u001b[37m \u001b[39;49;00m{\u001b[37m\u001b[39;49;00m\n",
      "\u001b[36m#\u001b[39;49;00m\u001b[36mpragma omp critical(output)\u001b[39;49;00m\u001b[36m\u001b[39;49;00m\n",
      "\u001b[37m    \u001b[39;49;00mstd::cout\u001b[37m \u001b[39;49;00m<<\u001b[37m \u001b[39;49;00m\u001b[33m\"\u001b[39;49;00m\u001b[33mThis is iteration \u001b[39;49;00m\u001b[33m\"\u001b[39;49;00m\u001b[37m \u001b[39;49;00m<<\u001b[37m \u001b[39;49;00mi\u001b[37m \u001b[39;49;00m<<\u001b[37m \u001b[39;49;00m\u001b[33m\"\u001b[39;49;00m\u001b[33m executed from thread \u001b[39;49;00m\u001b[33m\"\u001b[39;49;00m\u001b[37m \u001b[39;49;00m<<\u001b[37m \u001b[39;49;00momp_get_thread_num()\u001b[37m\u001b[39;49;00m\n",
      "\u001b[37m              \u001b[39;49;00m<<\u001b[37m \u001b[39;49;00mstd::endl;\u001b[37m\u001b[39;49;00m\n",
      "\u001b[37m  \u001b[39;49;00m}\u001b[37m\u001b[39;49;00m\n",
      "\u001b[37m  \u001b[39;49;00mstd::cout\u001b[37m \u001b[39;49;00m<<\u001b[37m \u001b[39;49;00m\u001b[33m\"\u001b[39;49;00m\u001b[33mschedule(static, 1)\u001b[39;49;00m\u001b[33m\"\u001b[39;49;00m\u001b[37m \u001b[39;49;00m<<\u001b[37m \u001b[39;49;00mstd::endl;\u001b[37m\u001b[39;49;00m\n",
      "\u001b[36m#\u001b[39;49;00m\u001b[36mpragma omp parallel for schedule(static, 1)\u001b[39;49;00m\u001b[36m\u001b[39;49;00m\n",
      "\u001b[37m  \u001b[39;49;00m\u001b[34mfor\u001b[39;49;00m(std::\u001b[36msize_t\u001b[39;49;00m\u001b[37m \u001b[39;49;00mi\u001b[37m \u001b[39;49;00m=\u001b[37m \u001b[39;49;00m\u001b[34m0\u001b[39;49;00m;\u001b[37m \u001b[39;49;00mi\u001b[37m \u001b[39;49;00m<\u001b[37m \u001b[39;49;00m\u001b[34m10\u001b[39;49;00m;\u001b[37m \u001b[39;49;00m++i)\u001b[37m \u001b[39;49;00m{\u001b[37m\u001b[39;49;00m\n",
      "\u001b[36m#\u001b[39;49;00m\u001b[36mpragma omp critical(output)\u001b[39;49;00m\u001b[36m\u001b[39;49;00m\n",
      "\u001b[37m    \u001b[39;49;00mstd::cout\u001b[37m \u001b[39;49;00m<<\u001b[37m \u001b[39;49;00m\u001b[33m\"\u001b[39;49;00m\u001b[33mThis is iteration \u001b[39;49;00m\u001b[33m\"\u001b[39;49;00m\u001b[37m \u001b[39;49;00m<<\u001b[37m \u001b[39;49;00mi\u001b[37m \u001b[39;49;00m<<\u001b[37m \u001b[39;49;00m\u001b[33m\"\u001b[39;49;00m\u001b[33m executed from thread \u001b[39;49;00m\u001b[33m\"\u001b[39;49;00m\u001b[37m \u001b[39;49;00m<<\u001b[37m \u001b[39;49;00momp_get_thread_num()\u001b[37m\u001b[39;49;00m\n",
      "\u001b[37m              \u001b[39;49;00m<<\u001b[37m \u001b[39;49;00mstd::endl;\u001b[37m\u001b[39;49;00m\n",
      "\u001b[37m  \u001b[39;49;00m}\u001b[37m\u001b[39;49;00m\n",
      "}\u001b[37m\u001b[39;49;00m\n"
     ]
    }
   ],
   "source": [
    "pygmentize omp_examples/a05-schedule.cpp"
   ]
  },
  {
   "cell_type": "code",
   "execution_count": 17,
   "metadata": {},
   "outputs": [],
   "source": [
    "g++ omp_examples/a05-schedule.cpp -fopenmp -o schedule.out"
   ]
  },
  {
   "cell_type": "code",
   "execution_count": 18,
   "metadata": {},
   "outputs": [
    {
     "name": "stdout",
     "output_type": "stream",
     "text": [
      "schedule(static, 2)\n",
      "This is iteration 0 executed from thread 0\n",
      "This is iteration 1 executed from thread 0\n",
      "This is iteration 4 executed from thread 0\n",
      "This is iteration 5 executed from thread 0\n",
      "This is iteration 8 executed from thread 0\n",
      "This is iteration 9 executed from thread 0\n",
      "This is iteration 2 executed from thread 1\n",
      "This is iteration 3 executed from thread 1\n",
      "This is iteration 6 executed from thread 1\n",
      "This is iteration 7 executed from thread 1\n",
      "schedule(static, 1)\n",
      "This is iteration 1 executed from thread 1\n",
      "This is iteration 3 executed from thread 1\n",
      "This is iteration 5 executed from thread 1\n",
      "This is iteration 7 executed from thread 1\n",
      "This is iteration 9 executed from thread 1\n",
      "This is iteration 0 executed from thread 0\n",
      "This is iteration 2 executed from thread 0\n",
      "This is iteration 4 executed from thread 0\n",
      "This is iteration 6 executed from thread 0\n",
      "This is iteration 8 executed from thread 0\n"
     ]
    }
   ],
   "source": [
    "OMP_NUM_THREADS=2 ./schedule.out"
   ]
  },
  {
   "cell_type": "markdown",
   "metadata": {},
   "source": [
    "<div class=\"alert alert-block alert-warning\">\n",
    "    Static scheduling allows us to assign chunks of the iteration to the same thread\n",
    "</div>"
   ]
  },
  {
   "cell_type": "markdown",
   "metadata": {},
   "source": [
    "## Variable Scoping\n",
    "We try to understand how variables are scoped, who owns them at which parts of the code and who can see effects of writing them."
   ]
  },
  {
   "cell_type": "code",
   "execution_count": 19,
   "metadata": {},
   "outputs": [
    {
     "name": "stdout",
     "output_type": "stream",
     "text": [
      "\u001b[36m#\u001b[39;49;00m\u001b[36minclude\u001b[39;49;00m\u001b[37m \u001b[39;49;00m\u001b[37m<cstdlib>\u001b[39;49;00m\u001b[36m\u001b[39;49;00m\n",
      "\u001b[36m#\u001b[39;49;00m\u001b[36minclude\u001b[39;49;00m\u001b[37m \u001b[39;49;00m\u001b[37m<iostream>\u001b[39;49;00m\u001b[36m\u001b[39;49;00m\n",
      "\u001b[36m#\u001b[39;49;00m\u001b[36minclude\u001b[39;49;00m\u001b[37m \u001b[39;49;00m\u001b[37m<omp.h>\u001b[39;49;00m\u001b[36m\u001b[39;49;00m\n",
      "\u001b[36m#\u001b[39;49;00m\u001b[36minclude\u001b[39;49;00m\u001b[37m \u001b[39;49;00m\u001b[37m<vector>\u001b[39;49;00m\u001b[36m\u001b[39;49;00m\n",
      "\u001b[37m\u001b[39;49;00m\n",
      "\u001b[36mint\u001b[39;49;00m\u001b[37m \u001b[39;49;00m\u001b[32mmain\u001b[39;49;00m(\u001b[36mint\u001b[39;49;00m\u001b[37m \u001b[39;49;00margc,\u001b[37m \u001b[39;49;00m\u001b[36mchar\u001b[39;49;00m\u001b[37m \u001b[39;49;00m\u001b[34mconst\u001b[39;49;00m*\u001b[37m \u001b[39;49;00margv[])\u001b[37m \u001b[39;49;00m{\u001b[37m\u001b[39;49;00m\n",
      "\u001b[37m\u001b[39;49;00m\n",
      "\u001b[37m  \u001b[39;49;00m\u001b[36mint\u001b[39;49;00m\u001b[37m \u001b[39;49;00mmyvar\u001b[37m \u001b[39;49;00m=\u001b[37m \u001b[39;49;00m\u001b[34m-1\u001b[39;49;00m;\u001b[37m\u001b[39;49;00m\n",
      "\u001b[36m#\u001b[39;49;00m\u001b[36mpragma omp parallel for num_threads(3)\u001b[39;49;00m\u001b[36m\u001b[39;49;00m\n",
      "\u001b[37m  \u001b[39;49;00m\u001b[34mfor\u001b[39;49;00m(std::\u001b[36msize_t\u001b[39;49;00m\u001b[37m \u001b[39;49;00mi\u001b[37m \u001b[39;49;00m=\u001b[37m \u001b[39;49;00m\u001b[34m0\u001b[39;49;00m;\u001b[37m \u001b[39;49;00mi\u001b[37m \u001b[39;49;00m<\u001b[37m \u001b[39;49;00m\u001b[34m10\u001b[39;49;00m;\u001b[37m \u001b[39;49;00m++i)\u001b[37m \u001b[39;49;00m{\u001b[37m\u001b[39;49;00m\n",
      "\u001b[37m    \u001b[39;49;00mmyvar\u001b[37m \u001b[39;49;00m=\u001b[37m \u001b[39;49;00mi;\u001b[37m\u001b[39;49;00m\n",
      "\u001b[36m#\u001b[39;49;00m\u001b[36mpragma omp critical(output)\u001b[39;49;00m\u001b[36m\u001b[39;49;00m\n",
      "\u001b[37m    \u001b[39;49;00mstd::cout\u001b[37m \u001b[39;49;00m<<\u001b[37m \u001b[39;49;00m\u001b[33m\"\u001b[39;49;00m\u001b[33mi is \u001b[39;49;00m\u001b[33m\"\u001b[39;49;00m\u001b[37m \u001b[39;49;00m<<\u001b[37m \u001b[39;49;00mi\u001b[37m \u001b[39;49;00m<<\u001b[37m \u001b[39;49;00m\u001b[33m\"\u001b[39;49;00m\u001b[33m and myvar is \u001b[39;49;00m\u001b[33m\"\u001b[39;49;00m\u001b[37m \u001b[39;49;00m<<\u001b[37m \u001b[39;49;00mmyvar\u001b[37m \u001b[39;49;00m<<\u001b[37m \u001b[39;49;00mstd::endl;\u001b[37m\u001b[39;49;00m\n",
      "\u001b[37m  \u001b[39;49;00m}\u001b[37m\u001b[39;49;00m\n",
      "\u001b[37m\u001b[39;49;00m\n",
      "\u001b[37m  \u001b[39;49;00mstd::cout\u001b[37m \u001b[39;49;00m<<\u001b[37m \u001b[39;49;00m\u001b[33m\"\u001b[39;49;00m\u001b[33mmyvar: \u001b[39;49;00m\u001b[33m\"\u001b[39;49;00m\u001b[37m \u001b[39;49;00m<<\u001b[37m \u001b[39;49;00mmyvar\u001b[37m \u001b[39;49;00m<<\u001b[37m \u001b[39;49;00mstd::endl;\u001b[37m\u001b[39;49;00m\n",
      "}\u001b[37m\u001b[39;49;00m\n"
     ]
    }
   ],
   "source": [
    "pygmentize omp_examples/a06-scoping.cpp"
   ]
  },
  {
   "cell_type": "code",
   "execution_count": 21,
   "metadata": {},
   "outputs": [],
   "source": [
    "g++ omp_examples/a06-scoping.cpp -fopenmp -o scoping.out"
   ]
  },
  {
   "cell_type": "code",
   "execution_count": 27,
   "metadata": {},
   "outputs": [
    {
     "name": "stdout",
     "output_type": "stream",
     "text": [
      "i is 0 and myvar is 7\n",
      "i is 7 and myvar is 1\n",
      "i is 4 and myvar is 8\n",
      "i is 5 and myvar is 5\n",
      "i is 6 and myvar is 6\n",
      "i is 8 and myvar is 6\n",
      "i is 1 and myvar is 9\n",
      "i is 9 and myvar is 2\n",
      "i is 2 and myvar is 2\n",
      "i is 3 and myvar is 3\n",
      "myvar: 3\n"
     ]
    }
   ],
   "source": [
    "./scoping.out"
   ]
  },
  {
   "cell_type": "markdown",
   "metadata": {},
   "source": [
    "<div class=\"alert alert-block alert-warning\">\n",
    "    We see that shared variables can cause race conditions\n",
    "</div>"
   ]
  },
  {
   "cell_type": "markdown",
   "metadata": {},
   "source": [
    "<div class=\"alert alert-block alert-info\">\n",
    "<b>Now it's your turn...</b><br>\n",
    "<b>7.</b> Run the above code 5 times. What do you observe?<br>\n",
    "<b>8.</b> Why is the code above problematic? Is what we're doing here still compatible with the Turing Machine way of modelling computers?\n",
    "    \n",
    "</div>"
   ]
  },
  {
   "cell_type": "markdown",
   "metadata": {},
   "source": [
    "<b>TODO</b><br>\n",
    "7: The output in the end is not deterministic.\n",
    "\n",
    "8: We have no way of controlling which thread is the last to write output. So we have some inherit randomness and are therefore no longer fulfilling the requirement of having deterministic output from inputs."
   ]
  },
  {
   "cell_type": "markdown",
   "metadata": {},
   "source": [
    "The private directive allows each thread to have a copy of a variable: "
   ]
  },
  {
   "cell_type": "code",
   "execution_count": 28,
   "metadata": {},
   "outputs": [
    {
     "name": "stdout",
     "output_type": "stream",
     "text": [
      "\u001b[36m#\u001b[39;49;00m\u001b[36minclude\u001b[39;49;00m\u001b[37m \u001b[39;49;00m\u001b[37m<cstdlib>\u001b[39;49;00m\u001b[36m\u001b[39;49;00m\n",
      "\u001b[36m#\u001b[39;49;00m\u001b[36minclude\u001b[39;49;00m\u001b[37m \u001b[39;49;00m\u001b[37m<iostream>\u001b[39;49;00m\u001b[36m\u001b[39;49;00m\n",
      "\u001b[36m#\u001b[39;49;00m\u001b[36minclude\u001b[39;49;00m\u001b[37m \u001b[39;49;00m\u001b[37m<omp.h>\u001b[39;49;00m\u001b[36m\u001b[39;49;00m\n",
      "\u001b[36m#\u001b[39;49;00m\u001b[36minclude\u001b[39;49;00m\u001b[37m \u001b[39;49;00m\u001b[37m<vector>\u001b[39;49;00m\u001b[36m\u001b[39;49;00m\n",
      "\u001b[37m\u001b[39;49;00m\n",
      "\u001b[36mint\u001b[39;49;00m\u001b[37m \u001b[39;49;00m\u001b[32mmain\u001b[39;49;00m(\u001b[36mint\u001b[39;49;00m\u001b[37m \u001b[39;49;00margc,\u001b[37m \u001b[39;49;00m\u001b[36mchar\u001b[39;49;00m\u001b[37m \u001b[39;49;00m\u001b[34mconst\u001b[39;49;00m*\u001b[37m \u001b[39;49;00margv[])\u001b[37m \u001b[39;49;00m{\u001b[37m\u001b[39;49;00m\n",
      "\u001b[37m\u001b[39;49;00m\n",
      "\u001b[37m  \u001b[39;49;00m\u001b[36mint\u001b[39;49;00m\u001b[37m \u001b[39;49;00mmyvar\u001b[37m \u001b[39;49;00m=\u001b[37m \u001b[39;49;00m\u001b[34m-1\u001b[39;49;00m;\u001b[37m\u001b[39;49;00m\n",
      "\u001b[36m#\u001b[39;49;00m\u001b[36mpragma omp parallel for private(myvar)\u001b[39;49;00m\u001b[36m\u001b[39;49;00m\n",
      "\u001b[37m  \u001b[39;49;00m\u001b[34mfor\u001b[39;49;00m(std::\u001b[36msize_t\u001b[39;49;00m\u001b[37m \u001b[39;49;00mi\u001b[37m \u001b[39;49;00m=\u001b[37m \u001b[39;49;00m\u001b[34m0\u001b[39;49;00m;\u001b[37m \u001b[39;49;00mi\u001b[37m \u001b[39;49;00m<\u001b[37m \u001b[39;49;00m\u001b[34m10\u001b[39;49;00m;\u001b[37m \u001b[39;49;00m++i)\u001b[37m \u001b[39;49;00m{\u001b[37m\u001b[39;49;00m\n",
      "\u001b[36m#\u001b[39;49;00m\u001b[36mpragma omp critical(output)\u001b[39;49;00m\u001b[36m\u001b[39;49;00m\n",
      "\u001b[37m    \u001b[39;49;00mstd::cout\u001b[37m \u001b[39;49;00m<<\u001b[37m \u001b[39;49;00m\u001b[33m\"\u001b[39;49;00m\u001b[33mbefore writing:\u001b[39;49;00m\u001b[33m\\n\u001b[39;49;00m\u001b[33m  i is \u001b[39;49;00m\u001b[33m\"\u001b[39;49;00m\u001b[37m \u001b[39;49;00m<<\u001b[37m \u001b[39;49;00mi\u001b[37m \u001b[39;49;00m<<\u001b[37m \u001b[39;49;00m\u001b[33m\"\u001b[39;49;00m\u001b[33m and myvar is \u001b[39;49;00m\u001b[33m\"\u001b[39;49;00m\u001b[37m \u001b[39;49;00m<<\u001b[37m \u001b[39;49;00mmyvar\u001b[37m \u001b[39;49;00m<<\u001b[37m \u001b[39;49;00mstd::endl;\u001b[37m\u001b[39;49;00m\n",
      "\u001b[37m    \u001b[39;49;00mmyvar\u001b[37m \u001b[39;49;00m=\u001b[37m \u001b[39;49;00mi;\u001b[37m\u001b[39;49;00m\n",
      "\u001b[36m#\u001b[39;49;00m\u001b[36mpragma omp critical(output)\u001b[39;49;00m\u001b[36m\u001b[39;49;00m\n",
      "\u001b[37m    \u001b[39;49;00mstd::cout\u001b[37m \u001b[39;49;00m<<\u001b[37m \u001b[39;49;00m\u001b[33m\"\u001b[39;49;00m\u001b[33mafter writing:\u001b[39;49;00m\u001b[33m\\n\u001b[39;49;00m\u001b[33m\\t\u001b[39;49;00m\u001b[33mi is \u001b[39;49;00m\u001b[33m\"\u001b[39;49;00m\u001b[37m \u001b[39;49;00m<<\u001b[37m \u001b[39;49;00mi\u001b[37m \u001b[39;49;00m<<\u001b[37m \u001b[39;49;00m\u001b[33m\"\u001b[39;49;00m\u001b[33m and myvar is \u001b[39;49;00m\u001b[33m\"\u001b[39;49;00m\u001b[37m \u001b[39;49;00m<<\u001b[37m \u001b[39;49;00mmyvar\u001b[37m \u001b[39;49;00m<<\u001b[37m \u001b[39;49;00mstd::endl;\u001b[37m\u001b[39;49;00m\n",
      "\u001b[37m  \u001b[39;49;00m}\u001b[37m\u001b[39;49;00m\n",
      "\u001b[37m  \u001b[39;49;00mstd::cout\u001b[37m \u001b[39;49;00m<<\u001b[37m \u001b[39;49;00m\u001b[33m\"\u001b[39;49;00m\u001b[33mmyvar: \u001b[39;49;00m\u001b[33m\"\u001b[39;49;00m\u001b[37m \u001b[39;49;00m<<\u001b[37m \u001b[39;49;00mmyvar\u001b[37m \u001b[39;49;00m<<\u001b[37m \u001b[39;49;00mstd::endl;\u001b[37m\u001b[39;49;00m\n",
      "}\u001b[37m\u001b[39;49;00m\n"
     ]
    }
   ],
   "source": [
    "pygmentize omp_examples/a07-private.cpp"
   ]
  },
  {
   "cell_type": "code",
   "execution_count": 29,
   "metadata": {},
   "outputs": [],
   "source": [
    "g++ omp_examples/a07-private.cpp -fopenmp -o private.out"
   ]
  },
  {
   "cell_type": "code",
   "execution_count": 30,
   "metadata": {},
   "outputs": [
    {
     "name": "stdout",
     "output_type": "stream",
     "text": [
      "before writing:\n",
      "  i is 0 and myvar is 0\n",
      "before writing:\n",
      "  i is 4 and myvar is 0\n",
      "after writing:\n",
      "\ti is 4 and myvar is 4\n",
      "after writing:\n",
      "\ti is 0 and myvar is 0\n",
      "before writing:\n",
      "  i is 3 and myvar is 0\n",
      "after writing:\n",
      "\ti is 3 and myvar is 3\n",
      "before writing:\n",
      "  i is 6 and myvar is 0\n",
      "after writing:\n",
      "\ti is 6 and myvar is 6\n",
      "before writing:\n",
      "  i is 2 and myvar is 0\n",
      "after writing:\n",
      "\ti is 2 and myvar is 2\n",
      "before writing:\n",
      "  i is 1 and myvar is 0\n",
      "after writing:\n",
      "\ti is 1 and myvar is 1\n",
      "before writing:\n",
      "  i is 7 and myvar is 0\n",
      "after writing:\n",
      "\ti is 7 and myvar is 7\n",
      "before writing:\n",
      "  i is 5 and myvar is 0\n",
      "after writing:\n",
      "\ti is 5 and myvar is 5\n",
      "before writing:\n",
      "  i is 8 and myvar is 0\n",
      "after writing:\n",
      "\ti is 8 and myvar is 8\n",
      "before writing:\n",
      "  i is 9 and myvar is 0\n",
      "after writing:\n",
      "\ti is 9 and myvar is 9\n",
      "myvar: -1\n"
     ]
    }
   ],
   "source": [
    "OMP_NUM_THREADS=10 ./private.out"
   ]
  },
  {
   "cell_type": "markdown",
   "metadata": {},
   "source": [
    "<div class=\"alert alert-block alert-warning\">\n",
    "    We see:\n",
    "    <ul>\n",
    "        <li>Private variables are always empty when coming in to the parallel regions</li>\n",
    "        <li>Private variables do not cause race conditions</li>\n",
    "        <li>The values in private variables are lost after exiting the parallel region</li>\n",
    "    </ul>\n",
    "</div>"
   ]
  },
  {
   "cell_type": "markdown",
   "metadata": {},
   "source": [
    "shared is the default but can also be stated explicitly"
   ]
  },
  {
   "cell_type": "code",
   "execution_count": 31,
   "metadata": {},
   "outputs": [
    {
     "name": "stdout",
     "output_type": "stream",
     "text": [
      "\u001b[36m#\u001b[39;49;00m\u001b[36minclude\u001b[39;49;00m\u001b[37m \u001b[39;49;00m\u001b[37m<cstdlib>\u001b[39;49;00m\u001b[36m\u001b[39;49;00m\n",
      "\u001b[36m#\u001b[39;49;00m\u001b[36minclude\u001b[39;49;00m\u001b[37m \u001b[39;49;00m\u001b[37m<iostream>\u001b[39;49;00m\u001b[36m\u001b[39;49;00m\n",
      "\u001b[36m#\u001b[39;49;00m\u001b[36minclude\u001b[39;49;00m\u001b[37m \u001b[39;49;00m\u001b[37m<omp.h>\u001b[39;49;00m\u001b[36m\u001b[39;49;00m\n",
      "\u001b[36m#\u001b[39;49;00m\u001b[36minclude\u001b[39;49;00m\u001b[37m \u001b[39;49;00m\u001b[37m<vector>\u001b[39;49;00m\u001b[36m\u001b[39;49;00m\n",
      "\u001b[37m\u001b[39;49;00m\n",
      "\u001b[36mint\u001b[39;49;00m\u001b[37m \u001b[39;49;00m\u001b[32mmain\u001b[39;49;00m(\u001b[36mint\u001b[39;49;00m\u001b[37m \u001b[39;49;00margc,\u001b[37m \u001b[39;49;00m\u001b[36mchar\u001b[39;49;00m\u001b[37m \u001b[39;49;00m\u001b[34mconst\u001b[39;49;00m*\u001b[37m \u001b[39;49;00margv[])\u001b[37m \u001b[39;49;00m{\u001b[37m\u001b[39;49;00m\n",
      "\u001b[37m\u001b[39;49;00m\n",
      "\u001b[37m  \u001b[39;49;00m\u001b[36mint\u001b[39;49;00m\u001b[37m \u001b[39;49;00mmyvar\u001b[37m \u001b[39;49;00m=\u001b[37m \u001b[39;49;00m\u001b[34m-1\u001b[39;49;00m;\u001b[37m\u001b[39;49;00m\n",
      "\u001b[36m#\u001b[39;49;00m\u001b[36mpragma omp parallel for shared(myvar)\u001b[39;49;00m\u001b[36m\u001b[39;49;00m\n",
      "\u001b[37m  \u001b[39;49;00m\u001b[34mfor\u001b[39;49;00m(std::\u001b[36msize_t\u001b[39;49;00m\u001b[37m \u001b[39;49;00mi\u001b[37m \u001b[39;49;00m=\u001b[37m \u001b[39;49;00m\u001b[34m0\u001b[39;49;00m;\u001b[37m \u001b[39;49;00mi\u001b[37m \u001b[39;49;00m<\u001b[37m \u001b[39;49;00m\u001b[34m10\u001b[39;49;00m;\u001b[37m \u001b[39;49;00m++i)\u001b[37m \u001b[39;49;00m{\u001b[37m\u001b[39;49;00m\n",
      "\u001b[36m#\u001b[39;49;00m\u001b[36mpragma omp critical(output)\u001b[39;49;00m\u001b[36m\u001b[39;49;00m\n",
      "\u001b[37m    \u001b[39;49;00mstd::cout\u001b[37m \u001b[39;49;00m<<\u001b[37m \u001b[39;49;00m\u001b[33m\"\u001b[39;49;00m\u001b[33mbefore writing:\u001b[39;49;00m\u001b[33m\\n\u001b[39;49;00m\u001b[33mi is \u001b[39;49;00m\u001b[33m\"\u001b[39;49;00m\u001b[37m \u001b[39;49;00m<<\u001b[37m \u001b[39;49;00mi\u001b[37m \u001b[39;49;00m<<\u001b[37m \u001b[39;49;00m\u001b[33m\"\u001b[39;49;00m\u001b[33m and myvar is \u001b[39;49;00m\u001b[33m\"\u001b[39;49;00m\u001b[37m \u001b[39;49;00m<<\u001b[37m \u001b[39;49;00mmyvar\u001b[37m \u001b[39;49;00m<<\u001b[37m \u001b[39;49;00mstd::endl;\u001b[37m\u001b[39;49;00m\n",
      "\u001b[37m    \u001b[39;49;00mmyvar\u001b[37m \u001b[39;49;00m=\u001b[37m \u001b[39;49;00mi;\u001b[37m\u001b[39;49;00m\n",
      "\u001b[36m#\u001b[39;49;00m\u001b[36mpragma omp critical(output)\u001b[39;49;00m\u001b[36m\u001b[39;49;00m\n",
      "\u001b[37m    \u001b[39;49;00mstd::cout\u001b[37m \u001b[39;49;00m<<\u001b[37m \u001b[39;49;00m\u001b[33m\"\u001b[39;49;00m\u001b[33mafter writing:\u001b[39;49;00m\u001b[33m\\n\u001b[39;49;00m\u001b[33m   i is \u001b[39;49;00m\u001b[33m\"\u001b[39;49;00m\u001b[37m \u001b[39;49;00m<<\u001b[37m \u001b[39;49;00mi\u001b[37m \u001b[39;49;00m<<\u001b[37m \u001b[39;49;00m\u001b[33m\"\u001b[39;49;00m\u001b[33m and myvar is \u001b[39;49;00m\u001b[33m\"\u001b[39;49;00m\u001b[37m \u001b[39;49;00m<<\u001b[37m \u001b[39;49;00mmyvar\u001b[37m \u001b[39;49;00m<<\u001b[37m \u001b[39;49;00mstd::endl;\u001b[37m\u001b[39;49;00m\n",
      "\u001b[37m  \u001b[39;49;00m}\u001b[37m\u001b[39;49;00m\n",
      "\u001b[37m  \u001b[39;49;00mstd::cout\u001b[37m \u001b[39;49;00m<<\u001b[37m \u001b[39;49;00m\u001b[33m\"\u001b[39;49;00m\u001b[33mmyvar: \u001b[39;49;00m\u001b[33m\"\u001b[39;49;00m\u001b[37m \u001b[39;49;00m<<\u001b[37m \u001b[39;49;00mmyvar\u001b[37m \u001b[39;49;00m<<\u001b[37m \u001b[39;49;00mstd::endl;\u001b[37m\u001b[39;49;00m\n",
      "}\u001b[37m\u001b[39;49;00m\n"
     ]
    }
   ],
   "source": [
    "pygmentize omp_examples/a08-shared.cpp"
   ]
  },
  {
   "cell_type": "code",
   "execution_count": 32,
   "metadata": {},
   "outputs": [],
   "source": [
    "g++ omp_examples/a08-shared.cpp -fopenmp -o shared.out"
   ]
  },
  {
   "cell_type": "code",
   "execution_count": 33,
   "metadata": {},
   "outputs": [
    {
     "name": "stdout",
     "output_type": "stream",
     "text": [
      "before writing:\n",
      "i is 2 and myvar is -1\n",
      "before writing:\n",
      "i is 1 and myvar is 2\n",
      "after writing:\n",
      "   i is 1 and myvar is 1\n",
      "before writing:\n",
      "i is 0 and myvar is 1\n",
      "after writing:\n",
      "   i is 0 and myvar is 0\n",
      "before writing:\n",
      "i is 7 and myvar is 0\n",
      "after writing:\n",
      "   i is 7 and myvar is 7\n",
      "after writing:\n",
      "   i is 2 and myvar is 7\n",
      "before writing:\n",
      "i is 9 and myvar is 7\n",
      "before writing:\n",
      "i is 6 and myvar is 9\n",
      "before writing:\n",
      "i is 3 and myvar is 6\n",
      "after writing:\n",
      "   i is 6 and myvar is 3\n",
      "after writing:\n",
      "   i is 3 and myvar is 3\n",
      "before writing:\n",
      "i is 8 and myvar is 3\n",
      "after writing:\n",
      "   i is 8 and myvar is 8\n",
      "before writing:\n",
      "i is 5 and myvar is 8\n",
      "after writing:\n",
      "   i is 9 and myvar is 5\n",
      "before writing:\n",
      "i is 4 and myvar is 5\n",
      "after writing:\n",
      "   i is 5 and myvar is 4\n",
      "after writing:\n",
      "   i is 4 and myvar is 4\n",
      "myvar: 4\n"
     ]
    }
   ],
   "source": [
    "OMP_NUM_THREADS=10 ./shared.out"
   ]
  },
  {
   "cell_type": "markdown",
   "metadata": {},
   "source": [
    "<div class=\"alert alert-block alert-warning\">\n",
    "    We find a way to explicitly use shared variables in parallel regions\n",
    "</div>"
   ]
  },
  {
   "cell_type": "markdown",
   "metadata": {},
   "source": [
    "## Special Regions\n",
    "<div class=\"alert alert-block alert-danger\">\n",
    "This is an important concept to understand but is not necessarily used in our example\n",
    "</div>\n",
    "\n",
    "There are certain pieces of the code that might be more sensitive to how threads should be handling them, here are the options:"
   ]
  },
  {
   "cell_type": "code",
   "execution_count": 34,
   "metadata": {},
   "outputs": [
    {
     "name": "stdout",
     "output_type": "stream",
     "text": [
      "\u001b[36m#\u001b[39;49;00m\u001b[36minclude\u001b[39;49;00m\u001b[37m \u001b[39;49;00m\u001b[37m<cstdlib>\u001b[39;49;00m\u001b[36m\u001b[39;49;00m\n",
      "\u001b[36m#\u001b[39;49;00m\u001b[36minclude\u001b[39;49;00m\u001b[37m \u001b[39;49;00m\u001b[37m<iostream>\u001b[39;49;00m\u001b[36m\u001b[39;49;00m\n",
      "\u001b[36m#\u001b[39;49;00m\u001b[36minclude\u001b[39;49;00m\u001b[37m \u001b[39;49;00m\u001b[37m<omp.h>\u001b[39;49;00m\u001b[36m\u001b[39;49;00m\n",
      "\u001b[36m#\u001b[39;49;00m\u001b[36minclude\u001b[39;49;00m\u001b[37m \u001b[39;49;00m\u001b[37m<vector>\u001b[39;49;00m\u001b[36m\u001b[39;49;00m\n",
      "\u001b[37m\u001b[39;49;00m\n",
      "\u001b[36mint\u001b[39;49;00m\u001b[37m \u001b[39;49;00m\u001b[32mmain\u001b[39;49;00m(\u001b[36mint\u001b[39;49;00m\u001b[37m \u001b[39;49;00margc,\u001b[37m \u001b[39;49;00m\u001b[36mchar\u001b[39;49;00m\u001b[37m \u001b[39;49;00m\u001b[34mconst\u001b[39;49;00m*\u001b[37m \u001b[39;49;00margv[])\u001b[37m \u001b[39;49;00m{\u001b[37m\u001b[39;49;00m\n",
      "\u001b[37m\u001b[39;49;00m\n",
      "\u001b[36m#\u001b[39;49;00m\u001b[36mpragma omp parallel\u001b[39;49;00m\u001b[36m\u001b[39;49;00m\n",
      "\u001b[37m  \u001b[39;49;00m{\u001b[37m\u001b[39;49;00m\n",
      "\u001b[37m    \u001b[39;49;00m\u001b[36mint\u001b[39;49;00m\u001b[37m \u001b[39;49;00msize\u001b[37m \u001b[39;49;00m=\u001b[37m \u001b[39;49;00momp_get_num_threads();\u001b[37m\u001b[39;49;00m\n",
      "\u001b[37m    \u001b[39;49;00m\u001b[36mint\u001b[39;49;00m\u001b[37m \u001b[39;49;00mrank\u001b[37m \u001b[39;49;00m=\u001b[37m \u001b[39;49;00momp_get_thread_num();\u001b[37m\u001b[39;49;00m\n",
      "\u001b[36m#\u001b[39;49;00m\u001b[36mpragma omp single\u001b[39;49;00m\u001b[36m\u001b[39;49;00m\n",
      "\u001b[37m    \u001b[39;49;00m{\u001b[37m\u001b[39;49;00m\n",
      "\u001b[37m      \u001b[39;49;00mstd::cout\u001b[37m \u001b[39;49;00m<<\u001b[37m \u001b[39;49;00m\u001b[33m\"\u001b[39;49;00m\u001b[33mthread \u001b[39;49;00m\u001b[33m\"\u001b[39;49;00m\u001b[37m \u001b[39;49;00m<<\u001b[37m \u001b[39;49;00mrank\u001b[37m \u001b[39;49;00m<<\u001b[37m \u001b[39;49;00m\u001b[33m\"\u001b[39;49;00m\u001b[33m is present in single\u001b[39;49;00m\u001b[33m\"\u001b[39;49;00m\u001b[37m \u001b[39;49;00m<<\u001b[37m \u001b[39;49;00mstd::endl;\u001b[37m\u001b[39;49;00m\n",
      "\u001b[37m      \u001b[39;49;00mstd::cout\u001b[37m \u001b[39;49;00m<<\u001b[37m \u001b[39;49;00m\u001b[33m\"\u001b[39;49;00m\u001b[33mand the size here is : \u001b[39;49;00m\u001b[33m\"\u001b[39;49;00m\u001b[37m \u001b[39;49;00m<<\u001b[37m \u001b[39;49;00momp_get_num_threads()\u001b[37m \u001b[39;49;00m<<\u001b[37m \u001b[39;49;00mstd::endl;\u001b[37m\u001b[39;49;00m\n",
      "\u001b[37m    \u001b[39;49;00m}\u001b[37m\u001b[39;49;00m\n",
      "\u001b[36m#\u001b[39;49;00m\u001b[36mpragma omp master\u001b[39;49;00m\u001b[36m\u001b[39;49;00m\n",
      "\u001b[37m    \u001b[39;49;00m{\u001b[37m \u001b[39;49;00mstd::cout\u001b[37m \u001b[39;49;00m<<\u001b[37m \u001b[39;49;00m\u001b[33m\"\u001b[39;49;00m\u001b[33mthread \u001b[39;49;00m\u001b[33m\"\u001b[39;49;00m\u001b[37m \u001b[39;49;00m<<\u001b[37m \u001b[39;49;00mrank\u001b[37m \u001b[39;49;00m<<\u001b[37m \u001b[39;49;00m\u001b[33m\"\u001b[39;49;00m\u001b[33m is present in master\u001b[39;49;00m\u001b[33m\"\u001b[39;49;00m\u001b[37m \u001b[39;49;00m<<\u001b[37m \u001b[39;49;00mstd::endl;\u001b[37m \u001b[39;49;00m}\u001b[37m\u001b[39;49;00m\n",
      "\u001b[36m#\u001b[39;49;00m\u001b[36mpragma omp critical(somethingHard)\u001b[39;49;00m\u001b[36m\u001b[39;49;00m\n",
      "\u001b[37m    \u001b[39;49;00m{\u001b[37m \u001b[39;49;00mstd::cout\u001b[37m \u001b[39;49;00m<<\u001b[37m \u001b[39;49;00m\u001b[33m\"\u001b[39;49;00m\u001b[33mthread \u001b[39;49;00m\u001b[33m\"\u001b[39;49;00m\u001b[37m \u001b[39;49;00m<<\u001b[37m \u001b[39;49;00mrank\u001b[37m \u001b[39;49;00m<<\u001b[37m \u001b[39;49;00m\u001b[33m\"\u001b[39;49;00m\u001b[33m is present in critical\u001b[39;49;00m\u001b[33m\"\u001b[39;49;00m\u001b[37m \u001b[39;49;00m<<\u001b[37m \u001b[39;49;00mstd::endl;\u001b[37m \u001b[39;49;00m}\u001b[37m\u001b[39;49;00m\n",
      "\u001b[37m  \u001b[39;49;00m}\u001b[37m\u001b[39;49;00m\n",
      "}\u001b[37m\u001b[39;49;00m\n"
     ]
    }
   ],
   "source": [
    "pygmentize omp_examples/a09-regions.cpp"
   ]
  },
  {
   "cell_type": "code",
   "execution_count": 35,
   "metadata": {},
   "outputs": [
    {
     "name": "stdout",
     "output_type": "stream",
     "text": [
      "thread 0 is present in single\n",
      "and the size here is : 24\n",
      "thread 0thread  is present in master21 is present in critical\n",
      "\n",
      "thread 9 is present in critical\n",
      "thread 19 is present in critical\n",
      "thread 7 is present in critical\n",
      "thread 12 is present in critical\n",
      "thread 17 is present in critical\n",
      "thread 5 is present in critical\n",
      "thread 13 is present in critical\n",
      "thread 4 is present in critical\n",
      "thread 16 is present in critical\n",
      "thread 11 is present in critical\n",
      "thread 23 is present in critical\n",
      "thread 18 is present in critical\n",
      "thread 6 is present in critical\n",
      "thread 0 is present in critical\n",
      "thread 1 is present in critical\n",
      "thread 2 is present in critical\n",
      "thread 14 is present in critical\n",
      "thread 10 is present in critical\n",
      "thread 22 is present in critical\n",
      "thread 8 is present in critical\n",
      "thread 20 is present in critical\n",
      "thread 15 is present in critical\n",
      "thread 3 is present in critical\n"
     ]
    }
   ],
   "source": [
    "g++ omp_examples/a09-regions.cpp -fopenmp -o regions.out && ./regions.out"
   ]
  },
  {
   "cell_type": "markdown",
   "metadata": {},
   "source": [
    "<div class=\"alert alert-block alert-warning\">\n",
    "    We learn that thread 0 is the only one entering <code>master</code>, only one thread ever enters <code>single</code> and every thread enters <code>critical</code>, but only one at a time\n",
    "</div>"
   ]
  },
  {
   "cell_type": "markdown",
   "metadata": {},
   "source": [
    "## What if parallel regions span multiple tasks\n",
    "<div class=\"alert alert-block alert-danger\">\n",
    "This is an important concept to understand but is not necessarily used in our example\n",
    "</div>\n",
    "\n",
    "Depending on how parallelization was done there might be a need to let threads wait for each other. The `#pragma omp barrier` is used for that."
   ]
  },
  {
   "cell_type": "code",
   "execution_count": 36,
   "metadata": {},
   "outputs": [
    {
     "name": "stdout",
     "output_type": "stream",
     "text": [
      "\u001b[36m#\u001b[39;49;00m\u001b[36minclude\u001b[39;49;00m\u001b[37m \u001b[39;49;00m\u001b[37m<cstdlib>\u001b[39;49;00m\u001b[36m\u001b[39;49;00m\n",
      "\u001b[36m#\u001b[39;49;00m\u001b[36minclude\u001b[39;49;00m\u001b[37m \u001b[39;49;00m\u001b[37m<iostream>\u001b[39;49;00m\u001b[36m\u001b[39;49;00m\n",
      "\u001b[36m#\u001b[39;49;00m\u001b[36minclude\u001b[39;49;00m\u001b[37m \u001b[39;49;00m\u001b[37m<omp.h>\u001b[39;49;00m\u001b[36m\u001b[39;49;00m\n",
      "\u001b[36m#\u001b[39;49;00m\u001b[36minclude\u001b[39;49;00m\u001b[37m \u001b[39;49;00m\u001b[37m<vector>\u001b[39;49;00m\u001b[36m\u001b[39;49;00m\n",
      "\u001b[37m\u001b[39;49;00m\n",
      "\u001b[36mint\u001b[39;49;00m\u001b[37m \u001b[39;49;00m\u001b[32mmain\u001b[39;49;00m(\u001b[36mint\u001b[39;49;00m\u001b[37m \u001b[39;49;00margc,\u001b[37m \u001b[39;49;00m\u001b[36mchar\u001b[39;49;00m\u001b[37m \u001b[39;49;00m\u001b[34mconst\u001b[39;49;00m*\u001b[37m \u001b[39;49;00margv[])\u001b[37m \u001b[39;49;00m{\u001b[37m\u001b[39;49;00m\n",
      "\u001b[37m\u001b[39;49;00m\n",
      "\u001b[36m#\u001b[39;49;00m\u001b[36mpragma omp parallel num_threads(5)\u001b[39;49;00m\u001b[36m\u001b[39;49;00m\n",
      "\u001b[37m  \u001b[39;49;00m{\u001b[37m\u001b[39;49;00m\n",
      "\u001b[37m    \u001b[39;49;00m\u001b[36mint\u001b[39;49;00m\u001b[37m \u001b[39;49;00msize\u001b[37m \u001b[39;49;00m=\u001b[37m \u001b[39;49;00momp_get_num_threads();\u001b[37m\u001b[39;49;00m\n",
      "\u001b[37m    \u001b[39;49;00m\u001b[36mint\u001b[39;49;00m\u001b[37m \u001b[39;49;00mrank\u001b[37m \u001b[39;49;00m=\u001b[37m \u001b[39;49;00momp_get_thread_num();\u001b[37m\u001b[39;49;00m\n",
      "\u001b[36m#\u001b[39;49;00m\u001b[36mpragma omp critical(somethingHard)\u001b[39;49;00m\u001b[36m\u001b[39;49;00m\n",
      "\u001b[37m    \u001b[39;49;00m{\u001b[37m\u001b[39;49;00m\n",
      "\u001b[37m      \u001b[39;49;00mstd::string\u001b[37m \u001b[39;49;00ms\u001b[37m \u001b[39;49;00m=\u001b[37m \u001b[39;49;00m\u001b[33m\"\u001b[39;49;00m\u001b[33mthread \u001b[39;49;00m\u001b[33m\"\u001b[39;49;00m\u001b[37m \u001b[39;49;00m+\u001b[37m \u001b[39;49;00mstd::to_string(rank)\u001b[37m \u001b[39;49;00m+\u001b[37m \u001b[39;49;00m\u001b[33m\"\u001b[39;49;00m\u001b[33m is present in critical1\u001b[39;49;00m\u001b[33m\\n\u001b[39;49;00m\u001b[33m\"\u001b[39;49;00m;\u001b[37m\u001b[39;49;00m\n",
      "\u001b[37m      \u001b[39;49;00mstd::cout\u001b[37m \u001b[39;49;00m<<\u001b[37m \u001b[39;49;00ms;\u001b[37m\u001b[39;49;00m\n",
      "\u001b[37m    \u001b[39;49;00m}\u001b[37m\u001b[39;49;00m\n",
      "\u001b[36m#\u001b[39;49;00m\u001b[36mpragma omp critical(somethingEasy)\u001b[39;49;00m\u001b[36m\u001b[39;49;00m\n",
      "\u001b[37m    \u001b[39;49;00m{\u001b[37m\u001b[39;49;00m\n",
      "\u001b[37m      \u001b[39;49;00mstd::string\u001b[37m \u001b[39;49;00ms\u001b[37m \u001b[39;49;00m=\u001b[37m \u001b[39;49;00m\u001b[33m\"\u001b[39;49;00m\u001b[33mthread \u001b[39;49;00m\u001b[33m\"\u001b[39;49;00m\u001b[37m \u001b[39;49;00m+\u001b[37m \u001b[39;49;00mstd::to_string(rank)\u001b[37m \u001b[39;49;00m+\u001b[37m \u001b[39;49;00m\u001b[33m\"\u001b[39;49;00m\u001b[33m is present in critical2\u001b[39;49;00m\u001b[33m\\n\u001b[39;49;00m\u001b[33m\"\u001b[39;49;00m;\u001b[37m\u001b[39;49;00m\n",
      "\u001b[37m      \u001b[39;49;00mstd::cout\u001b[37m \u001b[39;49;00m<<\u001b[37m \u001b[39;49;00ms;\u001b[37m\u001b[39;49;00m\n",
      "\u001b[37m    \u001b[39;49;00m}\u001b[37m\u001b[39;49;00m\n",
      "\u001b[37m  \u001b[39;49;00m}\u001b[37m\u001b[39;49;00m\n",
      "}\u001b[37m\u001b[39;49;00m\n"
     ]
    }
   ],
   "source": [
    "pygmentize omp_examples/a10-barrier.cpp"
   ]
  },
  {
   "cell_type": "code",
   "execution_count": 37,
   "metadata": {},
   "outputs": [
    {
     "name": "stdout",
     "output_type": "stream",
     "text": [
      "thread 0 is present in critical1\n",
      "thread 0 is present in critical2\n",
      "thread 3 is present in critical1\n",
      "thread 3 is present in critical2\n",
      "thread 2 is present in critical1\n",
      "thread 2 is present in critical2\n",
      "thread 1 is present in critical1\n",
      "thread 1 is present in critical2\n",
      "thread 4 is present in critical1\n",
      "thread 4 is present in critical2\n"
     ]
    }
   ],
   "source": [
    "g++ omp_examples/a10-barrier.cpp -fopenmp -o barrier.out && ./barrier.out"
   ]
  },
  {
   "cell_type": "markdown",
   "metadata": {},
   "source": [
    "<div class=\"alert alert-block alert-warning\">\n",
    "    We learn that there is no guarantee on the execution order of different statements in a parallel block across threads\n",
    "</div>"
   ]
  },
  {
   "cell_type": "code",
   "execution_count": 38,
   "metadata": {},
   "outputs": [
    {
     "name": "stdout",
     "output_type": "stream",
     "text": [
      "\u001b[36m#\u001b[39;49;00m\u001b[36minclude\u001b[39;49;00m\u001b[37m \u001b[39;49;00m\u001b[37m<cstdlib>\u001b[39;49;00m\u001b[36m\u001b[39;49;00m\n",
      "\u001b[36m#\u001b[39;49;00m\u001b[36minclude\u001b[39;49;00m\u001b[37m \u001b[39;49;00m\u001b[37m<iostream>\u001b[39;49;00m\u001b[36m\u001b[39;49;00m\n",
      "\u001b[36m#\u001b[39;49;00m\u001b[36minclude\u001b[39;49;00m\u001b[37m \u001b[39;49;00m\u001b[37m<omp.h>\u001b[39;49;00m\u001b[36m\u001b[39;49;00m\n",
      "\u001b[36m#\u001b[39;49;00m\u001b[36minclude\u001b[39;49;00m\u001b[37m \u001b[39;49;00m\u001b[37m<vector>\u001b[39;49;00m\u001b[36m\u001b[39;49;00m\n",
      "\u001b[37m\u001b[39;49;00m\n",
      "\u001b[36mint\u001b[39;49;00m\u001b[37m \u001b[39;49;00m\u001b[32mmain\u001b[39;49;00m(\u001b[36mint\u001b[39;49;00m\u001b[37m \u001b[39;49;00margc,\u001b[37m \u001b[39;49;00m\u001b[36mchar\u001b[39;49;00m\u001b[37m \u001b[39;49;00m\u001b[34mconst\u001b[39;49;00m*\u001b[37m \u001b[39;49;00margv[])\u001b[37m \u001b[39;49;00m{\u001b[37m\u001b[39;49;00m\n",
      "\u001b[37m\u001b[39;49;00m\n",
      "\u001b[36m#\u001b[39;49;00m\u001b[36mpragma omp parallel num_threads(5)\u001b[39;49;00m\u001b[36m\u001b[39;49;00m\n",
      "\u001b[37m  \u001b[39;49;00m{\u001b[37m\u001b[39;49;00m\n",
      "\u001b[37m    \u001b[39;49;00m\u001b[36mint\u001b[39;49;00m\u001b[37m \u001b[39;49;00msize\u001b[37m \u001b[39;49;00m=\u001b[37m \u001b[39;49;00momp_get_num_threads();\u001b[37m\u001b[39;49;00m\n",
      "\u001b[37m    \u001b[39;49;00m\u001b[36mint\u001b[39;49;00m\u001b[37m \u001b[39;49;00mrank\u001b[37m \u001b[39;49;00m=\u001b[37m \u001b[39;49;00momp_get_thread_num();\u001b[37m\u001b[39;49;00m\n",
      "\u001b[36m#\u001b[39;49;00m\u001b[36mpragma omp critical(somethingHard)\u001b[39;49;00m\u001b[36m\u001b[39;49;00m\n",
      "\u001b[37m    \u001b[39;49;00m{\u001b[37m\u001b[39;49;00m\n",
      "\u001b[37m      \u001b[39;49;00mstd::string\u001b[37m \u001b[39;49;00ms\u001b[37m \u001b[39;49;00m=\u001b[37m \u001b[39;49;00m\u001b[33m\"\u001b[39;49;00m\u001b[33mthread \u001b[39;49;00m\u001b[33m\"\u001b[39;49;00m\u001b[37m \u001b[39;49;00m+\u001b[37m \u001b[39;49;00mstd::to_string(rank)\u001b[37m \u001b[39;49;00m+\u001b[37m \u001b[39;49;00m\u001b[33m\"\u001b[39;49;00m\u001b[33m is present in critical1\u001b[39;49;00m\u001b[33m\\n\u001b[39;49;00m\u001b[33m\"\u001b[39;49;00m;\u001b[37m\u001b[39;49;00m\n",
      "\u001b[37m      \u001b[39;49;00mstd::cout\u001b[37m \u001b[39;49;00m<<\u001b[37m \u001b[39;49;00ms;\u001b[37m\u001b[39;49;00m\n",
      "\u001b[37m    \u001b[39;49;00m}\u001b[37m\u001b[39;49;00m\n",
      "\u001b[36m#\u001b[39;49;00m\u001b[36mpragma omp barrier\u001b[39;49;00m\u001b[36m\u001b[39;49;00m\n",
      "\u001b[36m#\u001b[39;49;00m\u001b[36mpragma omp critical(somethingEasy)\u001b[39;49;00m\u001b[36m\u001b[39;49;00m\n",
      "\u001b[37m    \u001b[39;49;00m{\u001b[37m\u001b[39;49;00m\n",
      "\u001b[37m      \u001b[39;49;00mstd::string\u001b[37m \u001b[39;49;00ms\u001b[37m \u001b[39;49;00m=\u001b[37m \u001b[39;49;00m\u001b[33m\"\u001b[39;49;00m\u001b[33mthread \u001b[39;49;00m\u001b[33m\"\u001b[39;49;00m\u001b[37m \u001b[39;49;00m+\u001b[37m \u001b[39;49;00mstd::to_string(rank)\u001b[37m \u001b[39;49;00m+\u001b[37m \u001b[39;49;00m\u001b[33m\"\u001b[39;49;00m\u001b[33m is present in critical2\u001b[39;49;00m\u001b[33m\\n\u001b[39;49;00m\u001b[33m\"\u001b[39;49;00m;\u001b[37m\u001b[39;49;00m\n",
      "\u001b[37m      \u001b[39;49;00mstd::cout\u001b[37m \u001b[39;49;00m<<\u001b[37m \u001b[39;49;00ms;\u001b[37m\u001b[39;49;00m\n",
      "\u001b[37m    \u001b[39;49;00m}\u001b[37m\u001b[39;49;00m\n",
      "\u001b[37m  \u001b[39;49;00m}\u001b[37m\u001b[39;49;00m\n",
      "}\u001b[37m\u001b[39;49;00m\n"
     ]
    }
   ],
   "source": [
    "pygmentize omp_examples/a11-barrier.cpp"
   ]
  },
  {
   "cell_type": "code",
   "execution_count": 39,
   "metadata": {},
   "outputs": [
    {
     "name": "stdout",
     "output_type": "stream",
     "text": [
      "thread 0 is present in critical1\n",
      "thread 1 is present in critical1\n",
      "thread 3 is present in critical1\n",
      "thread 4 is present in critical1\n",
      "thread 2 is present in critical1\n",
      "thread 4 is present in critical2\n",
      "thread 2 is present in critical2\n",
      "thread 0 is present in critical2\n",
      "thread 1 is present in critical2\n",
      "thread 3 is present in critical2\n"
     ]
    }
   ],
   "source": [
    "g++ omp_examples/a11-barrier.cpp -fopenmp -o barrier2.out && ./barrier2.out"
   ]
  },
  {
   "cell_type": "markdown",
   "metadata": {},
   "source": [
    "<div class=\"alert alert-block alert-warning\">\n",
    "    We learn that barriers help synchronize code\n",
    "</div>"
   ]
  },
  {
   "cell_type": "markdown",
   "metadata": {},
   "source": [
    "## Nowait\n",
    "<div class=\"alert alert-block alert-danger\">\n",
    "This is an important concept to understand but is not necessarily used in our example\n",
    "</div>\n",
    "\n",
    "Certain OpenMP statements come with implicit barriers so `nowait` is the keyword to explicitly disable those"
   ]
  },
  {
   "cell_type": "code",
   "execution_count": 40,
   "metadata": {},
   "outputs": [
    {
     "name": "stdout",
     "output_type": "stream",
     "text": [
      "\u001b[36m#\u001b[39;49;00m\u001b[36minclude\u001b[39;49;00m\u001b[37m \u001b[39;49;00m\u001b[37m<cstdlib>\u001b[39;49;00m\u001b[36m\u001b[39;49;00m\n",
      "\u001b[36m#\u001b[39;49;00m\u001b[36minclude\u001b[39;49;00m\u001b[37m \u001b[39;49;00m\u001b[37m<iostream>\u001b[39;49;00m\u001b[36m\u001b[39;49;00m\n",
      "\u001b[36m#\u001b[39;49;00m\u001b[36minclude\u001b[39;49;00m\u001b[37m \u001b[39;49;00m\u001b[37m<omp.h>\u001b[39;49;00m\u001b[36m\u001b[39;49;00m\n",
      "\u001b[36m#\u001b[39;49;00m\u001b[36minclude\u001b[39;49;00m\u001b[37m \u001b[39;49;00m\u001b[37m<vector>\u001b[39;49;00m\u001b[36m\u001b[39;49;00m\n",
      "\u001b[37m\u001b[39;49;00m\n",
      "\u001b[36mint\u001b[39;49;00m\u001b[37m \u001b[39;49;00m\u001b[32mmain\u001b[39;49;00m(\u001b[36mint\u001b[39;49;00m\u001b[37m \u001b[39;49;00margc,\u001b[37m \u001b[39;49;00m\u001b[36mchar\u001b[39;49;00m\u001b[37m \u001b[39;49;00m\u001b[34mconst\u001b[39;49;00m*\u001b[37m \u001b[39;49;00margv[])\u001b[37m \u001b[39;49;00m{\u001b[37m\u001b[39;49;00m\n",
      "\u001b[37m\u001b[39;49;00m\n",
      "\u001b[36m#\u001b[39;49;00m\u001b[36mpragma omp parallel num_threads(3)\u001b[39;49;00m\u001b[36m\u001b[39;49;00m\n",
      "\u001b[37m  \u001b[39;49;00m{\u001b[37m\u001b[39;49;00m\n",
      "\u001b[37m    \u001b[39;49;00m\u001b[36mint\u001b[39;49;00m\u001b[37m \u001b[39;49;00msize\u001b[37m \u001b[39;49;00m=\u001b[37m \u001b[39;49;00momp_get_num_threads();\u001b[37m\u001b[39;49;00m\n",
      "\u001b[37m    \u001b[39;49;00m\u001b[36mint\u001b[39;49;00m\u001b[37m \u001b[39;49;00mrank\u001b[37m \u001b[39;49;00m=\u001b[37m \u001b[39;49;00momp_get_thread_num();\u001b[37m\u001b[39;49;00m\n",
      "\u001b[36m#\u001b[39;49;00m\u001b[36mpragma omp for\u001b[39;49;00m\u001b[36m\u001b[39;49;00m\n",
      "\u001b[37m    \u001b[39;49;00m\u001b[34mfor\u001b[39;49;00m(\u001b[36mint\u001b[39;49;00m\u001b[37m \u001b[39;49;00mi\u001b[37m \u001b[39;49;00m=\u001b[37m \u001b[39;49;00m\u001b[34m0\u001b[39;49;00m;\u001b[37m \u001b[39;49;00mi\u001b[37m \u001b[39;49;00m<\u001b[37m \u001b[39;49;00m\u001b[34m6\u001b[39;49;00m;\u001b[37m \u001b[39;49;00m++i)\u001b[37m \u001b[39;49;00m{\u001b[37m\u001b[39;49;00m\n",
      "\u001b[37m      \u001b[39;49;00mstd::string\u001b[37m \u001b[39;49;00ms\u001b[37m \u001b[39;49;00m=\u001b[37m \u001b[39;49;00m\u001b[33m\"\u001b[39;49;00m\u001b[33mloop 1, iteration\u001b[39;49;00m\u001b[33m\"\u001b[39;49;00m\u001b[37m \u001b[39;49;00m+\u001b[37m \u001b[39;49;00mstd::to_string(i)\u001b[37m \u001b[39;49;00m+\u001b[37m \u001b[39;49;00m\u001b[33m\"\u001b[39;49;00m\u001b[33m\\n\u001b[39;49;00m\u001b[33m\"\u001b[39;49;00m;\u001b[37m\u001b[39;49;00m\n",
      "\u001b[37m      \u001b[39;49;00mstd::cout\u001b[37m \u001b[39;49;00m<<\u001b[37m \u001b[39;49;00ms;\u001b[37m\u001b[39;49;00m\n",
      "\u001b[37m    \u001b[39;49;00m}\u001b[37m\u001b[39;49;00m\n",
      "\u001b[37m\u001b[39;49;00m\n",
      "\u001b[36m#\u001b[39;49;00m\u001b[36mpragma omp for\u001b[39;49;00m\u001b[36m\u001b[39;49;00m\n",
      "\u001b[37m    \u001b[39;49;00m\u001b[34mfor\u001b[39;49;00m(\u001b[36mint\u001b[39;49;00m\u001b[37m \u001b[39;49;00mi\u001b[37m \u001b[39;49;00m=\u001b[37m \u001b[39;49;00m\u001b[34m0\u001b[39;49;00m;\u001b[37m \u001b[39;49;00mi\u001b[37m \u001b[39;49;00m<\u001b[37m \u001b[39;49;00m\u001b[34m6\u001b[39;49;00m;\u001b[37m \u001b[39;49;00m++i)\u001b[37m \u001b[39;49;00m{\u001b[37m\u001b[39;49;00m\n",
      "\u001b[37m      \u001b[39;49;00mstd::string\u001b[37m \u001b[39;49;00ms\u001b[37m \u001b[39;49;00m=\u001b[37m \u001b[39;49;00m\u001b[33m\"\u001b[39;49;00m\u001b[33mloop 2, iteration\u001b[39;49;00m\u001b[33m\"\u001b[39;49;00m\u001b[37m \u001b[39;49;00m+\u001b[37m \u001b[39;49;00mstd::to_string(i)\u001b[37m \u001b[39;49;00m+\u001b[37m \u001b[39;49;00m\u001b[33m\"\u001b[39;49;00m\u001b[33m\\n\u001b[39;49;00m\u001b[33m\"\u001b[39;49;00m;\u001b[37m\u001b[39;49;00m\n",
      "\u001b[37m      \u001b[39;49;00mstd::cout\u001b[37m \u001b[39;49;00m<<\u001b[37m \u001b[39;49;00ms;\u001b[37m\u001b[39;49;00m\n",
      "\u001b[37m    \u001b[39;49;00m}\u001b[37m\u001b[39;49;00m\n",
      "\u001b[37m  \u001b[39;49;00m}\u001b[37m\u001b[39;49;00m\n",
      "}\u001b[37m\u001b[39;49;00m\n"
     ]
    }
   ],
   "source": [
    "pygmentize omp_examples/a12-loops.cpp"
   ]
  },
  {
   "cell_type": "code",
   "execution_count": 41,
   "metadata": {},
   "outputs": [
    {
     "name": "stdout",
     "output_type": "stream",
     "text": [
      "loop 1, iteration0\n",
      "loop 1, iteration1\n",
      "loop 1, iteration4\n",
      "loop 1, iteration5\n",
      "loop 1, iteration2\n",
      "loop 1, iteration3\n",
      "loop 2, iteration4\n",
      "loop 2, iteration5\n",
      "loop 2, iteration2\n",
      "loop 2, iteration3\n",
      "loop 2, iteration0\n",
      "loop 2, iteration1\n"
     ]
    }
   ],
   "source": [
    "g++ omp_examples/a12-loops.cpp -fopenmp -o loops.out && ./loops.out"
   ]
  },
  {
   "cell_type": "markdown",
   "metadata": {},
   "source": [
    "<div class=\"alert alert-block alert-warning\">\n",
    "    We learn that loops synchrnoize afterwards\n",
    "</div>"
   ]
  },
  {
   "cell_type": "code",
   "execution_count": 42,
   "metadata": {},
   "outputs": [
    {
     "name": "stdout",
     "output_type": "stream",
     "text": [
      "\u001b[36m#\u001b[39;49;00m\u001b[36minclude\u001b[39;49;00m\u001b[37m \u001b[39;49;00m\u001b[37m<cstdlib>\u001b[39;49;00m\u001b[36m\u001b[39;49;00m\n",
      "\u001b[36m#\u001b[39;49;00m\u001b[36minclude\u001b[39;49;00m\u001b[37m \u001b[39;49;00m\u001b[37m<iostream>\u001b[39;49;00m\u001b[36m\u001b[39;49;00m\n",
      "\u001b[36m#\u001b[39;49;00m\u001b[36minclude\u001b[39;49;00m\u001b[37m \u001b[39;49;00m\u001b[37m<omp.h>\u001b[39;49;00m\u001b[36m\u001b[39;49;00m\n",
      "\u001b[36m#\u001b[39;49;00m\u001b[36minclude\u001b[39;49;00m\u001b[37m \u001b[39;49;00m\u001b[37m<vector>\u001b[39;49;00m\u001b[36m\u001b[39;49;00m\n",
      "\u001b[37m\u001b[39;49;00m\n",
      "\u001b[36mint\u001b[39;49;00m\u001b[37m \u001b[39;49;00m\u001b[32mmain\u001b[39;49;00m(\u001b[36mint\u001b[39;49;00m\u001b[37m \u001b[39;49;00margc,\u001b[37m \u001b[39;49;00m\u001b[36mchar\u001b[39;49;00m\u001b[37m \u001b[39;49;00m\u001b[34mconst\u001b[39;49;00m*\u001b[37m \u001b[39;49;00margv[])\u001b[37m \u001b[39;49;00m{\u001b[37m\u001b[39;49;00m\n",
      "\u001b[37m\u001b[39;49;00m\n",
      "\u001b[36m#\u001b[39;49;00m\u001b[36mpragma omp parallel num_threads(3)\u001b[39;49;00m\u001b[36m\u001b[39;49;00m\n",
      "\u001b[37m  \u001b[39;49;00m{\u001b[37m\u001b[39;49;00m\n",
      "\u001b[37m    \u001b[39;49;00m\u001b[36mint\u001b[39;49;00m\u001b[37m \u001b[39;49;00msize\u001b[37m \u001b[39;49;00m=\u001b[37m \u001b[39;49;00momp_get_num_threads();\u001b[37m\u001b[39;49;00m\n",
      "\u001b[37m    \u001b[39;49;00m\u001b[36mint\u001b[39;49;00m\u001b[37m \u001b[39;49;00mrank\u001b[37m \u001b[39;49;00m=\u001b[37m \u001b[39;49;00momp_get_thread_num();\u001b[37m\u001b[39;49;00m\n",
      "\u001b[36m#\u001b[39;49;00m\u001b[36mpragma omp for nowait\u001b[39;49;00m\u001b[36m\u001b[39;49;00m\n",
      "\u001b[37m    \u001b[39;49;00m\u001b[34mfor\u001b[39;49;00m(\u001b[36mint\u001b[39;49;00m\u001b[37m \u001b[39;49;00mi\u001b[37m \u001b[39;49;00m=\u001b[37m \u001b[39;49;00m\u001b[34m0\u001b[39;49;00m;\u001b[37m \u001b[39;49;00mi\u001b[37m \u001b[39;49;00m<\u001b[37m \u001b[39;49;00m\u001b[34m6\u001b[39;49;00m;\u001b[37m \u001b[39;49;00m++i)\u001b[37m \u001b[39;49;00m{\u001b[37m\u001b[39;49;00m\n",
      "\u001b[37m      \u001b[39;49;00mstd::string\u001b[37m \u001b[39;49;00ms\u001b[37m \u001b[39;49;00m=\u001b[37m \u001b[39;49;00m\u001b[33m\"\u001b[39;49;00m\u001b[33mloop 1, iteration \u001b[39;49;00m\u001b[33m\"\u001b[39;49;00m\u001b[37m \u001b[39;49;00m+\u001b[37m \u001b[39;49;00mstd::to_string(i)\u001b[37m \u001b[39;49;00m+\u001b[37m \u001b[39;49;00m\u001b[33m\"\u001b[39;49;00m\u001b[33m\\n\u001b[39;49;00m\u001b[33m\"\u001b[39;49;00m;\u001b[37m\u001b[39;49;00m\n",
      "\u001b[37m      \u001b[39;49;00mstd::cout\u001b[37m \u001b[39;49;00m<<\u001b[37m \u001b[39;49;00ms;\u001b[37m\u001b[39;49;00m\n",
      "\u001b[37m    \u001b[39;49;00m}\u001b[37m\u001b[39;49;00m\n",
      "\u001b[37m\u001b[39;49;00m\n",
      "\u001b[36m#\u001b[39;49;00m\u001b[36mpragma omp for nowait\u001b[39;49;00m\u001b[36m\u001b[39;49;00m\n",
      "\u001b[37m    \u001b[39;49;00m\u001b[34mfor\u001b[39;49;00m(\u001b[36mint\u001b[39;49;00m\u001b[37m \u001b[39;49;00mi\u001b[37m \u001b[39;49;00m=\u001b[37m \u001b[39;49;00m\u001b[34m0\u001b[39;49;00m;\u001b[37m \u001b[39;49;00mi\u001b[37m \u001b[39;49;00m<\u001b[37m \u001b[39;49;00m\u001b[34m6\u001b[39;49;00m;\u001b[37m \u001b[39;49;00m++i)\u001b[37m \u001b[39;49;00m{\u001b[37m\u001b[39;49;00m\n",
      "\u001b[37m      \u001b[39;49;00mstd::string\u001b[37m \u001b[39;49;00ms\u001b[37m \u001b[39;49;00m=\u001b[37m \u001b[39;49;00m\u001b[33m\"\u001b[39;49;00m\u001b[33mloop 2, iteration \u001b[39;49;00m\u001b[33m\"\u001b[39;49;00m\u001b[37m \u001b[39;49;00m+\u001b[37m \u001b[39;49;00mstd::to_string(i)\u001b[37m \u001b[39;49;00m+\u001b[37m \u001b[39;49;00m\u001b[33m\"\u001b[39;49;00m\u001b[33m\\n\u001b[39;49;00m\u001b[33m\"\u001b[39;49;00m;\u001b[37m\u001b[39;49;00m\n",
      "\u001b[37m      \u001b[39;49;00mstd::cout\u001b[37m \u001b[39;49;00m<<\u001b[37m \u001b[39;49;00ms;\u001b[37m\u001b[39;49;00m\n",
      "\u001b[37m    \u001b[39;49;00m}\u001b[37m\u001b[39;49;00m\n",
      "\u001b[37m  \u001b[39;49;00m}\u001b[37m\u001b[39;49;00m\n",
      "}\u001b[37m\u001b[39;49;00m\n"
     ]
    }
   ],
   "source": [
    "pygmentize omp_examples/a13-nowait.cpp"
   ]
  },
  {
   "cell_type": "code",
   "execution_count": 43,
   "metadata": {},
   "outputs": [
    {
     "name": "stdout",
     "output_type": "stream",
     "text": [
      "loop 1, iteration 0\n",
      "loop 1, iteration 4\n",
      "loop 1, iteration 5\n",
      "loop 2, iteration 4\n",
      "loop 2, iteration 5\n",
      "loop 1, iteration 1\n",
      "loop 2, iteration 0\n",
      "loop 2, iteration 1\n",
      "loop 1, iteration 2\n",
      "loop 1, iteration 3\n",
      "loop 2, iteration 2\n",
      "loop 2, iteration 3\n"
     ]
    }
   ],
   "source": [
    "g++ omp_examples/a13-nowait.cpp -fopenmp -o nowait.out && ./nowait.out"
   ]
  },
  {
   "cell_type": "markdown",
   "metadata": {},
   "source": [
    "<div class=\"alert alert-block alert-warning\">\n",
    "    We learn that the nowait keyword can remove synchonizaton\n",
    "</div>"
   ]
  },
  {
   "cell_type": "markdown",
   "metadata": {},
   "source": [
    "## Reductions\n",
    "<div class=\"alert alert-block alert-danger\">\n",
    "This is an important concept to understand but is not necessarily used in our example\n",
    "</div>\n",
    "\n",
    "Since reductions are such an omnipresent motif, we do not want to implement it with critical / atomic every time, so there is a keyword for it:"
   ]
  },
  {
   "cell_type": "code",
   "execution_count": 44,
   "metadata": {},
   "outputs": [
    {
     "name": "stdout",
     "output_type": "stream",
     "text": [
      "\u001b[36m#\u001b[39;49;00m\u001b[36minclude\u001b[39;49;00m\u001b[37m \u001b[39;49;00m\u001b[37m<cstdlib>\u001b[39;49;00m\u001b[36m\u001b[39;49;00m\n",
      "\u001b[36m#\u001b[39;49;00m\u001b[36minclude\u001b[39;49;00m\u001b[37m \u001b[39;49;00m\u001b[37m<iostream>\u001b[39;49;00m\u001b[36m\u001b[39;49;00m\n",
      "\u001b[36m#\u001b[39;49;00m\u001b[36minclude\u001b[39;49;00m\u001b[37m \u001b[39;49;00m\u001b[37m<omp.h>\u001b[39;49;00m\u001b[36m\u001b[39;49;00m\n",
      "\u001b[36m#\u001b[39;49;00m\u001b[36minclude\u001b[39;49;00m\u001b[37m \u001b[39;49;00m\u001b[37m<vector>\u001b[39;49;00m\u001b[36m\u001b[39;49;00m\n",
      "\u001b[37m\u001b[39;49;00m\n",
      "\u001b[36mint\u001b[39;49;00m\u001b[37m \u001b[39;49;00m\u001b[32mmain\u001b[39;49;00m(\u001b[36mint\u001b[39;49;00m\u001b[37m \u001b[39;49;00margc,\u001b[37m \u001b[39;49;00m\u001b[36mchar\u001b[39;49;00m\u001b[37m \u001b[39;49;00m\u001b[34mconst\u001b[39;49;00m*\u001b[37m \u001b[39;49;00margv[])\u001b[37m \u001b[39;49;00m{\u001b[37m\u001b[39;49;00m\n",
      "\u001b[37m  \u001b[39;49;00m\u001b[36mdouble\u001b[39;49;00m\u001b[37m \u001b[39;49;00msum;\u001b[37m\u001b[39;49;00m\n",
      "\u001b[36m#\u001b[39;49;00m\u001b[36mpragma omp parallel for reduction(+ : sum)\u001b[39;49;00m\u001b[36m\u001b[39;49;00m\n",
      "\u001b[37m  \u001b[39;49;00m\u001b[34mfor\u001b[39;49;00m(std::\u001b[36msize_t\u001b[39;49;00m\u001b[37m \u001b[39;49;00mt\u001b[37m \u001b[39;49;00m=\u001b[37m \u001b[39;49;00m\u001b[34m0\u001b[39;49;00m;\u001b[37m \u001b[39;49;00mt\u001b[37m \u001b[39;49;00m<\u001b[37m \u001b[39;49;00m\u001b[34m10\u001b[39;49;00m;++t)\u001b[37m \u001b[39;49;00m{\u001b[37m\u001b[39;49;00m\n",
      "\u001b[37m    \u001b[39;49;00msum\u001b[37m \u001b[39;49;00m+=\u001b[37m \u001b[39;49;00mt;\u001b[37m\u001b[39;49;00m\n",
      "\u001b[37m  \u001b[39;49;00m}\u001b[37m\u001b[39;49;00m\n",
      "\u001b[37m    \u001b[39;49;00mstd::cout\u001b[37m \u001b[39;49;00m<<\u001b[37m \u001b[39;49;00msum<<std::endl;\u001b[37m\u001b[39;49;00m\n",
      "}\u001b[37m\u001b[39;49;00m\n"
     ]
    }
   ],
   "source": [
    "pygmentize omp_examples/a14-reduction.cpp"
   ]
  },
  {
   "cell_type": "code",
   "execution_count": 45,
   "metadata": {},
   "outputs": [
    {
     "name": "stdout",
     "output_type": "stream",
     "text": [
      "45\n"
     ]
    }
   ],
   "source": [
    "g++ omp_examples/a14-reduction.cpp -fopenmp -o reduction.out && ./reduction.out"
   ]
  },
  {
   "cell_type": "markdown",
   "metadata": {},
   "source": [
    "<div class=\"alert alert-block alert-warning\">\n",
    "    We learn about the reduction keyword\n",
    "</div>"
   ]
  },
  {
   "cell_type": "markdown",
   "metadata": {},
   "source": [
    "# Amdahl's law\n",
    "\n",
    "We try to investigate the performance of a simple example, computing $\\pi$ using the Leibniz formula:\n",
    "\n",
    "$$1 - \\frac{1}{3} + \\frac{1}{5} - \\frac{1}{7} + \\frac{1}{9} ... = \\frac{\\pi}{4}$$\n",
    "\n",
    "Our goal is to understand what might affect performance and how this is reflected in strong and weak scaling plots\n",
    "\n",
    "## Strong Scaling\n",
    "\n",
    "Understanding how much faster the code gets though parallelization"
   ]
  },
  {
   "cell_type": "code",
   "execution_count": 46,
   "metadata": {},
   "outputs": [
    {
     "name": "stdout",
     "output_type": "stream",
     "text": [
      "\u001b[36m#\u001b[39;49;00m\u001b[36minclude\u001b[39;49;00m\u001b[37m \u001b[39;49;00m\u001b[37m<iostream>\u001b[39;49;00m\u001b[36m\u001b[39;49;00m\n",
      "\u001b[36m#\u001b[39;49;00m\u001b[36minclude\u001b[39;49;00m\u001b[37m \u001b[39;49;00m\u001b[37m<omp.h>\u001b[39;49;00m\u001b[36m\u001b[39;49;00m\n",
      "\u001b[36m#\u001b[39;49;00m\u001b[36minclude\u001b[39;49;00m\u001b[37m \u001b[39;49;00m\u001b[37m<vector>\u001b[39;49;00m\u001b[36m\u001b[39;49;00m\n",
      "\u001b[37m\u001b[39;49;00m\n",
      "\u001b[36mint\u001b[39;49;00m\u001b[37m \u001b[39;49;00m\u001b[32mmain\u001b[39;49;00m(\u001b[36mint\u001b[39;49;00m\u001b[37m \u001b[39;49;00margc,\u001b[37m \u001b[39;49;00m\u001b[36mchar\u001b[39;49;00m\u001b[37m \u001b[39;49;00m\u001b[34mconst\u001b[39;49;00m*\u001b[37m \u001b[39;49;00margv[])\u001b[37m \u001b[39;49;00m{\u001b[37m\u001b[39;49;00m\n",
      "\u001b[37m\u001b[39;49;00m\n",
      "\u001b[37m  \u001b[39;49;00m\u001b[36mint\u001b[39;49;00m\u001b[37m \u001b[39;49;00mnThreads\u001b[37m \u001b[39;49;00m=\u001b[37m \u001b[39;49;00matoi(argv[\u001b[34m1\u001b[39;49;00m]);\u001b[37m\u001b[39;49;00m\n",
      "\u001b[37m  \u001b[39;49;00momp_set_num_threads(nThreads);\u001b[37m\u001b[39;49;00m\n",
      "\u001b[37m  \u001b[39;49;00m\u001b[37m\u001b[39;49;00m\n",
      "\u001b[37m\u001b[39;49;00m\n",
      "\u001b[37m\u001b[39;49;00m\n",
      "\u001b[37m  \u001b[39;49;00m\u001b[36mdouble\u001b[39;49;00m\u001b[37m \u001b[39;49;00mtic\u001b[37m \u001b[39;49;00m=\u001b[37m \u001b[39;49;00momp_get_wtime();\u001b[37m\u001b[39;49;00m\n",
      "\u001b[37m\u001b[39;49;00m\n",
      "\u001b[37m  \u001b[39;49;00m\u001b[36mint\u001b[39;49;00m\u001b[37m \u001b[39;49;00msteps\u001b[37m \u001b[39;49;00m=\u001b[37m \u001b[39;49;00m\u001b[34m10000000\u001b[39;49;00m;\u001b[37m\u001b[39;49;00m\n",
      "\u001b[37m  \u001b[39;49;00m\u001b[36mdouble\u001b[39;49;00m\u001b[37m \u001b[39;49;00msum;\u001b[37m\u001b[39;49;00m\n",
      "\u001b[36m#\u001b[39;49;00m\u001b[36mpragma omp parallel for reduction(+ : sum)\u001b[39;49;00m\u001b[36m\u001b[39;49;00m\n",
      "\u001b[37m  \u001b[39;49;00m\u001b[34mfor\u001b[39;49;00m(std::\u001b[36msize_t\u001b[39;49;00m\u001b[37m \u001b[39;49;00mt\u001b[37m \u001b[39;49;00m=\u001b[37m \u001b[39;49;00m\u001b[34m0\u001b[39;49;00m;\u001b[37m \u001b[39;49;00mt\u001b[37m \u001b[39;49;00m<\u001b[37m \u001b[39;49;00msteps;\u001b[37m \u001b[39;49;00m++t)\u001b[37m \u001b[39;49;00m{\u001b[37m\u001b[39;49;00m\n",
      "\u001b[37m    \u001b[39;49;00msum\u001b[37m \u001b[39;49;00m+=\u001b[37m \u001b[39;49;00m(\u001b[34m1.0\u001b[39;49;00m\u001b[37m \u001b[39;49;00m-\u001b[37m \u001b[39;49;00m\u001b[34m2\u001b[39;49;00m\u001b[37m \u001b[39;49;00m*\u001b[37m \u001b[39;49;00m(t\u001b[37m \u001b[39;49;00m%\u001b[37m \u001b[39;49;00m\u001b[34m2\u001b[39;49;00m))\u001b[37m \u001b[39;49;00m/\u001b[37m \u001b[39;49;00m(\u001b[34m2\u001b[39;49;00m\u001b[37m \u001b[39;49;00m*\u001b[37m \u001b[39;49;00mt\u001b[37m \u001b[39;49;00m+\u001b[37m \u001b[39;49;00m\u001b[34m1\u001b[39;49;00m);\u001b[37m\u001b[39;49;00m\n",
      "\u001b[37m  \u001b[39;49;00m}\u001b[37m\u001b[39;49;00m\n",
      "\u001b[37m\u001b[39;49;00m\n",
      "\u001b[37m  \u001b[39;49;00m\u001b[36mdouble\u001b[39;49;00m\u001b[37m \u001b[39;49;00mtoc\u001b[37m \u001b[39;49;00m=\u001b[37m \u001b[39;49;00momp_get_wtime();\u001b[37m\u001b[39;49;00m\n",
      "\u001b[37m\u001b[39;49;00m\n",
      "\u001b[36m#\u001b[39;49;00m\u001b[36mpragma omp parallel\u001b[39;49;00m\u001b[36m\u001b[39;49;00m\n",
      "\u001b[37m  \u001b[39;49;00m{\u001b[37m\u001b[39;49;00m\n",
      "\u001b[37m    \u001b[39;49;00m\u001b[34mif\u001b[39;49;00m(omp_get_thread_num()\u001b[37m \u001b[39;49;00m==\u001b[37m \u001b[39;49;00m\u001b[34m0\u001b[39;49;00m)\u001b[37m\u001b[39;49;00m\n",
      "\u001b[37m      \u001b[39;49;00mstd::cout\u001b[37m \u001b[39;49;00m<<\u001b[37m \u001b[39;49;00momp_get_num_threads()\u001b[37m \u001b[39;49;00m<<\u001b[37m \u001b[39;49;00m\u001b[33m\"\u001b[39;49;00m\u001b[33m\\t\u001b[39;49;00m\u001b[33m\"\u001b[39;49;00m\u001b[37m \u001b[39;49;00m<<\u001b[37m \u001b[39;49;00mtoc\u001b[37m \u001b[39;49;00m-\u001b[37m \u001b[39;49;00mtic\u001b[37m \u001b[39;49;00m<<\u001b[37m \u001b[39;49;00mstd::endl;\u001b[37m\u001b[39;49;00m\n",
      "\u001b[37m  \u001b[39;49;00m}\u001b[37m\u001b[39;49;00m\n",
      "\u001b[37m\u001b[39;49;00m\n",
      "\u001b[37m  \u001b[39;49;00m\u001b[34mreturn\u001b[39;49;00m\u001b[37m \u001b[39;49;00m\u001b[34m0\u001b[39;49;00m;\u001b[37m\u001b[39;49;00m\n",
      "}\u001b[37m\u001b[39;49;00m\n"
     ]
    }
   ],
   "source": [
    "pygmentize omp_examples/b01-timing.cpp"
   ]
  },
  {
   "cell_type": "code",
   "execution_count": 47,
   "metadata": {},
   "outputs": [],
   "source": [
    "g++ -fopenmp omp_examples/b01-timing.cpp -o timing.out"
   ]
  },
  {
   "cell_type": "code",
   "execution_count": 48,
   "metadata": {},
   "outputs": [],
   "source": [
    "./timing.out 1 > out.txt\n",
    "./timing.out 2 >> out.txt\n",
    "./timing.out 3 >> out.txt\n",
    "./timing.out 4 >> out.txt\n",
    "./timing.out 5 >> out.txt\n",
    "./timing.out 6 >> out.txt\n",
    "./timing.out 7 >> out.txt\n",
    "./timing.out 8 >> out.txt\n",
    "./timing.out 9 >> out.txt\n",
    "./timing.out 10 >> out.txt\n",
    "./timing.out 11 >> out.txt\n",
    "./timing.out 12 >> out.txt"
   ]
  },
  {
   "cell_type": "code",
   "execution_count": 49,
   "metadata": {},
   "outputs": [
    {
     "name": "stdout",
     "output_type": "stream",
     "text": []
    },
    {
     "data": {
      "image/png": "[encoded data removed]"
     },
     "metadata": {},
     "output_type": "display_data"
    }
   ],
   "source": [
    "gnuplot -e \"\\\n",
    "set terminal png; \\\n",
    "set style fill solid; \\\n",
    "set yrange[0:0.1]; \\\n",
    "set xlabel '# cores'; \\\n",
    "set ylabel 'runtime [s]'; \\\n",
    "plot 'out.txt' using 2: xtic(1) title 'runtime' with histogram \\\n",
    "\" | display"
   ]
  },
  {
   "cell_type": "code",
   "execution_count": 50,
   "metadata": {},
   "outputs": [
    {
     "name": "stdout",
     "output_type": "stream",
     "text": []
    },
    {
     "data": {
      "image/png": "[encoded data removed]"
     },
     "metadata": {},
     "output_type": "display_data"
    }
   ],
   "source": [
    "base=`head -1 out.txt | awk '{print $2}'`\n",
    "gnuplot -e \"\\\n",
    "set terminal png; \\\n",
    "set style fill solid; \\\n",
    "set yrange[0:14]; \\\n",
    "set xlabel '# cores'; \\\n",
    "set ylabel 'speedup (relative to 1 core)'; \\\n",
    "plot 'out.txt' using ($base/\\$2): xtic(1) title 'runtime' with histogram, \n",
    "'out.txt' using :(\\$1) title 'linear' with lines\\\n",
    "\" | display"
   ]
  },
  {
   "cell_type": "markdown",
   "metadata": {},
   "source": [
    "<div class=\"alert alert-block alert-info\">\n",
    "<b>Now it's your turn...</b><br>\n",
    "<b>9.</b> Can you explain the performance numbers that we see here? What effects are in place?<br>    \n",
    "</div>"
   ]
  },
  {
   "cell_type": "markdown",
   "metadata": {},
   "source": [
    "We have a code that is not perfectly parallel - the actual reduction has a sequential part. So we can't scale 100% perfect.\n"
   ]
  },
  {
   "cell_type": "markdown",
   "metadata": {},
   "source": [
    "## Weak scaling\n",
    "Measuring the performance hit we get by increasing the problem size as well as the number of threads"
   ]
  },
  {
   "cell_type": "code",
   "execution_count": 51,
   "metadata": {},
   "outputs": [
    {
     "name": "stdout",
     "output_type": "stream",
     "text": [
      "\u001b[36m#\u001b[39;49;00m\u001b[36minclude\u001b[39;49;00m\u001b[37m \u001b[39;49;00m\u001b[37m<iostream>\u001b[39;49;00m\u001b[36m\u001b[39;49;00m\n",
      "\u001b[36m#\u001b[39;49;00m\u001b[36minclude\u001b[39;49;00m\u001b[37m \u001b[39;49;00m\u001b[37m<omp.h>\u001b[39;49;00m\u001b[36m\u001b[39;49;00m\n",
      "\u001b[36m#\u001b[39;49;00m\u001b[36minclude\u001b[39;49;00m\u001b[37m \u001b[39;49;00m\u001b[37m<vector>\u001b[39;49;00m\u001b[36m\u001b[39;49;00m\n",
      "\u001b[37m\u001b[39;49;00m\n",
      "\u001b[36mint\u001b[39;49;00m\u001b[37m \u001b[39;49;00m\u001b[32mmain\u001b[39;49;00m(\u001b[36mint\u001b[39;49;00m\u001b[37m \u001b[39;49;00margc,\u001b[37m \u001b[39;49;00m\u001b[36mchar\u001b[39;49;00m\u001b[37m \u001b[39;49;00m\u001b[34mconst\u001b[39;49;00m*\u001b[37m \u001b[39;49;00margv[])\u001b[37m \u001b[39;49;00m{\u001b[37m\u001b[39;49;00m\n",
      "\u001b[37m\u001b[39;49;00m\n",
      "\u001b[37m  \u001b[39;49;00m\u001b[36mint\u001b[39;49;00m\u001b[37m \u001b[39;49;00mnThreads\u001b[37m \u001b[39;49;00m=\u001b[37m \u001b[39;49;00matoi(argv[\u001b[34m1\u001b[39;49;00m]);\u001b[37m\u001b[39;49;00m\n",
      "\u001b[37m  \u001b[39;49;00m\u001b[36mint\u001b[39;49;00m\u001b[37m \u001b[39;49;00msteps\u001b[37m \u001b[39;49;00m=\u001b[37m \u001b[39;49;00m\u001b[34m10000000\u001b[39;49;00m\u001b[37m \u001b[39;49;00m*\u001b[37m \u001b[39;49;00mnThreads;\u001b[37m\u001b[39;49;00m\n",
      "\u001b[37m  \u001b[39;49;00m\u001b[36mdouble\u001b[39;49;00m\u001b[37m \u001b[39;49;00msum;\u001b[37m\u001b[39;49;00m\n",
      "\u001b[37m\u001b[39;49;00m\n",
      "\u001b[37m  \u001b[39;49;00momp_set_num_threads(nThreads);\u001b[37m\u001b[39;49;00m\n",
      "\u001b[37m\u001b[39;49;00m\n",
      "\u001b[37m  \u001b[39;49;00m\u001b[36mdouble\u001b[39;49;00m\u001b[37m \u001b[39;49;00mtic\u001b[37m \u001b[39;49;00m=\u001b[37m \u001b[39;49;00momp_get_wtime();\u001b[37m\u001b[39;49;00m\n",
      "\u001b[37m\u001b[39;49;00m\n",
      "\u001b[36m#\u001b[39;49;00m\u001b[36mpragma omp parallel for reduction(+ : sum)\u001b[39;49;00m\u001b[36m\u001b[39;49;00m\n",
      "\u001b[37m  \u001b[39;49;00m\u001b[34mfor\u001b[39;49;00m(std::\u001b[36msize_t\u001b[39;49;00m\u001b[37m \u001b[39;49;00mt\u001b[37m \u001b[39;49;00m=\u001b[37m \u001b[39;49;00m\u001b[34m0\u001b[39;49;00m;\u001b[37m \u001b[39;49;00mt\u001b[37m \u001b[39;49;00m<\u001b[37m \u001b[39;49;00msteps;\u001b[37m \u001b[39;49;00m++t)\u001b[37m \u001b[39;49;00m{\u001b[37m\u001b[39;49;00m\n",
      "\u001b[37m    \u001b[39;49;00msum\u001b[37m \u001b[39;49;00m+=\u001b[37m \u001b[39;49;00m(\u001b[34m1.0\u001b[39;49;00m\u001b[37m \u001b[39;49;00m-\u001b[37m \u001b[39;49;00m\u001b[34m2\u001b[39;49;00m\u001b[37m \u001b[39;49;00m*\u001b[37m \u001b[39;49;00m(t\u001b[37m \u001b[39;49;00m%\u001b[37m \u001b[39;49;00m\u001b[34m2\u001b[39;49;00m))\u001b[37m \u001b[39;49;00m/\u001b[37m \u001b[39;49;00m(\u001b[34m2\u001b[39;49;00m\u001b[37m \u001b[39;49;00m*\u001b[37m \u001b[39;49;00mt\u001b[37m \u001b[39;49;00m+\u001b[37m \u001b[39;49;00m\u001b[34m1\u001b[39;49;00m);\u001b[37m\u001b[39;49;00m\n",
      "\u001b[37m  \u001b[39;49;00m}\u001b[37m\u001b[39;49;00m\n",
      "\u001b[37m\u001b[39;49;00m\n",
      "\u001b[37m  \u001b[39;49;00m\u001b[36mdouble\u001b[39;49;00m\u001b[37m \u001b[39;49;00mtoc\u001b[37m \u001b[39;49;00m=\u001b[37m \u001b[39;49;00momp_get_wtime();\u001b[37m\u001b[39;49;00m\n",
      "\u001b[37m\u001b[39;49;00m\n",
      "\u001b[36m#\u001b[39;49;00m\u001b[36mpragma omp parallel\u001b[39;49;00m\u001b[36m\u001b[39;49;00m\n",
      "\u001b[37m  \u001b[39;49;00m{\u001b[37m\u001b[39;49;00m\n",
      "\u001b[37m    \u001b[39;49;00m\u001b[34mif\u001b[39;49;00m(omp_get_thread_num()\u001b[37m \u001b[39;49;00m==\u001b[37m \u001b[39;49;00m\u001b[34m0\u001b[39;49;00m)\u001b[37m\u001b[39;49;00m\n",
      "\u001b[37m      \u001b[39;49;00mstd::cout\u001b[37m \u001b[39;49;00m<<\u001b[37m \u001b[39;49;00momp_get_num_threads()\u001b[37m \u001b[39;49;00m<<\u001b[37m \u001b[39;49;00m\u001b[33m\"\u001b[39;49;00m\u001b[33m\\t\u001b[39;49;00m\u001b[33m\"\u001b[39;49;00m\u001b[37m \u001b[39;49;00m<<\u001b[37m \u001b[39;49;00mtoc\u001b[37m \u001b[39;49;00m-\u001b[37m \u001b[39;49;00mtic\u001b[37m \u001b[39;49;00m<<\u001b[37m \u001b[39;49;00mstd::endl;\u001b[37m\u001b[39;49;00m\n",
      "\u001b[37m  \u001b[39;49;00m}\u001b[37m\u001b[39;49;00m\n",
      "\u001b[37m\u001b[39;49;00m\n",
      "\u001b[37m  \u001b[39;49;00m\u001b[34mreturn\u001b[39;49;00m\u001b[37m \u001b[39;49;00m\u001b[34m0\u001b[39;49;00m;\u001b[37m\u001b[39;49;00m\n",
      "}\u001b[37m\u001b[39;49;00m\n"
     ]
    }
   ],
   "source": [
    "pygmentize omp_examples/b02-weakscaling.cpp"
   ]
  },
  {
   "cell_type": "code",
   "execution_count": 52,
   "metadata": {},
   "outputs": [],
   "source": [
    "g++ -fopenmp omp_examples/b02-weakscaling.cpp -o weak.out"
   ]
  },
  {
   "cell_type": "code",
   "execution_count": 55,
   "metadata": {},
   "outputs": [],
   "source": [
    "./weak.out 1 > weak.txt\n",
    "./weak.out 2 >> weak.txt\n",
    "./weak.out 4 >> weak.txt\n",
    "./weak.out 8 >> weak.txt\n",
    "./weak.out 12 >> weak.txt\n",
    "./weak.out 18 >> weak.txt\n",
    "./weak.out 20 >> weak.txt\n",
    "./weak.out 24 >> weak.txt\n",
    "./weak.out 30 >> weak.txt"
   ]
  },
  {
   "cell_type": "code",
   "execution_count": 56,
   "metadata": {
    "tags": []
   },
   "outputs": [
    {
     "name": "stdout",
     "output_type": "stream",
     "text": []
    },
    {
     "data": {
      "image/png": "[encoded data removed]"
     },
     "metadata": {},
     "output_type": "display_data"
    }
   ],
   "source": [
    "base=`head -1 weak.txt | awk '{print $2}'`\n",
    "gnuplot -e \"\\\n",
    "set terminal png; \\\n",
    "set style fill solid; \\\n",
    "set yrange[0:1.1]; \\\n",
    "set xlabel '# cores'; \\\n",
    "set ylabel 'parallel efficiency'; \\\n",
    "plot 'weak.txt' using ($base/\\$2): xtic(1) title 'efficiency' with histogram, \n",
    "\" | display"
   ]
  },
  {
   "cell_type": "markdown",
   "metadata": {},
   "source": [
    "<div class=\"alert alert-block alert-info\">\n",
    "<b>Now it's your turn...</b><br>\n",
    "<b>10.</b> Can you explain the performance numbers that we see here? What effects are in place?<br>\n",
    "</div>"
   ]
  },
  {
   "cell_type": "markdown",
   "metadata": {},
   "source": [
    "This program is bound by the computation done - so as soon as we hit more work than the number of virtual cores available we see a very significant dip\n"
   ]
  },
  {
   "cell_type": "markdown",
   "metadata": {},
   "source": [
    "## Caching\n",
    "\n",
    "Here we see the implication of caching in a multithreaded environment"
   ]
  },
  {
   "cell_type": "code",
   "execution_count": 57,
   "metadata": {},
   "outputs": [
    {
     "name": "stdout",
     "output_type": "stream",
     "text": [
      "\u001b[36m#\u001b[39;49;00m\u001b[36minclude\u001b[39;49;00m\u001b[37m \u001b[39;49;00m\u001b[37m<iostream>\u001b[39;49;00m\u001b[36m\u001b[39;49;00m\n",
      "\u001b[36m#\u001b[39;49;00m\u001b[36minclude\u001b[39;49;00m\u001b[37m \u001b[39;49;00m\u001b[37m<omp.h>\u001b[39;49;00m\u001b[36m\u001b[39;49;00m\n",
      "\u001b[36m#\u001b[39;49;00m\u001b[36minclude\u001b[39;49;00m\u001b[37m \u001b[39;49;00m\u001b[37m<vector>\u001b[39;49;00m\u001b[36m\u001b[39;49;00m\n",
      "\u001b[37m\u001b[39;49;00m\n",
      "\u001b[36mint\u001b[39;49;00m\u001b[37m \u001b[39;49;00m\u001b[32mmain\u001b[39;49;00m(\u001b[36mint\u001b[39;49;00m\u001b[37m \u001b[39;49;00margc,\u001b[37m \u001b[39;49;00m\u001b[36mchar\u001b[39;49;00m\u001b[37m \u001b[39;49;00m\u001b[34mconst\u001b[39;49;00m*\u001b[37m \u001b[39;49;00margv[])\u001b[37m \u001b[39;49;00m{\u001b[37m\u001b[39;49;00m\n",
      "\u001b[37m\u001b[39;49;00m\n",
      "\u001b[37m  \u001b[39;49;00mstd::vector<\u001b[36mdouble\u001b[39;49;00m>\u001b[37m \u001b[39;49;00minput(\u001b[34m10000000\u001b[39;49;00m,\u001b[37m \u001b[39;49;00m\u001b[34m1\u001b[39;49;00m);\u001b[37m\u001b[39;49;00m\n",
      "\u001b[37m  \u001b[39;49;00mstd::vector<\u001b[36mdouble\u001b[39;49;00m>\u001b[37m \u001b[39;49;00moutput(\u001b[34m10000000\u001b[39;49;00m,\u001b[37m \u001b[39;49;00m\u001b[34m0\u001b[39;49;00m);\u001b[37m\u001b[39;49;00m\n",
      "\u001b[37m\u001b[39;49;00m\n",
      "\u001b[37m  \u001b[39;49;00momp_set_num_threads(atoi(argv[\u001b[34m1\u001b[39;49;00m]));\u001b[37m\u001b[39;49;00m\n",
      "\u001b[37m\u001b[39;49;00m\n",
      "\u001b[37m  \u001b[39;49;00m\u001b[36mdouble\u001b[39;49;00m\u001b[37m \u001b[39;49;00mtic\u001b[37m \u001b[39;49;00m=\u001b[37m \u001b[39;49;00momp_get_wtime();\u001b[37m\u001b[39;49;00m\n",
      "\u001b[37m\u001b[39;49;00m\n",
      "\u001b[36m#\u001b[39;49;00m\u001b[36mpragma omp parallel for schedule(static, 1)\u001b[39;49;00m\u001b[36m\u001b[39;49;00m\n",
      "\u001b[37m  \u001b[39;49;00m\u001b[34mfor\u001b[39;49;00m(\u001b[36mint\u001b[39;49;00m\u001b[37m \u001b[39;49;00mi\u001b[37m \u001b[39;49;00m=\u001b[37m \u001b[39;49;00m\u001b[34m0\u001b[39;49;00m;\u001b[37m \u001b[39;49;00mi\u001b[37m \u001b[39;49;00m<\u001b[37m \u001b[39;49;00minput.size();\u001b[37m \u001b[39;49;00m++i)\u001b[37m \u001b[39;49;00m{\u001b[37m\u001b[39;49;00m\n",
      "\u001b[37m    \u001b[39;49;00moutput[i]\u001b[37m \u001b[39;49;00m=\u001b[37m \u001b[39;49;00m\u001b[34m2\u001b[39;49;00m\u001b[37m \u001b[39;49;00m*\u001b[37m \u001b[39;49;00minput[i];\u001b[37m\u001b[39;49;00m\n",
      "\u001b[37m    \u001b[39;49;00minput[i]\u001b[37m \u001b[39;49;00m=\u001b[37m \u001b[39;49;00m\u001b[34m0\u001b[39;49;00m;\u001b[37m\u001b[39;49;00m\n",
      "\u001b[37m  \u001b[39;49;00m}\u001b[37m\u001b[39;49;00m\n",
      "\u001b[37m\u001b[39;49;00m\n",
      "\u001b[37m  \u001b[39;49;00m\u001b[36mdouble\u001b[39;49;00m\u001b[37m \u001b[39;49;00mtoc\u001b[37m \u001b[39;49;00m=\u001b[37m \u001b[39;49;00momp_get_wtime();\u001b[37m\u001b[39;49;00m\n",
      "\u001b[37m\u001b[39;49;00m\n",
      "\u001b[36m#\u001b[39;49;00m\u001b[36mpragma omp parallel\u001b[39;49;00m\u001b[36m\u001b[39;49;00m\n",
      "\u001b[37m  \u001b[39;49;00m{\u001b[37m\u001b[39;49;00m\n",
      "\u001b[37m    \u001b[39;49;00m\u001b[34mif\u001b[39;49;00m(omp_get_thread_num()\u001b[37m \u001b[39;49;00m==\u001b[37m \u001b[39;49;00m\u001b[34m0\u001b[39;49;00m)\u001b[37m\u001b[39;49;00m\n",
      "\u001b[37m      \u001b[39;49;00mstd::cout\u001b[37m \u001b[39;49;00m<<\u001b[37m \u001b[39;49;00momp_get_num_threads()\u001b[37m \u001b[39;49;00m<<\u001b[37m \u001b[39;49;00m\u001b[33m\"\u001b[39;49;00m\u001b[33m\\t\u001b[39;49;00m\u001b[33m\"\u001b[39;49;00m\u001b[37m \u001b[39;49;00m<<\u001b[37m \u001b[39;49;00mtoc\u001b[37m \u001b[39;49;00m-\u001b[37m \u001b[39;49;00mtic\u001b[37m \u001b[39;49;00m<<\u001b[37m \u001b[39;49;00mstd::endl;\u001b[37m\u001b[39;49;00m\n",
      "\u001b[37m  \u001b[39;49;00m}\u001b[37m\u001b[39;49;00m\n",
      "\u001b[37m\u001b[39;49;00m\n",
      "\u001b[37m  \u001b[39;49;00m\u001b[34mreturn\u001b[39;49;00m\u001b[37m \u001b[39;49;00m\u001b[34m0\u001b[39;49;00m;\u001b[37m\u001b[39;49;00m\n",
      "}\u001b[37m\u001b[39;49;00m\n"
     ]
    }
   ],
   "source": [
    "pygmentize omp_examples/b03-caching.cpp"
   ]
  },
  {
   "cell_type": "code",
   "execution_count": 58,
   "metadata": {},
   "outputs": [],
   "source": [
    "g++ -fopenmp omp_examples/b03-caching.cpp -o caching.out"
   ]
  },
  {
   "cell_type": "code",
   "execution_count": 59,
   "metadata": {},
   "outputs": [],
   "source": [
    "./caching.out 1 > caching.txt\n",
    "./caching.out 2 >> caching.txt\n",
    "./caching.out 4 >> caching.txt\n",
    "./caching.out 8 >> caching.txt\n",
    "./caching.out 12 >> caching.txt\n",
    "./caching.out 13 >> caching.txt\n",
    "./caching.out 20 >> caching.txt\n",
    "./caching.out 24 >> caching.txt"
   ]
  },
  {
   "cell_type": "code",
   "execution_count": 60,
   "metadata": {},
   "outputs": [
    {
     "name": "stdout",
     "output_type": "stream",
     "text": []
    },
    {
     "data": {
      "image/png": "[encoded data removed]"
     },
     "metadata": {},
     "output_type": "display_data"
    }
   ],
   "source": [
    "gnuplot -e \"\\\n",
    "set terminal png; \\\n",
    "set style fill solid; \\\n",
    "set yrange[0:0.1]; \\\n",
    "set xlabel '# cores'; \\\n",
    "set ylabel 'runtime [s]'; \\\n",
    "plot 'caching.txt' using 2: xtic(1) title 'runtime' with histogram \\\n",
    "\" | display"
   ]
  },
  {
   "cell_type": "markdown",
   "metadata": {},
   "source": [
    "<div class=\"alert alert-block alert-info\">\n",
    "<b>Now it's your turn...</b><br>\n",
    "<b>11.</b> Can you explain the performance numbers that we see here? What effects are in place?<br>\n",
    "</div>"
   ]
  },
  {
   "cell_type": "markdown",
   "metadata": {},
   "source": [
    "We see that we only have 12 caches available and since the program always invalidates the entire input cache-line after using it we want to not have more workers running than necessary. The optimal amount of workers is therefore where we use the most caches. \n"
   ]
  },
  {
   "cell_type": "code",
   "execution_count": 61,
   "metadata": {},
   "outputs": [
    {
     "name": "stdout",
     "output_type": "stream",
     "text": [
      "\u001b[36m#\u001b[39;49;00m\u001b[36minclude\u001b[39;49;00m\u001b[37m \u001b[39;49;00m\u001b[37m<iostream>\u001b[39;49;00m\u001b[36m\u001b[39;49;00m\n",
      "\u001b[36m#\u001b[39;49;00m\u001b[36minclude\u001b[39;49;00m\u001b[37m \u001b[39;49;00m\u001b[37m<omp.h>\u001b[39;49;00m\u001b[36m\u001b[39;49;00m\n",
      "\u001b[36m#\u001b[39;49;00m\u001b[36minclude\u001b[39;49;00m\u001b[37m \u001b[39;49;00m\u001b[37m<vector>\u001b[39;49;00m\u001b[36m\u001b[39;49;00m\n",
      "\u001b[37m\u001b[39;49;00m\n",
      "\u001b[36mint\u001b[39;49;00m\u001b[37m \u001b[39;49;00m\u001b[32mmain\u001b[39;49;00m(\u001b[36mint\u001b[39;49;00m\u001b[37m \u001b[39;49;00margc,\u001b[37m \u001b[39;49;00m\u001b[36mchar\u001b[39;49;00m\u001b[37m \u001b[39;49;00m\u001b[34mconst\u001b[39;49;00m\u001b[37m \u001b[39;49;00m*argv[])\u001b[37m \u001b[39;49;00m{\u001b[37m\u001b[39;49;00m\n",
      "\u001b[37m\u001b[39;49;00m\n",
      "\u001b[37m  \u001b[39;49;00mstd::vector<\u001b[36mdouble\u001b[39;49;00m>\u001b[37m \u001b[39;49;00minput(\u001b[34m10000000\u001b[39;49;00m,\u001b[37m \u001b[39;49;00m\u001b[34m1\u001b[39;49;00m);\u001b[37m\u001b[39;49;00m\n",
      "\u001b[37m  \u001b[39;49;00mstd::vector<\u001b[36mdouble\u001b[39;49;00m>\u001b[37m \u001b[39;49;00moutput(\u001b[34m10000000\u001b[39;49;00m,\u001b[37m \u001b[39;49;00m\u001b[34m0\u001b[39;49;00m);\u001b[37m\u001b[39;49;00m\n",
      "\u001b[37m\u001b[39;49;00m\n",
      "\u001b[37m  \u001b[39;49;00momp_set_num_threads(atoi(argv[\u001b[34m1\u001b[39;49;00m]));\u001b[37m\u001b[39;49;00m\n",
      "\u001b[37m\u001b[39;49;00m\n",
      "\u001b[37m  \u001b[39;49;00m\u001b[36mdouble\u001b[39;49;00m\u001b[37m \u001b[39;49;00mtic\u001b[37m \u001b[39;49;00m=\u001b[37m \u001b[39;49;00momp_get_wtime();\u001b[37m\u001b[39;49;00m\n",
      "\u001b[37m\u001b[39;49;00m\n",
      "\u001b[36m#\u001b[39;49;00m\u001b[36mpragma omp parallel for schedule(static, 10000)\u001b[39;49;00m\u001b[36m\u001b[39;49;00m\n",
      "\u001b[37m  \u001b[39;49;00m\u001b[34mfor\u001b[39;49;00m\u001b[37m \u001b[39;49;00m(\u001b[36mint\u001b[39;49;00m\u001b[37m \u001b[39;49;00mi\u001b[37m \u001b[39;49;00m=\u001b[37m \u001b[39;49;00m\u001b[34m0\u001b[39;49;00m;\u001b[37m \u001b[39;49;00mi\u001b[37m \u001b[39;49;00m<\u001b[37m \u001b[39;49;00minput.size();\u001b[37m \u001b[39;49;00m++i)\u001b[37m \u001b[39;49;00m{\u001b[37m\u001b[39;49;00m\n",
      "\u001b[37m    \u001b[39;49;00moutput[i]\u001b[37m \u001b[39;49;00m=\u001b[37m \u001b[39;49;00m\u001b[34m2\u001b[39;49;00m\u001b[37m \u001b[39;49;00m*\u001b[37m \u001b[39;49;00minput[i];\u001b[37m\u001b[39;49;00m\n",
      "\u001b[37m    \u001b[39;49;00minput[i]\u001b[37m \u001b[39;49;00m=\u001b[37m \u001b[39;49;00m\u001b[34m0\u001b[39;49;00m;\u001b[37m\u001b[39;49;00m\n",
      "\u001b[37m  \u001b[39;49;00m}\u001b[37m\u001b[39;49;00m\n",
      "\u001b[37m\u001b[39;49;00m\n",
      "\u001b[37m  \u001b[39;49;00m\u001b[36mdouble\u001b[39;49;00m\u001b[37m \u001b[39;49;00mtoc\u001b[37m \u001b[39;49;00m=\u001b[37m \u001b[39;49;00momp_get_wtime();\u001b[37m\u001b[39;49;00m\n",
      "\u001b[37m\u001b[39;49;00m\n",
      "\u001b[36m#\u001b[39;49;00m\u001b[36mpragma omp parallel\u001b[39;49;00m\u001b[36m\u001b[39;49;00m\n",
      "\u001b[37m  \u001b[39;49;00m{\u001b[37m\u001b[39;49;00m\n",
      "\u001b[37m    \u001b[39;49;00m\u001b[34mif\u001b[39;49;00m\u001b[37m \u001b[39;49;00m(omp_get_thread_num()\u001b[37m \u001b[39;49;00m==\u001b[37m \u001b[39;49;00m\u001b[34m0\u001b[39;49;00m)\u001b[37m\u001b[39;49;00m\n",
      "\u001b[37m      \u001b[39;49;00mstd::cout\u001b[37m \u001b[39;49;00m<<\u001b[37m \u001b[39;49;00momp_get_num_threads()\u001b[37m \u001b[39;49;00m<<\u001b[37m \u001b[39;49;00m\u001b[33m\"\u001b[39;49;00m\u001b[33m\\t\u001b[39;49;00m\u001b[33m\"\u001b[39;49;00m\u001b[37m \u001b[39;49;00m<<\u001b[37m \u001b[39;49;00mtoc\u001b[37m \u001b[39;49;00m-\u001b[37m \u001b[39;49;00mtic\u001b[37m \u001b[39;49;00m<<\u001b[37m \u001b[39;49;00mstd::endl;\u001b[37m\u001b[39;49;00m\n",
      "\u001b[37m  \u001b[39;49;00m}\u001b[37m\u001b[39;49;00m\n",
      "\u001b[37m\u001b[39;49;00m\n",
      "\u001b[37m  \u001b[39;49;00m\u001b[34mreturn\u001b[39;49;00m\u001b[37m \u001b[39;49;00m\u001b[34m0\u001b[39;49;00m;\u001b[37m\u001b[39;49;00m\n",
      "}\u001b[37m\u001b[39;49;00m\n"
     ]
    }
   ],
   "source": [
    "pygmentize omp_examples/b04-caching_fast.cpp"
   ]
  },
  {
   "cell_type": "code",
   "execution_count": 66,
   "metadata": {},
   "outputs": [],
   "source": [
    "g++ -fopenmp omp_examples/b06-caching_fast.cpp -o caching2.out"
   ]
  },
  {
   "cell_type": "code",
   "execution_count": 67,
   "metadata": {},
   "outputs": [],
   "source": [
    "./caching2.out 1 > caching2.txt\n",
    "./caching2.out 2 >> caching2.txt\n",
    "./caching2.out 4 >> caching2.txt\n",
    "./caching2.out 8 >> caching2.txt\n",
    "./caching2.out 12 >> caching2.txt\n",
    "./caching2.out 13 >> caching2.txt\n",
    "./caching2.out 20 >> caching2.txt\n",
    "./caching2.out 24 >> caching2.txt"
   ]
  },
  {
   "cell_type": "code",
   "execution_count": 68,
   "metadata": {},
   "outputs": [
    {
     "name": "stdout",
     "output_type": "stream",
     "text": []
    },
    {
     "data": {
      "image/png": "[encoded data removed]"
     },
     "metadata": {},
     "output_type": "display_data"
    }
   ],
   "source": [
    "gnuplot -e \"\\\n",
    "set terminal png; \\\n",
    "set style fill solid; \\\n",
    "set yrange[0:0.1]; \\\n",
    "set xlabel '# cores'; \\\n",
    "set ylabel 'runtime [s]'; \\\n",
    "plot 'caching2.txt' using 2: xtic(1) title 'runtime' with histogram \\\n",
    "\" | display"
   ]
  },
  {
   "cell_type": "markdown",
   "metadata": {},
   "source": [
    "<div class=\"alert alert-block alert-info\">\n",
    "<b>Now it's your turn...</b><br>\n",
    "<b>12.</b> Can you explain the performance numbers that we see here? What effects are in place?<br>\n",
    "</div>"
   ]
  },
  {
   "cell_type": "markdown",
   "metadata": {},
   "source": [
    "Using a static scheduler allows us to keep entire cache-lines in our caches before they get invalidated. This allows for much better performance and scalability - using more than 12 threads is significantly better than it was before."
   ]
  },
  {
   "cell_type": "code",
   "execution_count": 69,
   "metadata": {},
   "outputs": [
    {
     "name": "stdout",
     "output_type": "stream",
     "text": [
      "rm -f *.out weak.txt caching.txt caching2.txt out.txt \n"
     ]
    }
   ],
   "source": [
    "make clean_examples"
   ]
  }
 ],
 "metadata": {
  "kernelspec": {
   "display_name": "Bash",
   "language": "bash",
   "name": "bash"
  },
  "language_info": {
   "codemirror_mode": "shell",
   "file_extension": ".sh",
   "mimetype": "text/x-sh",
   "name": "bash"
  }
 },
 "nbformat": 4,
 "nbformat_minor": 4
}
