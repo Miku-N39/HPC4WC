{
 "cells": [
  {
   "cell_type": "markdown",
   "metadata": {},
   "source": [
    "# Bonus Questions for more in-depth OpenMP \n",
    "\n",
    "In this notebook we will explore some of the more advanced concepts surrounding openMP. Note that not all of these are critical to speed up weather and climate codes so they are structured in this bonus notebook"
   ]
  },
  {
   "cell_type": "markdown",
   "metadata": {},
   "source": [
    "## Parallel Execution Time\n",
    "\n",
    "<div class=\"alert alert-block alert-success\">\n",
    "<b>Now it's your turn...</b><br>\n",
    "B1: Assume you have a program hat is 99% parallelizeable. If we parallelize it but by parallelizing we add parallel overhead to the code (by adding communication). The overhead is at $0.001 \\cdot \\log(n)$ runtime. How many nodes are the ideal configuration for this to run as fast as possible?\n",
    "</div>"
   ]
  },
  {
   "cell_type": "code",
   "execution_count": null,
   "metadata": {},
   "outputs": [],
   "source": [
    "import numpy as np\n",
    "import math\n",
    "\n",
    "cores = [None] #TODO\n",
    "run_time = [None] #TODO\n",
    "index_min = np.argmin(run_time)\n",
    "print(index_min)\n"
   ]
  },
  {
   "cell_type": "markdown",
   "metadata": {},
   "source": [
    "<div class=\"alert alert-block alert-success\">\n",
    "<b>Now it's your turn...</b><br>\n",
    "B2: Can we mathemathically prove that this is actually ideal?\n",
    "    </div>"
   ]
  },
  {
   "cell_type": "markdown",
   "metadata": {},
   "source": [
    "## Amdahl's Law\n",
    "\n",
    "<div class=\"alert alert-block alert-success\">\n",
    "<b>Now it's your turn...</b><br>\n",
    "B3: Assume you have a program that is 99% parallelizeable. If you have three machines available, your laptop with 8 cores, all the fat-nodes of Brutus (3840 cores) and the full CPU partition of Piz Daint with it's 65268 cores. How much speedup do these machines offer you?\n",
    "    </div>"
   ]
  },
  {
   "cell_type": "code",
   "execution_count": null,
   "metadata": {},
   "outputs": [],
   "source": [
    "cores = [] # TODO\n",
    "run_time = [] # TODO\n",
    "speedup = [] # TODO\n",
    "print(speedup)\n"
   ]
  },
  {
   "cell_type": "code",
   "execution_count": null,
   "metadata": {},
   "outputs": [],
   "source": [
    "import matplotlib.pyplot as plt\n",
    "\n",
    "# creating the dataset\n",
    "hardware = [\"Single Node\", \"Laptop\", \"Brutus\", \"Daint\"]\n",
    "fig = plt.figure(figsize = (10, 5))\n",
    " \n",
    "# creating the bar plot\n",
    "plt.bar(hardware, speedup, color ='maroon',\n",
    "        width = 0.4)\n",
    " \n",
    "plt.xlabel(\"Machine\")\n",
    "plt.ylabel(\"Speedup\")\n",
    "plt.title(\"Speedup on different machines\")\n",
    "plt.show()"
   ]
  },
  {
   "cell_type": "markdown",
   "metadata": {},
   "source": [
    "# Exploration of intrinsics\n",
    "\n",
    "In this section we are exploring the difference in speed between various intrinsics\n",
    "\n",
    "<div class=\"alert alert-block alert-success\">\n",
    "<b>Now it's your turn...</b><br>\n",
    "B4: Write a program `expensive.cpp` where we loop over $n$ iteration and take the $arccos$ of the $cos$ of the $arcsin$ of the $sin$ of the $abs$ value of it's iteration number divided by the total number of iterations.\n",
    "\n",
    "</div>\n",
    "We sum all these values up and verify correctness by printing the result.\n",
    "Ideally the program is parametrized with the number of iterations as well as the number of threads used.\n"
   ]
  },
  {
   "cell_type": "code",
   "execution_count": null,
   "metadata": {},
   "outputs": [],
   "source": [
    "%%bash\n",
    "make clean"
   ]
  },
  {
   "cell_type": "code",
   "execution_count": null,
   "metadata": {},
   "outputs": [],
   "source": [
    "%%bash\n",
    "module load daint-gpu\n",
    "module switch PrgEnv-gnu PrgEnv-cray\n",
    "\n",
    "CC expensive.cpp -fopenmp -o expensive.x -O3"
   ]
  },
  {
   "cell_type": "code",
   "execution_count": null,
   "metadata": {},
   "outputs": [],
   "source": [
    "%%bash\n",
    "srun -n 1 ./expensive.x 1 10"
   ]
  },
  {
   "cell_type": "markdown",
   "metadata": {},
   "source": [
    "This call should print a value of 4.5"
   ]
  },
  {
   "cell_type": "markdown",
   "metadata": {},
   "source": [
    "<div class=\"alert alert-block alert-success\">\n",
    "<b>Now it's your turn...</b><br>\n",
    "B5: Duplicate the file into a file called `critical.cpp` Parallelize the for loop and make the updates work in critical secions.\n",
    "How much speedup do we get?\n",
    "</div>    "
   ]
  },
  {
   "cell_type": "code",
   "execution_count": null,
   "metadata": {},
   "outputs": [],
   "source": [
    "%%bash\n",
    "module load daint-gpu\n",
    "module switch PrgEnv-gnu PrgEnv-cray\n",
    "\n",
    "CC critical.cpp -fopenmp -o critical.x -O3"
   ]
  },
  {
   "cell_type": "code",
   "execution_count": null,
   "metadata": {},
   "outputs": [],
   "source": [
    "%%bash\n",
    "srun -n 1 ./critical.x 12 1000"
   ]
  },
  {
   "cell_type": "markdown",
   "metadata": {},
   "source": [
    "<b>TODO.</b><br>\n",
    "Can you explain the speedup?\n",
    "</div>    "
   ]
  },
  {
   "cell_type": "markdown",
   "metadata": {},
   "source": [
    "<div class=\"alert alert-block alert-success\">\n",
    "<b>Now it's your turn...</b><br>\n",
    "B6: Duplicate the file into a file called `atomic.cpp` update the critical section to use an atomic instead.\n",
    "How much speedup do we get?\n",
    "</div>    "
   ]
  },
  {
   "cell_type": "code",
   "execution_count": null,
   "metadata": {},
   "outputs": [],
   "source": [
    "%%bash\n",
    "module load daint-gpu\n",
    "module switch PrgEnv-gnu PrgEnv-cray\n",
    "\n",
    "CC atomic.cpp -fopenmp -o atomic.x -O3"
   ]
  },
  {
   "cell_type": "code",
   "execution_count": null,
   "metadata": {},
   "outputs": [],
   "source": [
    "%%bash\n",
    "srun -n 1 ./atomic.x 12 1000"
   ]
  },
  {
   "cell_type": "markdown",
   "metadata": {},
   "source": [
    "<div class=\"alert alert-block alert-success\">\n",
    "<b>Now it's your turn...</b><br>\n",
    "B7: Duplicate the file into a file called `reduction.cpp` and change the loop to use the intrinsic reduction. How do times compare between the reduction and the atomic?\n",
    "</div>"
   ]
  },
  {
   "cell_type": "code",
   "execution_count": null,
   "metadata": {},
   "outputs": [],
   "source": [
    "%%bash\n",
    "module load daint-gpu\n",
    "module switch PrgEnv-gnu PrgEnv-cray\n",
    "\n",
    "CC reduction.cpp -fopenmp -o reduction.x -O3"
   ]
  },
  {
   "cell_type": "code",
   "execution_count": null,
   "metadata": {},
   "outputs": [],
   "source": [
    "%%bash\n",
    "srun -n 1 ./atomic.x 12 1000"
   ]
  },
  {
   "cell_type": "markdown",
   "metadata": {},
   "source": [
    "<div class=\"alert alert-block alert-success\">\n",
    "<b>Now it's your turn...</b><br>\n",
    "B8: Lastly we try to completely parallelize the code and have a single thread sum up the result in `fully_parallel.cpp`. How does that compare to the above times?\n",
    "</div>"
   ]
  },
  {
   "cell_type": "code",
   "execution_count": null,
   "metadata": {},
   "outputs": [],
   "source": [
    "%%bash\n",
    "module load daint-gpu\n",
    "module switch PrgEnv-gnu PrgEnv-cray\n",
    "\n",
    "CC fully_parallel.cpp -fopenmp -o fully_parallel.x -O3"
   ]
  },
  {
   "cell_type": "code",
   "execution_count": null,
   "metadata": {},
   "outputs": [],
   "source": [
    "%%bash\n",
    "srun -n 1 ./fully_parallel.x 12 1000"
   ]
  },
  {
   "cell_type": "markdown",
   "metadata": {},
   "source": [
    "<div class=\"alert alert-block alert-success\">\n",
    "<b>Now it's your turn...</b><br>\n",
    "B9: How does this version compare to the reduction if we don't use a complicated expression but a very simple one: simply adding up the iteration numbers\n",
    "</div>"
   ]
  },
  {
   "cell_type": "code",
   "execution_count": null,
   "metadata": {},
   "outputs": [],
   "source": [
    "%%bash\n",
    "module load daint-gpu\n",
    "module switch PrgEnv-gnu PrgEnv-cray\n",
    "\n",
    "CC iterations_count_atomic.cpp -fopenmp -o iterations_count_atomic.x -O3\n",
    "CC iterations_count_fully_parallel.cpp -fopenmp -o iterations_count_fully_parallel.x -O3"
   ]
  },
  {
   "cell_type": "code",
   "execution_count": null,
   "metadata": {},
   "outputs": [],
   "source": [
    "%%bash\n",
    "srun -n 1 ./iterations_count_atomic.x 12 1000\n",
    "srun -n 1 ./iterations_count_fully_parallel.x 12 1000"
   ]
  },
  {
   "cell_type": "markdown",
   "metadata": {},
   "source": [
    "# Exploration of caching\n",
    "<div class=\"alert alert-block alert-success\">\n",
    "<b>Now it's your turn...</b><br>\n",
    "B10: Parallelize `expensive.cpp` in a new file `ststatic_small_expensive.cpp` with a static loop schedule of size 1. Change the output of the expression to be \n",
    "<br>`output[i] = acos(cos(asin(sin(abs(input[i]))))) + output[i];`\n",
    "</div>\n"
   ]
  },
  {
   "cell_type": "markdown",
   "metadata": {},
   "source": [
    "<div class=\"alert alert-block alert-success\">\n",
    "<b>Now it's your turn...</b><br>\n",
    "B11: How does our time change if we move to a static schedule of size 80? Copy `static_small_expensive.cpp` and change it to have a different policy in `static_large_expensive.cpp`\n",
    "</div>\n"
   ]
  },
  {
   "cell_type": "code",
   "execution_count": null,
   "metadata": {},
   "outputs": [],
   "source": [
    "%%bash\n",
    "module load daint-gpu\n",
    "module switch PrgEnv-gnu PrgEnv-cray\n",
    "\n",
    "CC static_small_expensive.cpp -fopenmp -o static_small_expensive.x -O3\n",
    "CC static_large_expensive.cpp -fopenmp -o static_large_expensive.x -O3\n"
   ]
  },
  {
   "cell_type": "code",
   "execution_count": null,
   "metadata": {},
   "outputs": [],
   "source": [
    "%%bash\n",
    "srun -n 1 ./static_small_expensive.x 12 1000\n",
    "srun -n 1 ./static_large_expensive.x 12 1000"
   ]
  },
  {
   "cell_type": "markdown",
   "metadata": {},
   "source": [
    "<div class=\"alert alert-block alert-success\">\n",
    "<b>Now it's your turn...</b><br>\n",
    "B12: How do these two results change if we move to a cheap iteration in just adding up the iteration number? Explore in `static_small_cheap.cpp` and `static_large_cheap.cpp`\n",
    "</div>\n",
    "\n"
   ]
  },
  {
   "cell_type": "code",
   "execution_count": null,
   "metadata": {},
   "outputs": [],
   "source": [
    "%%bash\n",
    "module load daint-gpu\n",
    "module switch PrgEnv-gnu PrgEnv-cray\n",
    "\n",
    "CC static_small_cheap.cpp -fopenmp -o static_small_cheap.x -O3\n",
    "CC static_large_cheap.cpp -fopenmp -o static_large_cheap.x -O3\n"
   ]
  },
  {
   "cell_type": "code",
   "execution_count": null,
   "metadata": {},
   "outputs": [],
   "source": [
    "%%bash\n",
    "srun -n 1 ./static_small_cheap.x 12 1000\n",
    "srun -n 1 ./static_large_cheap.x 12 1000"
   ]
  }
 ],
 "metadata": {
  "kernelspec": {
   "display_name": "HPC4WC_kernel",
   "language": "python",
   "name": "hpc4wc_kernel"
  },
  "language_info": {
   "codemirror_mode": {
    "name": "ipython",
    "version": 3
   },
   "file_extension": ".py",
   "mimetype": "text/x-python",
   "name": "python",
   "nbconvert_exporter": "python",
   "pygments_lexer": "ipython3",
   "version": "3.9.4"
  }
 },
 "nbformat": 4,
 "nbformat_minor": 4
}
