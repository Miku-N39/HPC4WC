{
 "cells": [
  {
   "cell_type": "markdown",
   "metadata": {
    "tags": []
   },
   "source": [
    "# Why GT4Py?"
   ]
  },
  {
   "cell_type": "markdown",
   "metadata": {},
   "source": [
    "<div class=\"alert alert-block alert-warning\">\n",
    "<b>Deprecation Warnings</b><br>\n",
    "While compiling GT4PY scripts you might see deprecation warnings. These are mostly related to the dated software stack on Piz Daint. They can be safely ignored.\n",
    "</div>"
   ]
  },
  {
   "cell_type": "markdown",
   "metadata": {
    "tags": []
   },
   "source": [
    "# Example 1: A simple point-wise stencil"
   ]
  },
  {
   "cell_type": "markdown",
   "metadata": {},
   "source": [
    "First, we compare a NumPy, CuPy and GT4Py implementation of the point-wise stencil\n",
    "```\n",
    "d[i, j, k] = a[i, j, k] + b[i, j, k] - c[i, j, k]\n",
    "```\n",
    "Timings are measured using the `%timeit` magic command. This command times a single statement or function call by averaging over multiple runs. It has the additional advantage of synchronizing the CPU and the GPU at the end of each run, thus making the output reliable."
   ]
  },
  {
   "cell_type": "markdown",
   "metadata": {},
   "source": [
    "### NumPy"
   ]
  },
  {
   "cell_type": "code",
   "execution_count": null,
   "metadata": {},
   "outputs": [],
   "source": [
    "import numpy as np\n",
    "\n",
    "shape = (512, 512, 128)\n",
    "\n",
    "def f_numpy(a, b, c, d):\n",
    "    d[...] = a + b - c\n",
    "    \n",
    "a = np.random.rand(*shape)\n",
    "b = np.random.rand(*shape)\n",
    "c = np.random.rand(*shape)\n",
    "d = np.empty_like(a)\n",
    "\n",
    "%timeit f_numpy(a, b, c, d)"
   ]
  },
  {
   "cell_type": "markdown",
   "metadata": {},
   "source": [
    "### CuPy"
   ]
  },
  {
   "cell_type": "code",
   "execution_count": null,
   "metadata": {},
   "outputs": [],
   "source": [
    "import cupy as cp\n",
    "\n",
    "shape = (512, 512, 128)\n",
    "\n",
    "def f_cupy(a, b, c, d):\n",
    "    d[...] = a + b - c\n",
    "    \n",
    "a = cp.asarray(np.random.rand(*shape))\n",
    "b = cp.asarray(np.random.rand(*shape))\n",
    "c = cp.asarray(np.random.rand(*shape))\n",
    "d = cp.empty_like(a)\n",
    "\n",
    "%timeit f_cupy(a, b, c, d)"
   ]
  },
  {
   "cell_type": "markdown",
   "metadata": {},
   "source": [
    "### GT4Py"
   ]
  },
  {
   "cell_type": "code",
   "execution_count": null,
   "metadata": {},
   "outputs": [],
   "source": [
    "import gt4py as gt\n",
    "from gt4py import gtscript\n",
    "import numpy as np\n",
    "import os\n",
    "\n",
    "os.environ['CXXFLAGS'] = ' -Wno-instantiation-warning'\n",
    "\n",
    "backend = \"cuda\"\n",
    "shape = (512, 512, 128)\n",
    "\n",
    "@gtscript.stencil(backend=backend)\n",
    "def f_gt4py(\n",
    "    a: gtscript.Field[float], \n",
    "    b: gtscript.Field[float], \n",
    "    c: gtscript.Field[float], \n",
    "    d: gtscript.Field[float]\n",
    "):\n",
    "    with computation(PARALLEL), interval(...):\n",
    "        d = a + b - c\n",
    "        \n",
    "a_np = np.random.rand(*shape)\n",
    "b_np = np.random.rand(*shape)\n",
    "c_np = np.random.rand(*shape)\n",
    "\n",
    "a = gt.storage.from_array(a_np, backend, (0, 0, 0))\n",
    "b = gt.storage.from_array(b_np, backend, (0, 0, 0))\n",
    "c = gt.storage.from_array(c_np, backend, (0, 0, 0))\n",
    "d = gt.storage.empty(backend, (0, 0, 0), shape, float)\n",
    "\n",
    "# copy data to GPU memory\n",
    "f_gt4py(a=a, b=b, c=c, d=d, origin=(0, 0, 0), domain=shape)\n",
    "\n",
    "%timeit f_gt4py(a=a, b=b, c=c, d=d, origin=(0, 0, 0), domain=shape)"
   ]
  },
  {
   "cell_type": "markdown",
   "metadata": {
    "tags": []
   },
   "source": [
    "# Example 2: Laplacian"
   ]
  },
  {
   "cell_type": "markdown",
   "metadata": {},
   "source": [
    "The next example compares a NumPy, CuPy and GT4Py implementation of the Laplacian stencil that we saw before in our stencil2d code that we have been working with:\n",
    "```\n",
    "lap[i, j, k] = - 4 * phi[  i,   j, k] \n",
    "               +     phi[i-1,   j, k] \n",
    "               +     phi[i+1,   j, k] \n",
    "               +     phi[  i, j-1, k] \n",
    "               +     phi[  i, j+1, k]\n",
    "```\n",
    "Timings are measured using the `%timeit` magic command. This command times a single statement or function call by averaging over multiple runs. It has the additional advantage of synchronizing the CPU and the GPU at the end of each run, thus making the output reliable."
   ]
  },
  {
   "cell_type": "markdown",
   "metadata": {
    "tags": []
   },
   "source": [
    "### NumPy"
   ]
  },
  {
   "cell_type": "code",
   "execution_count": null,
   "metadata": {},
   "outputs": [],
   "source": [
    "import numpy as np\n",
    "\n",
    "shape = (512, 512, 128)\n",
    "\n",
    "def lap_numpy(phi, lap):\n",
    "    lap[1:-1, 1:-1] = (\n",
    "        - 4. * phi[1:-1, 1:-1]\n",
    "        +      phi[ :-2, 1:-1]\n",
    "        +      phi[  2:, 1:-1]\n",
    "        +      phi[1:-1,  :-2]\n",
    "        +      phi[1:-1,   2:]\n",
    "    )\n",
    "    \n",
    "phi = np.random.rand(*shape)\n",
    "lap = np.empty_like(phi)\n",
    "\n",
    "%timeit lap_numpy(phi, lap)"
   ]
  },
  {
   "cell_type": "markdown",
   "metadata": {},
   "source": [
    "### CuPy"
   ]
  },
  {
   "cell_type": "code",
   "execution_count": null,
   "metadata": {},
   "outputs": [],
   "source": [
    "import cupy as cp\n",
    "\n",
    "shape = (512, 512, 128)\n",
    "\n",
    "def lap_cupy(phi, lap):\n",
    "    lap[1:-1, 1:-1] = (\n",
    "        - 4. * phi[1:-1, 1:-1]\n",
    "        +      phi[ :-2, 1:-1]\n",
    "        +      phi[  2:, 1:-1]\n",
    "        +      phi[1:-1,  :-2]\n",
    "        +      phi[1:-1,   2:]\n",
    "    )\n",
    "    \n",
    "phi = cp.asarray(np.random.rand(*shape))\n",
    "lap = cp.empty_like(phi)\n",
    "\n",
    "%timeit lap_cupy(phi, lap)"
   ]
  },
  {
   "cell_type": "markdown",
   "metadata": {},
   "source": [
    "### GT4Py"
   ]
  },
  {
   "cell_type": "code",
   "execution_count": null,
   "metadata": {},
   "outputs": [],
   "source": [
    "import gt4py as gt\n",
    "from gt4py import gtscript\n",
    "import numpy as np\n",
    "import os\n",
    "\n",
    "os.environ['CXXFLAGS'] += ' -Wno-instantiation-warning'\n",
    "\n",
    "backend = \"cuda\"\n",
    "shape = (512, 512, 128)\n",
    "\n",
    "@gtscript.stencil(backend=backend, verbose=True)\n",
    "def lap_gt4py(phi: gtscript.Field[float], lap: gtscript.Field[float]):\n",
    "    with computation(PARALLEL), interval(...):\n",
    "        lap = (\n",
    "            - 4. * phi[ 0,  0, 0]\n",
    "            +      phi[-1,  0, 0]\n",
    "            +      phi[+1,  0, 0]\n",
    "            +      phi[ 0, -1, 0]\n",
    "            +      phi[ 0, +1, 0]\n",
    "        )\n",
    "        \n",
    "phi_np = np.random.rand(*shape)\n",
    "phi = gt.storage.from_array(phi_np, backend, (1, 1, 0))\n",
    "lap = gt.storage.empty(backend, (1, 1, 0), shape, float)\n",
    "\n",
    "domain = (shape[0] - 2, shape[1] - 2, shape[2])\n",
    "\n",
    "# copy data to GPU memory\n",
    "lap_gt4py(phi=phi, lap=lap, origin=(1, 1, 0), domain=domain)\n",
    "\n",
    "%timeit lap_gt4py(phi=phi, lap=lap, origin=(1, 1, 0), domain=domain)"
   ]
  },
  {
   "cell_type": "code",
   "execution_count": null,
   "metadata": {},
   "outputs": [],
   "source": []
  }
 ],
 "metadata": {
  "kernelspec": {
   "display_name": "HPC4WC_kernel",
   "language": "python",
   "name": "hpc4wc_kernel"
  },
  "language_info": {
   "codemirror_mode": {
    "name": "ipython",
    "version": 3
   },
   "file_extension": ".py",
   "mimetype": "text/x-python",
   "name": "python",
   "nbconvert_exporter": "python",
   "pygments_lexer": "ipython3",
   "version": "3.9.4"
  }
 },
 "nbformat": 4,
 "nbformat_minor": 4
}
