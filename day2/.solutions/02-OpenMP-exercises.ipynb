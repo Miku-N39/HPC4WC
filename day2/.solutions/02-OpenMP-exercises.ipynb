{
 "cells": [
  {
   "cell_type": "markdown",
   "metadata": {},
   "source": [
    "# Shared Memory Parallelism with OpenMP\n",
    "\n",
    "During this exercise we will parallelize the stencil program from day 1 using OpenMP. The goal is to apply the OpenMP concepts that have been discussed in the lecture. If everything goes well, at the end of this exercise you will have a parallel version of the diffusion operator.\n",
    "\n",
    "So let's start!"
   ]
  },
  {
   "cell_type": "markdown",
   "metadata": {},
   "source": [
    "## Performance Baseline\n",
    "\n",
    "In the first step we will see how fast our code performs and what the straightforward insertion of compiler directives (pragmas) can do."
   ]
  },
  {
   "cell_type": "code",
   "execution_count": 64,
   "metadata": {},
   "outputs": [],
   "source": [
    "import timeit\n",
    "\n",
    "import matplotlib\n",
    "import matplotlib.pyplot as plt\n",
    "import numpy as np"
   ]
  },
  {
   "cell_type": "markdown",
   "metadata": {},
   "source": [
    "We start by compiling the Fortran stencil2d base code (this is the code with inlining you have worked on previously)."
   ]
  },
  {
   "cell_type": "code",
   "execution_count": 65,
   "metadata": {},
   "outputs": [
    {
     "name": "stdout",
     "output_type": "stream",
     "text": [
      "rm -f *.out weak.txt caching.txt caching2.txt out.txt \n",
      "rm -f -rf *~ *.o *.mod *.MOD *.i core.* *.out *.lst *.x *.x+orig *.x+[0-9]* *.dat *.report report_*.txt out*.txt\n"
     ]
    }
   ],
   "source": [
    "%%bash\n",
    "make clean"
   ]
  },
  {
   "cell_type": "code",
   "execution_count": 66,
   "metadata": {},
   "outputs": [
    {
     "name": "stdout",
     "output_type": "stream",
     "text": [
      "rm -f *.out weak.txt caching.txt caching2.txt out.txt \n",
      "rm -f -rf *~ *.o *.mod *.MOD *.i core.* *.out *.lst *.x *.x+orig *.x+[0-9]* *.dat *.report report_*.txt out*.txt\n",
      "ftn -O3 -hfp3 -eZ -ffree -N255 -ec -eC -eI -eF -rm -h omp -c m_utils.F90\n",
      "ftn -O3 -hfp3 -eZ -ffree -N255 -ec -eC -eI -eF -rm -h omp -c stencil2d-base.F90\n",
      "ftn -O3 -hfp3 -eZ -ffree -N255 -ec -eC -eI -eF -rm -h omp m_utils.o stencil2d-base.o -o stencil2d-base.x\n"
     ]
    },
    {
     "name": "stderr",
     "output_type": "stream",
     "text": [
      "INFO: creating the PerfTools-instrumented executable 'stencil2d-base.x' (lite-samples) ...OK\n"
     ]
    },
    {
     "name": "stdout",
     "output_type": "stream",
     "text": [
      "cp stencil2d-base.x stencil2d.x\n"
     ]
    }
   ],
   "source": [
    "%%bash\n",
    "module load daint-gpu\n",
    "module switch PrgEnv-gnu PrgEnv-cray\n",
    "module load perftools-lite\n",
    "\n",
    "make clean\n",
    "make VERSION=base"
   ]
  },
  {
   "cell_type": "markdown",
   "metadata": {},
   "source": [
    "This created **two** executables. `stencil2d-base.x+orig` is the executable which is simply compiled and not instrumented by perftools-lite for performance profiling. `stencil2d-base.x` is an executable that has been instrumented for performance profiling and will generate a performance report at the end of execution.\n",
    "\n",
    "Let's run the version without performance profiling to get a baseline runtime."
   ]
  },
  {
   "cell_type": "code",
   "execution_count": 67,
   "metadata": {},
   "outputs": [
    {
     "name": "stdout",
     "output_type": "stream",
     "text": [
      "# ranks nx ny nz num_iter time\n",
      "data = np.array( [ \\\n",
      "[    1,  128,  128,   64,    1024,  0.8215840E+00], \\\n",
      "] )\n"
     ]
    }
   ],
   "source": [
    "%%bash\n",
    "srun -n 1 ./stencil2d-base.x+orig --nx 128 --ny 128 --nz 64 --num_iter 1024"
   ]
  },
  {
   "cell_type": "markdown",
   "metadata": {},
   "source": [
    "Take note of the runtime (the last value in the `data` array). This is our sequential baseline. It should be on the order of 0.8 s. As reminder, this time is only the time it takes to execute the loop over the iterations where we apply the diffusion stencil."
   ]
  },
  {
   "cell_type": "markdown",
   "metadata": {},
   "source": [
    "Note: If you feel more comfortable with C++, there is also a version available in C++. Future make commands have both versions inside. Comment and uncomment based on your preferred language.\n",
    "\n",
    "<b>If you want to continue with the Fortran code, skip these two boxes</b>"
   ]
  },
  {
   "cell_type": "code",
   "execution_count": 61,
   "metadata": {},
   "outputs": [
    {
     "name": "stderr",
     "output_type": "stream",
     "text": [
      "WARNING: PerfTools is saving object files from a temporary directory into directory '/users/class151/.craypat/stencil2d-base.x/14303'\n",
      "INFO: creating the PerfTools-instrumented executable 'stencil2d-base.x' (lite-samples) ...OK\n"
     ]
    }
   ],
   "source": [
    "%%bash\n",
    "module load daint-gpu\n",
    "module load perftools-lite\n",
    "\n",
    "CC stencil2d-base.cpp -fopenmp -o stencil2d-base.x -O3"
   ]
  },
  {
   "cell_type": "code",
   "execution_count": 48,
   "metadata": {},
   "outputs": [
    {
     "name": "stdout",
     "output_type": "stream",
     "text": [
      "# ranks nx ny nz num_iter time\n",
      "data = np.array( [ \\\n",
      "[ 24, 128, 128, 128, 1024, 9.57531],\n",
      "] )\n"
     ]
    }
   ],
   "source": [
    "%%bash\n",
    "srun -n 1 ./stencil2d-base.x+orig --nx 128 --ny 128 --nz 128 --num_iter 1024"
   ]
  },
  {
   "cell_type": "markdown",
   "metadata": {},
   "source": [
    "## Validation\n",
    "\n",
    "As a first step, it is always good to make sure that the code is working correctly before proceeding with any sort of parallelization or optimization. We plot the initial and final step to see that the code still produces the same result."
   ]
  },
  {
   "cell_type": "code",
   "execution_count": 68,
   "metadata": {},
   "outputs": [],
   "source": [
    "def read_field_from_file(filename, num_halo=None):\n",
    "    (rank, nbits, num_halo, nx, ny, nz) = np.fromfile(filename, dtype=np.int32, count=6)\n",
    "    offset = (3 + rank) * 32 // nbits\n",
    "    data = np.fromfile(\n",
    "        filename,\n",
    "        dtype=np.float32 if nbits == 32 else np.float64,\n",
    "        count=nz * ny * nx + offset,\n",
    "    )\n",
    "    if rank == 3:\n",
    "        return np.reshape(data[offset:], (nz, ny, nx))\n",
    "    else:\n",
    "        return np.reshape(data[offset:], (ny, nx))\n",
    "\n",
    "\n",
    "def validate_results():\n",
    "    fig, axs = plt.subplots(1, 2, figsize=(12, 4))\n",
    "\n",
    "    in_field = read_field_from_file(\"in_field.dat\")\n",
    "    im1 = axs[0].imshow(\n",
    "        in_field[in_field.shape[0] // 2, :, :], origin=\"lower\", vmin=-0.1, vmax=1.1\n",
    "    )\n",
    "    fig.colorbar(im1, ax=axs[0])\n",
    "    axs[0].set_title(\"Initial condition\")\n",
    "\n",
    "    out_field = read_field_from_file(\"out_field.dat\")\n",
    "    im2 = axs[1].imshow(\n",
    "        out_field[out_field.shape[0] // 2, :, :], origin=\"lower\", vmin=-0.1, vmax=1.1\n",
    "    )\n",
    "    fig.colorbar(im2, ax=axs[1])\n",
    "    axs[1].set_title(\"Final result\")\n",
    "\n",
    "    plt.show()"
   ]
  },
  {
   "cell_type": "code",
   "execution_count": 69,
   "metadata": {},
   "outputs": [
    {
     "data": {
      "image/png": "[encoded data removed]",
      "text/plain": [
       "<Figure size 864x288 with 4 Axes>"
      ]
     },
     "metadata": {
      "needs_background": "light"
     },
     "output_type": "display_data"
    }
   ],
   "source": [
    "validate_results()"
   ]
  },
  {
   "cell_type": "markdown",
   "metadata": {},
   "source": [
    "## Parallelization of the K-Loop\n",
    "Let's use perftools-lite to generate a performance report for the base version. This will be useful to guide our parallelization approach."
   ]
  },
  {
   "cell_type": "code",
   "execution_count": 70,
   "metadata": {},
   "outputs": [
    {
     "name": "stderr",
     "output_type": "stream",
     "text": [
      "CrayPat/X:  Version 21.09.0 Revision b02949528  08/17/21 03:14:02\n"
     ]
    }
   ],
   "source": [
    "%%bash\n",
    "srun -n 1 ./stencil2d-base.x --nx 128 --ny 128 --nz 64 --num_iter 1024 > report_base.txt"
   ]
  },
  {
   "cell_type": "markdown",
   "metadata": {},
   "source": [
    "Take a look at the performance report in the file `report_base.txt`. Which are the lines which consume most of the runtime (hot loops)? These code regions should be the primary targets for parallelization with OpenMP.\n",
    "<div class=\"alert alert-block alert-info\">\n",
    "<b>Now it's your turn...</b><br>\n",
    "<b>1.</b> Make a copy of the source code and name it <tt>stencil2d-kparallel.F90/cpp</tt>. Compile it (see cell below) and run it (see cell after that). For the time being, the runtime should be the same as the base version. Insert the following block of code immediately at program start to print out the number of available threads.<br>\n",
    "<b>Fortran</b><br>\n",
    "<code>!$omp parallel\n",
    "!$omp master\n",
    "write(*,*) '#threads = ', omp_get_num_threads()\n",
    "!$omp end master\n",
    "!$omp end parallel\n",
    "</code>\n",
    "<b>C++</b><br>\n",
    "<code>#pragma omp parallel\n",
    "  {\n",
    "#pragma omp master\n",
    "    { std::cout << \"#threads = \" <<  omp_get_num_threads() << std::endl; }\n",
    "  }\n",
    "</code>\n",
    "Compile and run your code again. How many threads do we have available? Does the number match the number of cores?\n",
    "<br>\n",
    "<b>2.</b> Now use OpenMP to parallelize the <tt>k</tt>-loop. Compile the code again and execute it. Quickly check that the results are still ok (using <tt>validate_results()</tt>, see below)<br>\n",
    "<b>3.</b> What does the plot tell you? What might be the issue?<br>\n",
    "<b>4.</b> Irrespective of the result, how fast is your code relative to the base version? What would you have expected?<br>\n",
    "<b>5.</b> Generate a perftools-lite report and check what changed relative to the base version. What are the places that consume most of the runtime now?<br>\n",
    "<b>6.</b> Rerun for <tt>nz</tt>=1, 24, 25, 48, 64 ,480 and inspect the perftools-lite report for each of these settings. Look at how the relative distribution of runtime changes in table 2. Can you guess what is happening? Why is <tt>nz</tt>=64 not an ideal setting?<br>\n",
    "</div>"
   ]
  },
  {
   "cell_type": "code",
   "execution_count": 71,
   "metadata": {},
   "outputs": [
    {
     "name": "stdout",
     "output_type": "stream",
     "text": [
      "ftn -O3 -hfp3 -eZ -ffree -N255 -ec -eC -eI -eF -rm -h omp -c stencil2d-kparallel.F90\n",
      "ftn -O3 -hfp3 -eZ -ffree -N255 -ec -eC -eI -eF -rm -h omp m_utils.o stencil2d-kparallel.o -o stencil2d-kparallel.x\n"
     ]
    },
    {
     "name": "stderr",
     "output_type": "stream",
     "text": [
      "INFO: creating the PerfTools-instrumented executable 'stencil2d-kparallel.x' (lite-samples) ...OK\n"
     ]
    },
    {
     "name": "stdout",
     "output_type": "stream",
     "text": [
      "cp stencil2d-kparallel.x stencil2d.x\n"
     ]
    }
   ],
   "source": [
    "%%bash\n",
    "# For Fortran uncomment these lines\n",
    "module load daint-gpu\n",
    "module switch PrgEnv-gnu PrgEnv-cray\n",
    "module load perftools-lite\n",
    "make VERSION=kparallel\n",
    "\n",
    "# For C++ uncomment these lines\n",
    "# module load daint-gpu\n",
    "# module load perftools-lite\n",
    "# CC stencil2d-kparallel.cpp -fopenmp -o stencil2d-kparallel.x -O3"
   ]
  },
  {
   "cell_type": "code",
   "execution_count": 72,
   "metadata": {},
   "outputs": [
    {
     "name": "stdout",
     "output_type": "stream",
     "text": [
      " #threads =  24\n",
      "# threads nx ny ny nz num_iter time\n",
      "data = np.array( [ \\\n",
      "[   24,  128,  128,   64,    1024,  0.2554877E+00], \\\n",
      "] )\n"
     ]
    }
   ],
   "source": [
    "%%bash\n",
    "srun -n 1 ./stencil2d-kparallel.x+orig --nx 128 --ny 128 --nz 64 --num_iter 1024"
   ]
  },
  {
   "cell_type": "code",
   "execution_count": 73,
   "metadata": {},
   "outputs": [
    {
     "data": {
      "image/png": "[encoded data removed]",
      "text/plain": [
       "<Figure size 864x288 with 4 Axes>"
      ]
     },
     "metadata": {
      "needs_background": "light"
     },
     "output_type": "display_data"
    }
   ],
   "source": [
    "validate_results()"
   ]
  },
  {
   "cell_type": "code",
   "execution_count": 83,
   "metadata": {},
   "outputs": [
    {
     "name": "stderr",
     "output_type": "stream",
     "text": [
      "CrayPat/X:  Version 21.09.0 Revision b02949528  08/17/21 03:14:02\n"
     ]
    }
   ],
   "source": [
    "%%bash\n",
    "srun -n 1 ./stencil2d-kparallel.x --nx 128 --ny 128 --nz 64 --num_iter 1024 > report_kparallel.txt"
   ]
  },
  {
   "cell_type": "markdown",
   "metadata": {},
   "source": [
    " ![wrong.png](wrong.png)\n",
    "\n",
    " Result looks broken.\n",
    " \n",
    " \n",
    " The problem is that the temporary variable is shared across the loop\n",
    " "
   ]
  },
  {
   "cell_type": "markdown",
   "metadata": {},
   "source": [
    "## Variable Scoping\n",
    "\n",
    "Inside a parallel region, variables can be either *shared* (all threads see the same copy) or *private* (each thread has its own copy). For now, we have not explicitly declared the scope of variables that are being used in the parallel region. If nothing is specified, the compiler assumes per default that all variables are shared. This is dangerous and can lead to very ugly errors. This is the error you've encountered above.\n",
    "\n",
    "Some guidelines you can follow to decide the scope of variables are the following:\n",
    "- Loop indices are private.\n",
    "- Variables that are used (read or written) solely inside the parallel region are private.\n",
    "- Variables that are only being read inside the parallel region are shared.\n",
    "\n",
    "<div class=\"alert alert-block alert-info\">\n",
    "<b>Now it's your turn...</b><br>\n",
    "<b>7.</b> In order to avoid the default behavior, append the <code>default(none)</code> clause on the line with the <code>!$omp parallel do</code>.Recompile (see below). The compiler will now complain that the scope of several variables has not explicitly been specified. For each of these variables, you have to decide whether they are <code>private(var)</code> or <code>shared(var)</code>.<br>\n",
    "<b>8.</b> Once your code compiles, run it and validate that the results are still looking correct.<br>\n",
    "<b>9.</b> Move a single variable (e.g. <tt>nx</tt>) from shared to private, recompile, run and visualize the results. Do you understand what happened?<br>\n",
    "<b>10.</b> Once you are sure that the variable scoping is correct, run one final time and compare the runtime against the previous version and the baseline. Do you understand why we are faster?<br>\n",
    "</div>"
   ]
  },
  {
   "cell_type": "code",
   "execution_count": 76,
   "metadata": {},
   "outputs": [
    {
     "name": "stdout",
     "output_type": "stream",
     "text": [
      "make: 'stencil2d-kparallel.x' is up to date.\n"
     ]
    }
   ],
   "source": [
    "%%bash\n",
    "# For Fortran uncomment these lines\n",
    "module load daint-gpu\n",
    "module switch PrgEnv-gnu PrgEnv-cray\n",
    "module load perftools-lite\n",
    "make VERSION=kparallel\n",
    "\n",
    "# For C++ uncomment these lines\n",
    "# module load daint-gpu\n",
    "# module load perftools-lite\n",
    "# CC stencil2d-kparallel.cpp -fopenmp -o stencil2d-kparallel.x -O3"
   ]
  },
  {
   "cell_type": "code",
   "execution_count": 77,
   "metadata": {},
   "outputs": [
    {
     "name": "stdout",
     "output_type": "stream",
     "text": [
      " #threads =  24\n",
      "# threads nx ny ny nz num_iter time\n",
      "data = np.array( [ \\\n",
      "[   24,  128,  128,   64,    1024,  0.2585838E+00], \\\n",
      "] )\n"
     ]
    }
   ],
   "source": [
    "%%bash\n",
    "srun -n 1 ./stencil2d-kparallel.x+orig --nx 128 --ny 128 --nz 64 --num_iter 1024"
   ]
  },
  {
   "cell_type": "code",
   "execution_count": 78,
   "metadata": {},
   "outputs": [
    {
     "data": {
      "image/png": "[encoded data removed]",
      "text/plain": [
       "<Figure size 864x288 with 4 Axes>"
      ]
     },
     "metadata": {
      "needs_background": "light"
     },
     "output_type": "display_data"
    }
   ],
   "source": [
    "validate_results()"
   ]
  },
  {
   "cell_type": "code",
   "execution_count": 81,
   "metadata": {},
   "outputs": [
    {
     "name": "stderr",
     "output_type": "stream",
     "text": [
      "CrayPat/X:  Version 21.09.0 Revision b02949528  08/17/21 03:14:02\n"
     ]
    }
   ],
   "source": [
    "%%bash\n",
    "srun -n 1 ./stencil2d-kparallel.x --nx 128 --ny 128 --nz 64 --num_iter 1024 > report_kparallel.txt"
   ]
  },
  {
   "cell_type": "markdown",
   "metadata": {},
   "source": [
    "The compiler complains immediatly if one variable is moved to private\n",
    "\n",
    "![broken.png](broken.png)"
   ]
  },
  {
   "cell_type": "markdown",
   "metadata": {},
   "source": [
    "### Performance analysis\n",
    "\n",
    "Now we are at 0.2585838E+00, compared to sequential 0.8811383E+00 and wrong version 0.4716363E+00.\n",
    "This is because we are now no longer evicting the cache of other iterations"
   ]
  },
  {
   "cell_type": "markdown",
   "metadata": {},
   "source": [
    "## Parallelization of the J-Loop\n",
    "<div class=\"alert alert-block alert-info\">\n",
    "<b>Now it's your turn...</b><br>\n",
    "<b>11.</b> Make a copy of the <tt>stencil2d-kparallel.F90/cpp</tt> program and name it <tt>stencil2d-jparallel.F90/cpp</tt>. This time use OpenMP to parallelize the <tt>j</tt>-loop. Make sure to remove the <tt>k</tt>-loop parallelization. Compile it and run it. How fast is your code? What would you have expected?<br>\n",
    "<b>12.</b> Again generate a report. What changed? Can you use the report to explain your findings above?<br>\n",
    "    <b>13.</b>  Run you code using just 1 thread (<code>OMP_NUM_THREADS=1</code>). How does the runtime compare against the base version? Run the both versions of the code several times to make sure the result is reproducible. What could be the reason for the difference?<br>\n",
    "<b>13.</b> Is it a good idea to try and parallelize the <tt>i</tt>-loop? Why?<br>\n",
    "</div>"
   ]
  },
  {
   "cell_type": "code",
   "execution_count": 84,
   "metadata": {},
   "outputs": [
    {
     "name": "stdout",
     "output_type": "stream",
     "text": [
      "ftn -O3 -hfp3 -eZ -ffree -N255 -ec -eC -eI -eF -rm -h omp -c stencil2d-jparallel.F90\n",
      "ftn -O3 -hfp3 -eZ -ffree -N255 -ec -eC -eI -eF -rm -h omp m_utils.o stencil2d-jparallel.o -o stencil2d-jparallel.x\n"
     ]
    },
    {
     "name": "stderr",
     "output_type": "stream",
     "text": [
      "INFO: creating the PerfTools-instrumented executable 'stencil2d-jparallel.x' (lite-samples) ...OK\n"
     ]
    },
    {
     "name": "stdout",
     "output_type": "stream",
     "text": [
      "cp stencil2d-jparallel.x stencil2d.x\n"
     ]
    }
   ],
   "source": [
    "%%bash\n",
    "# For Fortran uncomment these lines\n",
    "module load daint-gpu\n",
    "module switch PrgEnv-gnu PrgEnv-cray\n",
    "module load perftools-lite\n",
    "make VERSION=jparallel\n",
    "\n",
    "# For C++ uncomment these lines\n",
    "# module load daint-gpu\n",
    "# module load perftools-lite\n",
    "# CC stencil2d-jparallel.cpp -fopenmp -o stencil2d-jparallel.x -O3"
   ]
  },
  {
   "cell_type": "code",
   "execution_count": 88,
   "metadata": {},
   "outputs": [
    {
     "name": "stdout",
     "output_type": "stream",
     "text": [
      "# threads =           24\n",
      "# ranks nx ny ny nz num_iter time\n",
      "data = np.array( [ \\\n",
      "[    1,  128,  128,   64,    1024,  0.1529592E+01], \\\n",
      "] )\n"
     ]
    }
   ],
   "source": [
    "%%bash\n",
    "srun -n 1 ./stencil2d-jparallel.x+orig --nx 128 --ny 128 --nz 64 --num_iter 1024"
   ]
  },
  {
   "cell_type": "code",
   "execution_count": 87,
   "metadata": {},
   "outputs": [
    {
     "data": {
      "image/png": "[encoded data removed]",
      "text/plain": [
       "<Figure size 864x288 with 4 Axes>"
      ]
     },
     "metadata": {
      "needs_background": "light"
     },
     "output_type": "display_data"
    }
   ],
   "source": [
    "validate_results()"
   ]
  },
  {
   "cell_type": "code",
   "execution_count": 89,
   "metadata": {},
   "outputs": [
    {
     "name": "stderr",
     "output_type": "stream",
     "text": [
      "CrayPat/X:  Version 21.09.0 Revision b02949528  08/17/21 03:14:02\n"
     ]
    }
   ],
   "source": [
    "%%bash\n",
    "srun -n 1 ./stencil2d-jparallel.x --nx 128 --ny 128 --nz 64 --num_iter 1024 > report_jparallel.txt"
   ]
  },
  {
   "cell_type": "code",
   "execution_count": 90,
   "metadata": {},
   "outputs": [
    {
     "name": "stdout",
     "output_type": "stream",
     "text": [
      "# threads =            1\n",
      "# ranks nx ny ny nz num_iter time\n",
      "data = np.array( [ \\\n",
      "[    1,  128,  128,   64,    1024,  0.8811383E+00], \\\n",
      "] )\n"
     ]
    }
   ],
   "source": [
    "%%bash\n",
    "export OMP_NUM_THREADS=1\n",
    "srun -n 1 ./stencil2d-jparallel.x+orig --nx 128 --ny 128 --nz 64 --num_iter 1024"
   ]
  },
  {
   "cell_type": "markdown",
   "metadata": {},
   "source": [
    "### Performance analysis\n",
    "\n",
    "Right now, the performance increases to 0.1529592E+01, significantly slower than the sequential version (0.8811383E+00).\n",
    "\n",
    "If we look at the profile we see:\n",
    "\n",
    "```\n",
    "|  57.8% | 160.0 |   -- |    -- |   -- | ETC\n",
    "||----------------------------------------------------------------------------\n",
    "||  45.1% | 125.0 | 36.0 | 57.6% |    2 | fullscan_barrier_list\n",
    "```\n",
    "\n",
    "so we see a lot of paralleilzation overhead. This is due to the parallelization being at a different level"
   ]
  },
  {
   "cell_type": "markdown",
   "metadata": {},
   "source": [
    "This is pretty aligned with what we see in the report:\n",
    "```\n",
    " 100.0% | 115.0 |   -- |    -- | Total\n",
    "|-----------------------------------------------------------------------------\n",
    "|  91.3% | 105.0 |   -- |    -- | USER\n",
    "||----------------------------------------------------------------------------\n",
    "||  40.0% |  46.0 |   -- |    -- | apply_diffusion$main_.LOOP@li.154\n",
    "3|        |       |      |       |  HPC4WC/day2/solutions/stencil2d-jparallel.F90\n",
    "||||--------------------------------------------------------------------------\n",
    "4|||  18.3% |  21.0 |   -- |    -- | line.157\n",
    "4|||   8.7% |  10.0 |   -- |    -- | line.164\n",
    "4|||   1.7% |   2.0 |   -- |    -- | line.168\n",
    "4|||  10.4% |  12.0 |   -- |    -- | line.169\n",
    "||||==========================================================================\n",
    "||  40.0% |  46.0 |   -- |    -- | apply_diffusion$main_.LOOP@li.144\n",
    "3|        |       |      |       |  HPC4WC/day2/solutions/stencil2d-jparallel.F90\n",
    "||||--------------------------------------------------------------------------\n",
    "4|||   1.7% |   2.0 |   -- |    -- | line.144\n",
    "4|||   1.7% |   2.0 |   -- |    -- | line.145\n",
    "4|||  33.0% |  38.0 |   -- |    -- | line.146\n",
    "4|||   2.6% |   3.0 |   -- |    -- | line.153\n",
    "||||==========================================================================\n",
    "||   9.6% |  11.0 |   -- |    -- | apply_diffusion$main_\n",
    "3|        |       |      |       |  HPC4WC/day2/solutions/stencil2d-jparallel.F90\n",
    "4|   8.7% |  10.0 |   -- |    -- |   line.139\n",
    "||   1.7% |   2.0 |   -- |    -- | apply_diffusion$main_.REGION@li.144\n",
    "3|        |       |      |       |  HPC4WC/day2/solutions/stencil2d-jparallel.F90\n",
    "4|        |       |      |       |   line.144\n",
    "||============================================================================\n",
    "|   7.8% |   9.0 |   -- |    -- | OMP\n",
    "||----------------------------------------------------------------------------\n",
    "||   7.8% |   9.0 |   -- |    -- | apply_diffusion$main_.REGION@li.143(ovhd)\n",
    "3|        |       |      |       |  HPC4WC/day2/solutions/stencil2d-jparallel.F90\n",
    "4|        |       |      |       |   line.143\n",
    "|=============================================================================\n",
    "```\n",
    "Where we see the overhead showing up"
   ]
  },
  {
   "cell_type": "markdown",
   "metadata": {},
   "source": [
    "## Setting the Number of Threads\n",
    "\n",
    "We now know that we have 12 cores available on the CPU. We want to investigate what the best number of threads is. While it is possible to increase the number of threads beyond the number of cores (in fact the default value we found above is 24, giving 2 threads per core), there probably is an optimum.\n",
    "\n",
    "<div class=\"alert alert-block alert-info\">\n",
    "<b>Now it's your turn...</b><br>\n",
    "<b>14.</b> Use the <tt>stencil2d-kparallel.F90/cpp</tt> version of the code you developed above and find the optimal number of threads.<br>\n",
    "<b>15.</b> Do the same thing for the version where you have parallelized the j-loop.\n",
    "</div>"
   ]
  },
  {
   "cell_type": "code",
   "execution_count": 92,
   "metadata": {},
   "outputs": [
    {
     "name": "stdout",
     "output_type": "stream",
     "text": [
      "make: 'stencil2d-kparallel.x' is up to date.\n"
     ]
    }
   ],
   "source": [
    "%%bash\n",
    "# The file should still be around, but if you need to recompile, here are the steps:\n",
    "\n",
    "# For Fortran uncomment these lines\n",
    "module load daint-gpu\n",
    "module switch PrgEnv-gnu PrgEnv-cray\n",
    "module load perftools-lite\n",
    "make VERSION=kparallel\n",
    "\n",
    "# For C++ uncomment these lines\n",
    "# module load daint-gpu\n",
    "# CC stencil2d-kparallel.cpp -fopenmp -o stencil2d-kparallel.x -O3"
   ]
  },
  {
   "cell_type": "code",
   "execution_count": 93,
   "metadata": {},
   "outputs": [
    {
     "name": "stdout",
     "output_type": "stream",
     "text": [
      "make: 'stencil2d-jparallel.x' is up to date.\n"
     ]
    }
   ],
   "source": [
    "%%bash\n",
    "# The file should still be around, but if you need to recompile, here are the steps:\n",
    "\n",
    "# For Fortran uncomment these lines\n",
    "module load daint-gpu\n",
    "module switch PrgEnv-gnu PrgEnv-cray\n",
    "module load perftools-lite\n",
    "make VERSION=jparallel\n",
    "\n",
    "# For C++ uncomment these lines\n",
    "#module load daint-gpu\n",
    "#module load perftools-lite\n",
    "#CC stencil2d-jparallel.cpp -fopenmp -o stencil2d-jparallel.x -O3"
   ]
  },
  {
   "cell_type": "code",
   "execution_count": 96,
   "metadata": {},
   "outputs": [],
   "source": [
    "%%bash\n",
    "nthreads=1\n",
    "echo \"out = [None] * 21\" > out.txt\n",
    "for nthreads in `seq 1 20` ; do\n",
    "export OMP_NUM_THREADS=$nthreads\n",
    "  ncores=$nthreads\n",
    "  if [ $nthreads -gt 24 ] ; then\n",
    "    ncores=24\n",
    "  fi\n",
    "  srun -n 1 -c $ncores ./stencil2d-kparallel.x+orig --nx 128 --ny 128 --nz 64 --num_iter 1024 | sed \"s/data =/out[$nthreads] =/g\" >> out.txt\n",
    "done"
   ]
  },
  {
   "cell_type": "code",
   "execution_count": 97,
   "metadata": {},
   "outputs": [],
   "source": [
    "exec(open(\"out.txt\", \"r\").read())\n",
    "labels = []\n",
    "times = []\n",
    "for i in range(len(out)):\n",
    "    if i == 0:\n",
    "        continue\n",
    "    labels.append(i)\n",
    "    times.append(out[i][:, 5].item())"
   ]
  },
  {
   "cell_type": "code",
   "execution_count": 100,
   "metadata": {},
   "outputs": [
    {
     "data": {
      "image/png": "[encoded data removed]",
      "text/plain": [
       "<Figure size 432x288 with 1 Axes>"
      ]
     },
     "metadata": {
      "needs_background": "light"
     },
     "output_type": "display_data"
    }
   ],
   "source": [
    "x = np.arange(len(labels))  # the label locations\n",
    "width = 0.35  # the width of the bars\n",
    "fig = plt.figure()\n",
    "ax = fig.add_axes([0, 0, 1, 1])\n",
    "ax.bar(labels, times)\n",
    "ax.set_xlabel('Number of Cores')\n",
    "ax.set_ylabel('Runtime')\n",
    "plt.show()"
   ]
  },
  {
   "cell_type": "code",
   "execution_count": 102,
   "metadata": {},
   "outputs": [],
   "source": [
    "%%bash\n",
    "nthreads=1\n",
    "echo \"out = [None] * 21\" > out_j.txt\n",
    "for nthreads in `seq 1 20` ; do\n",
    "export OMP_NUM_THREADS=$nthreads\n",
    "  ncores=$nthreads\n",
    "  if [ $nthreads -gt 24 ] ; then\n",
    "    ncores=24\n",
    "  fi\n",
    "  srun -n 1 -c $ncores ./stencil2d-jparallel.x+orig --nx 128 --ny 128 --nz 64 --num_iter 1024 | sed \"s/data =/out[$nthreads] =/g\" >> out_j.txt\n",
    "done"
   ]
  },
  {
   "cell_type": "code",
   "execution_count": 103,
   "metadata": {},
   "outputs": [],
   "source": [
    "exec(open(\"out_j.txt\", \"r\").read())\n",
    "labels = []\n",
    "times = []\n",
    "for i in range(len(out)):\n",
    "    if i == 0:\n",
    "        continue\n",
    "    labels.append(i)\n",
    "    times.append(out[i][:, 5].item())"
   ]
  },
  {
   "cell_type": "code",
   "execution_count": 104,
   "metadata": {},
   "outputs": [
    {
     "data": {
      "image/png": "[encoded data removed]",
      "text/plain": [
       "<Figure size 432x288 with 1 Axes>"
      ]
     },
     "metadata": {
      "needs_background": "light"
     },
     "output_type": "display_data"
    }
   ],
   "source": [
    "x = np.arange(len(labels))  # the label locations\n",
    "width = 0.35  # the width of the bars\n",
    "fig = plt.figure()\n",
    "ax = fig.add_axes([0, 0, 1, 1])\n",
    "ax.bar(labels, times)\n",
    "ax.set_xlabel('Number of Cores')\n",
    "ax.set_ylabel('Runtime')\n",
    "plt.show()"
   ]
  },
  {
   "cell_type": "markdown",
   "metadata": {},
   "source": [
    "<div class=\"alert alert-block alert-warning\">\n",
    "The concepts presented up to here are key to understanding how to optimize weather and climate codes. The next set of questions should deepen your understanding of OpenMP and shared memory parallelism in general. The following exercises can be considered a bonus if the time is too short.<br>\n",
    "The questions are split into two sections: Deeper understanding of OpenMP and playing with minor optimizations in the stencil2d example. They can be solved in either order\n",
    "</div>"
   ]
  },
  {
   "cell_type": "markdown",
   "metadata": {},
   "source": [
    "# Understanding OpenMP\n",
    "\n",
    "## Diagnostics of our Field\n",
    "The first task is to understand how to use critical sections, atomics and proper variable scoping to implement a function that calculates the maximal value present in the 3d field. \n",
    "<div class=\"alert alert-block alert-success\">\n",
    "<b>Now it's your turn...</b><br>\n",
    "<b>B1.</b> Make a copy of the base source code and name it <tt>stencil2d-max.F90/cpp</tt>.<br>\n",
    "Add the function that iterates over all fields and reports the highest value found after every 100th iteration. Report the value to the standard output (<code>std::cout</code> or <code>write(*, *)</code>)<br>\n",
    "<b>B2.</b> Make a copy of the maximum computing code and name it <tt>stencil2d-parallelmax.F90/cpp</tt>.<br>\n",
    "In it, parallelize the diagnostics. Can you put this into a parallel section or does it need its own? Can you reproduce the same results?\n",
    "</div>"
   ]
  },
  {
   "cell_type": "code",
   "execution_count": 105,
   "metadata": {},
   "outputs": [
    {
     "name": "stdout",
     "output_type": "stream",
     "text": [
      "ftn -O3 -hfp3 -eZ -ffree -N255 -ec -eC -eI -eF -rm -h omp -c stencil2d-max.F90\n",
      "ftn -O3 -hfp3 -eZ -ffree -N255 -ec -eC -eI -eF -rm -h omp m_utils.o stencil2d-max.o -o stencil2d-max.x\n",
      "cp stencil2d-max.x stencil2d.x\n"
     ]
    }
   ],
   "source": [
    "%%bash\n",
    "# For Fortran uncomment these lines\n",
    "module load daint-gpu\n",
    "module switch PrgEnv-gnu PrgEnv-cray\n",
    "make VERSION=max\n",
    "\n",
    "# For C++ uncomment these lines\n",
    "# module load daint-gpu\n",
    "# CC stencil2d-max.cpp -fopenmp -o stencil2d-max.x -O3"
   ]
  },
  {
   "cell_type": "code",
   "execution_count": 106,
   "metadata": {},
   "outputs": [
    {
     "name": "stdout",
     "output_type": "stream",
     "text": [
      " # 1.09911919\n",
      " # 1.09988868\n",
      " # 1.09759319\n",
      " # 1.10005009\n",
      "# ranks nx ny nz num_iter time\n",
      "data = np.array( [ \\\n",
      "[    1,  128,  128,   64,     410,  0.3213816E+00], \\\n",
      "] )\n"
     ]
    }
   ],
   "source": [
    "%%bash\n",
    "srun -n 1 ./stencil2d-max.x --nx 128 --ny 128 --nz 64 --num_iter 410"
   ]
  },
  {
   "cell_type": "code",
   "execution_count": 107,
   "metadata": {},
   "outputs": [
    {
     "name": "stdout",
     "output_type": "stream",
     "text": [
      "ftn -O3 -hfp3 -eZ -ffree -N255 -ec -eC -eI -eF -rm -h omp -c stencil2d-parallelmax.F90\n",
      "ftn -O3 -hfp3 -eZ -ffree -N255 -ec -eC -eI -eF -rm -h omp m_utils.o stencil2d-parallelmax.o -o stencil2d-parallelmax.x\n",
      "cp stencil2d-parallelmax.x stencil2d.x\n"
     ]
    }
   ],
   "source": [
    "%%bash\n",
    "# For Fortran uncomment these lines\n",
    "module load daint-gpu\n",
    "module switch PrgEnv-gnu PrgEnv-cray\n",
    "make VERSION=parallelmax\n",
    "\n",
    "# For C++ uncomment these lines\n",
    "# module load daint-gpu\n",
    "# CC stencil2d-parallelmax.cpp -fopenmp -o stencil2d-parallelmax.x -O3"
   ]
  },
  {
   "cell_type": "code",
   "execution_count": 108,
   "metadata": {},
   "outputs": [
    {
     "name": "stdout",
     "output_type": "stream",
     "text": [
      " # 1.09911919\n",
      " # 1.09988868\n",
      " # 1.09759319\n",
      " # 1.10005009\n",
      "# ranks nx ny nz num_iter time\n",
      "data = np.array( [ \\\n",
      "[    1,  128,  128,   64,     410,  0.3277247E+00], \\\n",
      "] )\n"
     ]
    }
   ],
   "source": [
    "%%bash\n",
    "srun -n 1 ./stencil2d-parallelmax.x --nx 128 --ny 128 --nz 64 --num_iter 410"
   ]
  },
  {
   "cell_type": "markdown",
   "metadata": {},
   "source": [
    "## Manual Implementation of the `omp parallel for` Pragma\n",
    "There is a way to re-implement what a parallel for loop does with the directives `omp parallel`, `omp private`, `omp single`(or similar) and `omp task`. We let the scheduling happen automagically and do not worry about it for now. \n",
    "The second task is to write a simple loop that prints the thread number that executes the iteration as well as the iteration number though the full loop. A skeleton code is available in for loop.cpp.\n",
    "<div class=\"alert alert-block alert-success\">\n",
    "<b>Now it's your turn...</b><br>\n",
    "<b>B3.</b> Insert the required pragmas to make sure that more than one thread works on the various pieces of the code\n",
    "</div>"
   ]
  },
  {
   "cell_type": "code",
   "execution_count": 109,
   "metadata": {},
   "outputs": [],
   "source": [
    "%%bash\n",
    "# For Fortran uncomment these lines\n",
    "module load daint-gpu\n",
    "module switch PrgEnv-gnu PrgEnv-cray\n",
    "ftn -h omp -o forloop.x forloop.F90\n",
    "\n",
    "# For C++ uncomment these lines\n",
    "#module load daint-gpu\n",
    "#CC forloop.cpp -fopenmp -o forloop.x"
   ]
  },
  {
   "cell_type": "code",
   "execution_count": 110,
   "metadata": {},
   "outputs": [
    {
     "name": "stdout",
     "output_type": "stream",
     "text": [
      "Thread 3 executed loop iteration 1\n",
      "Thread 2 executed loop iteration 5\n",
      "Thread 5 executed loop iteration 8\n",
      "Thread 6 executed loop iteration 2\n",
      "Thread 7 executed loop iteration 7\n",
      "Thread 1 executed loop iteration 10\n",
      "Thread 4 executed loop iteration 6\n",
      "Thread 9 executed loop iteration 3\n",
      "Thread 0 executed loop iteration 9\n",
      "Thread 8 executed loop iteration 4\n"
     ]
    }
   ],
   "source": [
    "%%bash\n",
    "srun -n 1 ./forloop.x 10"
   ]
  },
  {
   "cell_type": "markdown",
   "metadata": {},
   "source": [
    "# Minor Optimizations of Stencil2D\n",
    "\n",
    "## Fusing the Computation Loops\n",
    "\n",
    "Currently we have the computation in two ij loops. Since we know that writing into a 2d field and reading it again might be additional memory overhead, we would ideally have the computation in just one loop.\n",
    "\n",
    "There is a way to fuse the computational loops (and have the update on a separate loop). \n",
    "\n",
    "The code would have the structure of `stencil2d-fusion.F90 / cpp`.\n",
    "\n",
    "<div class=\"alert alert-block alert-success\">\n",
    "<b>Now it's your turn...</b><br>\n",
    "<b>B4.</b> Implement the loop bounds and the computation.<br>\n",
    "<b>B5.</b> Quickly check that the results are still ok (using <tt>validate_results()</tt>, see below)<br>\n",
    "<b>B6.</b> Use any combination of techniques learned to parallelize this code<br>\n",
    "<b>B7.</b> Look at the performance in your ideal setting (parallelization with either j or k loop, optimal number of threads)/ How does it compare? How much speedup would you have expected?<br>\n",
    "    <b>B8.</b> By looking at the perftools-lite report, can you explain the performance?\n",
    "</div>"
   ]
  },
  {
   "cell_type": "code",
   "execution_count": 112,
   "metadata": {},
   "outputs": [
    {
     "name": "stdout",
     "output_type": "stream",
     "text": [
      "make: 'stencil2d-fusion.x' is up to date.\n"
     ]
    }
   ],
   "source": [
    "%%bash\n",
    "# For Fortran uncomment these lines\n",
    "module load daint-gpu\n",
    "module switch PrgEnv-gnu PrgEnv-cray\n",
    "module load perftools-lite\n",
    "make VERSION=fusion\n",
    "\n",
    "# For C++ uncomment these lines\n",
    "# module load daint-gpu\n",
    "# module load perftools-lite\n",
    "# CC stencil2d-fusion.cpp -fopenmp -o stencil2d-fusion.x -O3"
   ]
  },
  {
   "cell_type": "code",
   "execution_count": 116,
   "metadata": {},
   "outputs": [
    {
     "name": "stdout",
     "output_type": "stream",
     "text": [
      "# ranks nx ny ny nz num_iter time\n",
      "data = np.array( [ \\\n",
      "[    1,  128,  128,   64,    1024,  0.1224886E+01], \\\n",
      "] )\n"
     ]
    }
   ],
   "source": [
    "%%bash\n",
    "srun -n 1 ./stencil2d-fusion.x+orig --nx 128 --ny 128 --nz 64 --num_iter 1024"
   ]
  },
  {
   "cell_type": "code",
   "execution_count": 114,
   "metadata": {},
   "outputs": [
    {
     "data": {
      "image/png": "[encoded data removed]",
      "text/plain": [
       "<Figure size 864x288 with 4 Axes>"
      ]
     },
     "metadata": {
      "needs_background": "light"
     },
     "output_type": "display_data"
    }
   ],
   "source": [
    "validate_results()"
   ]
  },
  {
   "cell_type": "code",
   "execution_count": 115,
   "metadata": {},
   "outputs": [
    {
     "name": "stderr",
     "output_type": "stream",
     "text": [
      "CrayPat/X:  Version 21.09.0 Revision b02949528  08/17/21 03:14:02\n"
     ]
    }
   ],
   "source": [
    "%%bash\n",
    "srun -n 1 ./stencil2d-fusion.x --nx 128 --ny 128 --nz 64 --num_iter 1024 > report_inlining.txt"
   ]
  },
  {
   "cell_type": "markdown",
   "metadata": {
    "tags": []
   },
   "source": [
    "## Parallelizing the Halo Update\n",
    "\n",
    "The halo updates are a set of small loops that are all independent. The amount of work done in there independent loops is significantly smaller than the work in the main loop. We try to investigate how to parallelize them efficiently\n",
    "<div class=\"alert alert-block alert-success\">\n",
    "<b>Now it's your turn...</b><br>\n",
    "<b>B9.</b> By looking at the perftools report of previous runs, can you explain why this was a bonus exercise? What is the expected performance gain of this parallelization? <br>\n",
    "    <b>B10.</b> Make a copy of the source code and name it <tt>stencil2d-parallel-halo.F90/cpp</tt><br>\n",
    "<b>B11</b> Implement a parallel version of the halo updates with the learnings from before (which loop to parallelize, what number of threads to use, how to scope the variables)<br>\n",
    "<b>B12</b> Quickly check that the results are still ok (using <tt>validate_results()</tt>, see below)<br>\n",
    "<b>B13.</b> By looking at the performance report, can you discuss your predictions? Why were they / were they not matched?<br>    \n",
    "</div>"
   ]
  },
  {
   "cell_type": "code",
   "execution_count": 128,
   "metadata": {},
   "outputs": [
    {
     "name": "stderr",
     "output_type": "stream",
     "text": [
      "WARNING: PerfTools is saving object files from a temporary directory into directory '/users/class151/.craypat/stencil2d-parallel-halo.x/24195'\n",
      "INFO: creating the PerfTools-instrumented executable 'stencil2d-parallel-halo.x' (lite-samples) ...OK\n"
     ]
    }
   ],
   "source": [
    "%%bash\n",
    "# For Fortran uncomment these lines\n",
    "# module load daint-gpu\n",
    "# module switch PrgEnv-gnu PrgEnv-cray\n",
    "# module load perftools-lite\n",
    "# make VERSION=parallel-halo\n",
    "\n",
    "# For C++ uncomment these lines\n",
    "module load daint-gpu\n",
    "module load perftools-lite\n",
    "CC stencil2d-parallel-halo.cpp -fopenmp -o stencil2d-parallel-halo.x -O3"
   ]
  },
  {
   "cell_type": "code",
   "execution_count": 129,
   "metadata": {},
   "outputs": [
    {
     "name": "stdout",
     "output_type": "stream",
     "text": [
      "# ranks nx ny ny nz num_iter time\n",
      "data = np.array( [ \\\n",
      "[ 24, 128, 128, 64, 1024, 5.82016],\n",
      "] )\n"
     ]
    }
   ],
   "source": [
    "%%bash\n",
    "srun -n 1 ./stencil2d-parallel-halo.x+orig --nx 128 --ny 128 --nz 64 --num_iter 1024"
   ]
  },
  {
   "cell_type": "code",
   "execution_count": 130,
   "metadata": {},
   "outputs": [
    {
     "data": {
      "image/png": "[encoded data removed]",
      "text/plain": [
       "<Figure size 864x288 with 4 Axes>"
      ]
     },
     "metadata": {
      "needs_background": "light"
     },
     "output_type": "display_data"
    }
   ],
   "source": [
    "validate_results()"
   ]
  },
  {
   "cell_type": "markdown",
   "metadata": {},
   "source": [
    "## Exploring the ideal schedule for our program\n",
    "We know that in a lot of programs, the loop schedule can have a significant impact on the performance. Since weather and climate codes are usually very nicely structured with similar work loads across iterations (excluding boundary layer computation in the vertical), finding the ideal schedule might only lead to small performance gains. We try to nevertheless understand how different schedules behave and what their performance looks like.\n",
    "\n",
    "<div class=\"alert alert-block alert-success\">\n",
    "<b>Now it's your turn...</b><br>\n",
    "<b>B14.</b> Modify your code stencil2d-jparallel to test these three loop orders: <br>\n",
    "<code>static(1)\n",
    "static(ny/p)\n",
    "dynamic(1)\n",
    "</code>\n",
    "   How does the performance compare? Can you explain what these schedules do?<br>\n",
    "    <b>B15.</b> What would happen if we did the same experiment on the kparallel version?<br>\n",
    "<b>B16.</b> Can you think of codes where this is more impactful? Why?\n",
    "</div>\n"
   ]
  },
  {
   "cell_type": "code",
   "execution_count": 120,
   "metadata": {},
   "outputs": [
    {
     "name": "stdout",
     "output_type": "stream",
     "text": [
      "make: 'stencil2d-jparallel.x' is up to date.\n"
     ]
    }
   ],
   "source": [
    "%%bash\n",
    "# For Fortran uncomment these lines\n",
    "module load daint-gpu\n",
    "module switch PrgEnv-gnu PrgEnv-cray\n",
    "module load perftools-lite\n",
    "make VERSION=jparallel\n",
    "\n",
    "# For C++ uncomment these lines\n",
    "#module load daint-gpu\n",
    "#module load perftools-lite\n",
    "#CC stencil2d-jparallel.cpp -fopenmp -o stencil2d-jparallel.x -O3"
   ]
  },
  {
   "cell_type": "code",
   "execution_count": 121,
   "metadata": {},
   "outputs": [
    {
     "name": "stdout",
     "output_type": "stream",
     "text": [
      "# threads =           24\n",
      "# ranks nx ny ny nz num_iter time\n",
      "data = np.array( [ \\\n",
      "[    1,  128,  128,   64,    1024,  0.1536710E+01], \\\n",
      "] )\n"
     ]
    }
   ],
   "source": [
    "%%bash\n",
    "srun -n 1 ./stencil2d-jparallel.x+orig --nx 128 --ny 128 --nz 64 --num_iter 1024"
   ]
  },
  {
   "cell_type": "code",
   "execution_count": 131,
   "metadata": {},
   "outputs": [
    {
     "name": "stdout",
     "output_type": "stream",
     "text": [
      "rm -f *.out weak.txt caching.txt caching2.txt out.txt \n",
      "rm -f -rf *~ *.o *.mod *.MOD *.i core.* *.out *.lst *.x *.x+orig *.x+[0-9]* *.dat *.report report_*.txt out*.txt\n"
     ]
    }
   ],
   "source": [
    "%%bash\n",
    "make clean"
   ]
  }
 ],
 "metadata": {
  "kernelspec": {
   "display_name": "HPC4WC_kernel",
   "language": "python",
   "name": "hpc4wc_kernel"
  },
  "language_info": {
   "codemirror_mode": {
    "name": "ipython",
    "version": 3
   },
   "file_extension": ".py",
   "mimetype": "text/x-python",
   "name": "python",
   "nbconvert_exporter": "python",
   "pygments_lexer": "ipython3",
   "version": "3.9.4"
  }
 },
 "nbformat": 4,
 "nbformat_minor": 4
}
