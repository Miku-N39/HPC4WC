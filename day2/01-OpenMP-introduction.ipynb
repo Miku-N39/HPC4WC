{
 "cells": [
  {
   "cell_type": "markdown",
   "metadata": {},
   "source": [
    "# Shared Memory Parallelism Using OpenMP\n",
    "We want to use OpenMP to enable parallel execution of our codes. If multiple workers can do the same job, execution will be sped up."
   ]
  },
  {
   "cell_type": "code",
   "execution_count": null,
   "metadata": {},
   "outputs": [],
   "source": [
    "pygmentize omp_examples/a01-parallel.cpp"
   ]
  },
  {
   "cell_type": "markdown",
   "metadata": {},
   "source": [
    "We need to tell the compiler that our program contains OpenMP pragmas with the `-fopenmp` option."
   ]
  },
  {
   "cell_type": "code",
   "execution_count": null,
   "metadata": {},
   "outputs": [],
   "source": [
    "g++ omp_examples/a01-parallel.cpp -fopenmp -o parallel.out"
   ]
  },
  {
   "cell_type": "markdown",
   "metadata": {},
   "source": [
    "Now we can run the generated executable."
   ]
  },
  {
   "cell_type": "code",
   "execution_count": null,
   "metadata": {},
   "outputs": [],
   "source": [
    "./parallel.out"
   ]
  },
  {
   "cell_type": "markdown",
   "metadata": {},
   "source": [
    "<div class=\"alert alert-block alert-warning\">\n",
    "    We see that each worker is entering the parallel region and executes the code independent of the other workers.<br>\n",
    "    If we repeat the same block multiple times we see that there is no deterministic answer as the order changes. We see thought that the numbers printed are always the same\n",
    "</div>    "
   ]
  },
  {
   "cell_type": "markdown",
   "metadata": {},
   "source": [
    "<div class=\"alert alert-block alert-info\">\n",
    "<b>Now it's your turn...</b><br>\n",
    "<b>1.</b> Can you explain why the numbers are the same but the order is jumbled up?\n",
    "    \n",
    "<b>2.</b> Why do you see the number of outputs?\n",
    "</div>"
   ]
  },
  {
   "cell_type": "markdown",
   "metadata": {},
   "source": [
    "<b>TODO</b><br>\n",
    "1: Why are the numbers the same?\n",
    "\n",
    "2: Why do you see as many outputs as you see?"
   ]
  },
  {
   "cell_type": "markdown",
   "metadata": {},
   "source": [
    "## Infos About the Region\n",
    "OpenMP allows to get the information about number of threads present in each parallel region"
   ]
  },
  {
   "cell_type": "code",
   "execution_count": null,
   "metadata": {},
   "outputs": [],
   "source": [
    "pygmentize omp_examples/a02-infos.cpp"
   ]
  },
  {
   "cell_type": "code",
   "execution_count": null,
   "metadata": {},
   "outputs": [],
   "source": [
    "g++ omp_examples/a02-infos.cpp -fopenmp -o infos.out && ./infos.out"
   ]
  },
  {
   "cell_type": "markdown",
   "metadata": {},
   "source": [
    "<div class=\"alert alert-block alert-warning\">\n",
    "    We can inspect the current thread number and the total number of threads via intrinsics\n",
    "</div>    "
   ]
  },
  {
   "cell_type": "markdown",
   "metadata": {},
   "source": [
    "<div class=\"alert alert-block alert-info\">\n",
    "<b>Now it's your turn...</b><br>\n",
    "<b>3.</b> Can you think of a good reason why this information might be useful?\n",
    "    \n",
    "</div>"
   ]
  },
  {
   "cell_type": "markdown",
   "metadata": {},
   "source": [
    "<b>TODO</b><br>\n",
    "3: What is a good application of this information?"
   ]
  },
  {
   "cell_type": "markdown",
   "metadata": {},
   "source": [
    "## Setting the Number of Threads\n",
    "We can do this either on each parallel region or with an environment variable"
   ]
  },
  {
   "cell_type": "code",
   "execution_count": null,
   "metadata": {},
   "outputs": [],
   "source": [
    "pygmentize omp_examples/a03-threadnum.cpp"
   ]
  },
  {
   "cell_type": "code",
   "execution_count": null,
   "metadata": {},
   "outputs": [],
   "source": [
    "g++ omp_examples/a03-threadnum.cpp -fopenmp -o threadnum.out && ./threadnum.out"
   ]
  },
  {
   "cell_type": "markdown",
   "metadata": {},
   "source": [
    "<div class=\"alert alert-block alert-warning\">\n",
    "    We can set the number of threads with the <code>num_threads</code> keyword for parallel regions\n",
    "</div>"
   ]
  },
  {
   "cell_type": "code",
   "execution_count": null,
   "metadata": {},
   "outputs": [],
   "source": [
    "OMP_NUM_THREADS=4 ./infos.out"
   ]
  },
  {
   "cell_type": "markdown",
   "metadata": {},
   "source": [
    "<div class=\"alert alert-block alert-warning\">\n",
    "    We can set the number of threads to use when nothing is specified with the <code>OMP_NUM_THREADS</code> environment variable.\n",
    "</div>"
   ]
  },
  {
   "cell_type": "code",
   "execution_count": null,
   "metadata": {},
   "outputs": [],
   "source": [
    "OMP_NUM_THREADS=4 ./threadnum.out"
   ]
  },
  {
   "cell_type": "markdown",
   "metadata": {},
   "source": [
    "<div class=\"alert alert-block alert-warning\">\n",
    "    We see that <code>num_threads</code> takes presedence over <code>OMP_NUM_THREADS</code>\n",
    "</div>"
   ]
  },
  {
   "cell_type": "markdown",
   "metadata": {},
   "source": [
    "<div class=\"alert alert-block alert-info\">\n",
    "<b>Now it's your turn...</b><br>\n",
    "<b>4.</b> Why do you think num_threads is hihger up in the order of presedence?<br>\n",
    "<b>5.</b> Why do we need to ways of controlling this are these two ways fulfilling the same purpose?\n",
    "    \n",
    "</div>"
   ]
  },
  {
   "cell_type": "markdown",
   "metadata": {},
   "source": [
    "<b>TODO</b><br>\n",
    "4: Why does one take presendence?\n",
    "\n",
    "5: Why do we have two ways to control this?"
   ]
  },
  {
   "cell_type": "markdown",
   "metadata": {},
   "source": [
    "## Parallel Loops\n",
    "Since loops are such an important concept to parallelize, there is a special directive for it."
   ]
  },
  {
   "cell_type": "code",
   "execution_count": null,
   "metadata": {},
   "outputs": [],
   "source": [
    "pygmentize omp_examples/a04-loops.cpp"
   ]
  },
  {
   "cell_type": "code",
   "execution_count": null,
   "metadata": {},
   "outputs": [],
   "source": [
    "g++ omp_examples/a04-loops.cpp -fopenmp -o loops.out"
   ]
  },
  {
   "cell_type": "code",
   "execution_count": null,
   "metadata": {},
   "outputs": [],
   "source": [
    "OMP_NUM_THREADS=4 ./loops.out"
   ]
  },
  {
   "cell_type": "markdown",
   "metadata": {},
   "source": [
    "<div class=\"alert alert-block alert-warning\">\n",
    "    We see that the loop order is not preserved, threads take diffent amout of iterations and are not sorted\n",
    "</div>"
   ]
  },
  {
   "cell_type": "markdown",
   "metadata": {},
   "source": [
    "<div class=\"alert alert-block alert-info\">\n",
    "<b>Now it's your turn...</b><br>\n",
    "<b>6.</b> Since this is an existing concept it has it's applications. Can you think of a simple example where the loop order does not matter? Can you also think of one where an unordered loop will break the program flow?<br>\n",
    "    \n",
    "</div>"
   ]
  },
  {
   "cell_type": "markdown",
   "metadata": {},
   "source": [
    "<b>TODO</b><br>\n",
    "6a: Example of where loop order does not matter\n",
    "\n",
    "6b: Example of where random loop execution breaks the code"
   ]
  },
  {
   "cell_type": "code",
   "execution_count": null,
   "metadata": {},
   "outputs": [],
   "source": [
    "OMP_NUM_THREADS=12 ./loops.out"
   ]
  },
  {
   "cell_type": "markdown",
   "metadata": {},
   "source": [
    "<div class=\"alert alert-block alert-warning\">\n",
    "    If more threads than loop iterations are available, only the first set of threads is used\n",
    "</div>"
   ]
  },
  {
   "cell_type": "markdown",
   "metadata": {},
   "source": [
    "## Scheduling\n",
    "<div class=\"alert alert-block alert-danger\">\n",
    "This is an important concept to understand but is not necessarily used in our example\n",
    "</div>\n",
    "\n",
    "Controlling the loop execution with the `schedule` directive might be important for performance. Since the work is oftentimes similar in weather and climate codes this is not super important for our example but is still a concept worth knowing."
   ]
  },
  {
   "cell_type": "code",
   "execution_count": null,
   "metadata": {},
   "outputs": [],
   "source": [
    "pygmentize omp_examples/a05-schedule.cpp"
   ]
  },
  {
   "cell_type": "code",
   "execution_count": null,
   "metadata": {},
   "outputs": [],
   "source": [
    "g++ omp_examples/a05-schedule.cpp -fopenmp -o schedule.out"
   ]
  },
  {
   "cell_type": "code",
   "execution_count": null,
   "metadata": {},
   "outputs": [],
   "source": [
    "OMP_NUM_THREADS=2 ./schedule.out"
   ]
  },
  {
   "cell_type": "markdown",
   "metadata": {},
   "source": [
    "<div class=\"alert alert-block alert-warning\">\n",
    "    Static scheduling allows us to assign chunks of the iteration to the same thread\n",
    "</div>"
   ]
  },
  {
   "cell_type": "markdown",
   "metadata": {},
   "source": [
    "## Variable Scoping\n",
    "We try to understand how variables are scoped, who owns them at which parts of the code and who can see effects of writing them."
   ]
  },
  {
   "cell_type": "code",
   "execution_count": null,
   "metadata": {},
   "outputs": [],
   "source": [
    "pygmentize omp_examples/a06-scoping.cpp"
   ]
  },
  {
   "cell_type": "code",
   "execution_count": null,
   "metadata": {},
   "outputs": [],
   "source": [
    "g++ omp_examples/a06-scoping.cpp -fopenmp -o scoping.out"
   ]
  },
  {
   "cell_type": "code",
   "execution_count": null,
   "metadata": {},
   "outputs": [],
   "source": [
    "./scoping.out"
   ]
  },
  {
   "cell_type": "markdown",
   "metadata": {},
   "source": [
    "<div class=\"alert alert-block alert-warning\">\n",
    "    We see that shared variables can cause race conditions\n",
    "</div>"
   ]
  },
  {
   "cell_type": "markdown",
   "metadata": {},
   "source": [
    "<div class=\"alert alert-block alert-info\">\n",
    "<b>Now it's your turn...</b><br>\n",
    "<b>7.</b> Run the above code 5 times. What do you observe?<br>\n",
    "<b>8.</b> Why is the code above problematic? Is what we're doing here still compatible with the Turing Machine way of modelling computers?\n",
    "    \n",
    "</div>"
   ]
  },
  {
   "cell_type": "markdown",
   "metadata": {},
   "source": [
    "<b>TODO</b><br>\n",
    "7: Obersvation\n",
    "\n",
    "8: What is the problem?"
   ]
  },
  {
   "cell_type": "markdown",
   "metadata": {},
   "source": [
    "The private directive allows each thread to have a copy of a variable: "
   ]
  },
  {
   "cell_type": "code",
   "execution_count": null,
   "metadata": {},
   "outputs": [],
   "source": [
    "pygmentize omp_examples/a07-private.cpp"
   ]
  },
  {
   "cell_type": "code",
   "execution_count": null,
   "metadata": {},
   "outputs": [],
   "source": [
    "g++ omp_examples/a07-private.cpp -fopenmp -o private.out"
   ]
  },
  {
   "cell_type": "code",
   "execution_count": null,
   "metadata": {},
   "outputs": [],
   "source": [
    "OMP_NUM_THREADS=10 ./private.out"
   ]
  },
  {
   "cell_type": "markdown",
   "metadata": {},
   "source": [
    "<div class=\"alert alert-block alert-warning\">\n",
    "    We see:\n",
    "    <ul>\n",
    "        <li>Private variables are always empty when coming in to the parallel regions</li>\n",
    "        <li>Private variables do not cause race conditions</li>\n",
    "        <li>The values in private variables are lost after exiting the parallel region</li>\n",
    "    </ul>\n",
    "</div>"
   ]
  },
  {
   "cell_type": "markdown",
   "metadata": {},
   "source": [
    "shared is the default but can also be stated explicitly"
   ]
  },
  {
   "cell_type": "code",
   "execution_count": null,
   "metadata": {},
   "outputs": [],
   "source": [
    "pygmentize omp_examples/a08-shared.cpp"
   ]
  },
  {
   "cell_type": "code",
   "execution_count": null,
   "metadata": {},
   "outputs": [],
   "source": [
    "g++ omp_examples/a08-shared.cpp -fopenmp -o shared.out"
   ]
  },
  {
   "cell_type": "code",
   "execution_count": null,
   "metadata": {},
   "outputs": [],
   "source": [
    "OMP_NUM_THREADS=10 ./shared.out"
   ]
  },
  {
   "cell_type": "markdown",
   "metadata": {},
   "source": [
    "<div class=\"alert alert-block alert-warning\">\n",
    "    We find a way to explicitly use shared variables in parallel regions\n",
    "</div>"
   ]
  },
  {
   "cell_type": "markdown",
   "metadata": {},
   "source": [
    "## Special Regions\n",
    "<div class=\"alert alert-block alert-danger\">\n",
    "This is an important concept to understand but is not necessarily used in our example\n",
    "</div>\n",
    "\n",
    "There are certain pieces of the code that might be more sensitive to how threads should be handling them, here are the options:"
   ]
  },
  {
   "cell_type": "code",
   "execution_count": null,
   "metadata": {},
   "outputs": [],
   "source": [
    "pygmentize omp_examples/a09-regions.cpp"
   ]
  },
  {
   "cell_type": "code",
   "execution_count": null,
   "metadata": {},
   "outputs": [],
   "source": [
    "g++ omp_examples/a09-regions.cpp -fopenmp -o regions.out && ./regions.out"
   ]
  },
  {
   "cell_type": "markdown",
   "metadata": {},
   "source": [
    "<div class=\"alert alert-block alert-warning\">\n",
    "    We learn that thread 0 is the only one entering <code>master</code>, only one thread ever enters <code>single</code> and every thread enters <code>critical</code>, but only one at a time\n",
    "</div>"
   ]
  },
  {
   "cell_type": "markdown",
   "metadata": {},
   "source": [
    "## What if parallel regions span multiple tasks\n",
    "<div class=\"alert alert-block alert-danger\">\n",
    "This is an important concept to understand but is not necessarily used in our example\n",
    "</div>\n",
    "\n",
    "Depending on how parallelization was done there might be a need to let threads wait for each other. The `#pragma omp barrier` is used for that."
   ]
  },
  {
   "cell_type": "code",
   "execution_count": null,
   "metadata": {},
   "outputs": [],
   "source": [
    "pygmentize omp_examples/a10-barrier.cpp"
   ]
  },
  {
   "cell_type": "code",
   "execution_count": null,
   "metadata": {},
   "outputs": [],
   "source": [
    "g++ omp_examples/a10-barrier.cpp -fopenmp -o barrier.out && ./barrier.out"
   ]
  },
  {
   "cell_type": "markdown",
   "metadata": {},
   "source": [
    "<div class=\"alert alert-block alert-warning\">\n",
    "    We learn that there is no guarantee on the execution order of different statements in a parallel block across threads\n",
    "</div>"
   ]
  },
  {
   "cell_type": "code",
   "execution_count": null,
   "metadata": {},
   "outputs": [],
   "source": [
    "pygmentize omp_examples/a11-barrier.cpp"
   ]
  },
  {
   "cell_type": "code",
   "execution_count": null,
   "metadata": {},
   "outputs": [],
   "source": [
    "g++ omp_examples/a11-barrier.cpp -fopenmp -o barrier2.out && ./barrier2.out"
   ]
  },
  {
   "cell_type": "markdown",
   "metadata": {},
   "source": [
    "<div class=\"alert alert-block alert-warning\">\n",
    "    We learn that barriers help synchronize code\n",
    "</div>"
   ]
  },
  {
   "cell_type": "markdown",
   "metadata": {},
   "source": [
    "## Nowait\n",
    "<div class=\"alert alert-block alert-danger\">\n",
    "This is an important concept to understand but is not necessarily used in our example\n",
    "</div>\n",
    "\n",
    "Certain OpenMP statements come with implicit barriers so `nowait` is the keyword to explicitly disable those"
   ]
  },
  {
   "cell_type": "code",
   "execution_count": null,
   "metadata": {},
   "outputs": [],
   "source": [
    "pygmentize omp_examples/a12-loops.cpp"
   ]
  },
  {
   "cell_type": "code",
   "execution_count": null,
   "metadata": {},
   "outputs": [],
   "source": [
    "g++ omp_examples/a12-loops.cpp -fopenmp -o loops.out && ./loops.out"
   ]
  },
  {
   "cell_type": "markdown",
   "metadata": {},
   "source": [
    "<div class=\"alert alert-block alert-warning\">\n",
    "    We learn that loops synchrnoize afterwards\n",
    "</div>"
   ]
  },
  {
   "cell_type": "code",
   "execution_count": null,
   "metadata": {},
   "outputs": [],
   "source": [
    "pygmentize omp_examples/a13-nowait.cpp"
   ]
  },
  {
   "cell_type": "code",
   "execution_count": null,
   "metadata": {},
   "outputs": [],
   "source": [
    "g++ omp_examples/a13-nowait.cpp -fopenmp -o nowait.out && ./nowait.out"
   ]
  },
  {
   "cell_type": "markdown",
   "metadata": {},
   "source": [
    "<div class=\"alert alert-block alert-warning\">\n",
    "    We learn that the nowait keyword can remove synchronization\n",
    "</div>"
   ]
  },
  {
   "cell_type": "markdown",
   "metadata": {},
   "source": [
    "## Reductions\n",
    "<div class=\"alert alert-block alert-danger\">\n",
    "This is an important concept to understand but is not necessarily used in our example\n",
    "</div>\n",
    "\n",
    "Since reductions are such an omnipresent motif, we do not want to implement it with critical / atomic every time, so there is a keyword for it:"
   ]
  },
  {
   "cell_type": "code",
   "execution_count": null,
   "metadata": {},
   "outputs": [],
   "source": [
    "pygmentize omp_examples/a14-reduction.cpp"
   ]
  },
  {
   "cell_type": "code",
   "execution_count": null,
   "metadata": {},
   "outputs": [],
   "source": [
    "g++ omp_examples/a14-reduction.cpp -fopenmp -o reduction.out && ./reduction.out"
   ]
  },
  {
   "cell_type": "markdown",
   "metadata": {},
   "source": [
    "<div class=\"alert alert-block alert-warning\">\n",
    "    We learn about the reduction keyword\n",
    "</div>"
   ]
  },
  {
   "cell_type": "markdown",
   "metadata": {},
   "source": [
    "# Amdahl's law\n",
    "\n",
    "We try to investigate the performance of a simple example, computing $\\pi$ using the Leibniz formula:\n",
    "\n",
    "$$1 - \\frac{1}{3} + \\frac{1}{5} - \\frac{1}{7} + \\frac{1}{9} ... = \\frac{\\pi}{4}$$\n",
    "\n",
    "Our goal is to understand what might affect performance and how this is reflected in strong and weak scaling plots\n",
    "\n",
    "## Strong Scaling\n",
    "\n",
    "Understanding how much faster the code gets though parallelization"
   ]
  },
  {
   "cell_type": "code",
   "execution_count": null,
   "metadata": {},
   "outputs": [],
   "source": [
    "pygmentize omp_examples/b01-timing.cpp"
   ]
  },
  {
   "cell_type": "code",
   "execution_count": null,
   "metadata": {},
   "outputs": [],
   "source": [
    "g++ -fopenmp omp_examples/b01-timing.cpp -o timing.out"
   ]
  },
  {
   "cell_type": "code",
   "execution_count": null,
   "metadata": {},
   "outputs": [],
   "source": [
    "./timing.out 1 > out.txt\n",
    "./timing.out 2 >> out.txt\n",
    "./timing.out 3 >> out.txt\n",
    "./timing.out 4 >> out.txt\n",
    "./timing.out 5 >> out.txt\n",
    "./timing.out 6 >> out.txt\n",
    "./timing.out 7 >> out.txt\n",
    "./timing.out 8 >> out.txt\n",
    "./timing.out 9 >> out.txt\n",
    "./timing.out 10 >> out.txt\n",
    "./timing.out 11 >> out.txt\n",
    "./timing.out 12 >> out.txt"
   ]
  },
  {
   "cell_type": "code",
   "execution_count": null,
   "metadata": {},
   "outputs": [],
   "source": [
    "gnuplot -e \"\\\n",
    "set terminal png; \\\n",
    "set style fill solid; \\\n",
    "set yrange[0:0.1]; \\\n",
    "set xlabel '# cores'; \\\n",
    "set ylabel 'runtime [s]'; \\\n",
    "plot 'out.txt' using 2: xtic(1) title 'runtime' with histogram \\\n",
    "\" | display"
   ]
  },
  {
   "cell_type": "code",
   "execution_count": null,
   "metadata": {},
   "outputs": [],
   "source": [
    "base=`head -1 out.txt | awk '{print $2}'`\n",
    "gnuplot -e \"\\\n",
    "set terminal png; \\\n",
    "set style fill solid; \\\n",
    "set yrange[0:14]; \\\n",
    "set xlabel '# cores'; \\\n",
    "set ylabel 'speedup (relative to 1 core)'; \\\n",
    "plot 'out.txt' using ($base/\\$2): xtic(1) title 'runtime' with histogram, \n",
    "'out.txt' using :(\\$1) title 'linear' with lines\\\n",
    "\" | display"
   ]
  },
  {
   "cell_type": "markdown",
   "metadata": {},
   "source": [
    "<div class=\"alert alert-block alert-info\">\n",
    "<b>Now it's your turn...</b><br>\n",
    "<b>9.</b> Can you explain the performance numbers that we see here? What effects are in place?<br>    \n",
    "</div>"
   ]
  },
  {
   "cell_type": "markdown",
   "metadata": {},
   "source": [
    "<b>TODO</b><br>\n",
    "9: Explain the numbers\n"
   ]
  },
  {
   "cell_type": "markdown",
   "metadata": {},
   "source": [
    "## Weak scaling\n",
    "Measuring the performance hit we get by increasing the problem size as well as the number of threads"
   ]
  },
  {
   "cell_type": "code",
   "execution_count": null,
   "metadata": {},
   "outputs": [],
   "source": [
    "pygmentize omp_examples/b02-weakscaling.cpp"
   ]
  },
  {
   "cell_type": "code",
   "execution_count": null,
   "metadata": {},
   "outputs": [],
   "source": [
    "g++ -fopenmp omp_examples/b02-weakscaling.cpp -o weak.out"
   ]
  },
  {
   "cell_type": "code",
   "execution_count": null,
   "metadata": {},
   "outputs": [],
   "source": [
    "./weak.out 1 > weak.txt\n",
    "./weak.out 2 >> weak.txt\n",
    "./weak.out 4 >> weak.txt\n",
    "./weak.out 8 >> weak.txt\n",
    "./weak.out 12 >> weak.txt\n",
    "./weak.out 18 >> weak.txt\n",
    "./weak.out 20 >> weak.txt\n",
    "./weak.out 24 >> weak.txt\n",
    "./weak.out 30 >> weak.txt"
   ]
  },
  {
   "cell_type": "code",
   "execution_count": null,
   "metadata": {
    "tags": []
   },
   "outputs": [],
   "source": [
    "base=`head -1 weak.txt | awk '{print $2}'`\n",
    "gnuplot -e \"\\\n",
    "set terminal png; \\\n",
    "set style fill solid; \\\n",
    "set yrange[0:1.1]; \\\n",
    "set xlabel '# cores'; \\\n",
    "set ylabel 'parallel efficiency'; \\\n",
    "plot 'weak.txt' using ($base/\\$2): xtic(1) title 'efficiency' with histogram, \n",
    "\" | display"
   ]
  },
  {
   "cell_type": "markdown",
   "metadata": {},
   "source": [
    "<div class=\"alert alert-block alert-info\">\n",
    "<b>Now it's your turn...</b><br>\n",
    "<b>10.</b> Can you explain the performance numbers that we see here? What effects are in place?<br>\n",
    "</div>"
   ]
  },
  {
   "cell_type": "markdown",
   "metadata": {},
   "source": [
    "<b>TODO</b><br>\n",
    "10: Explain the numbers\n"
   ]
  },
  {
   "cell_type": "markdown",
   "metadata": {},
   "source": [
    "## Caching\n",
    "\n",
    "Here we see the implication of caching in a multithreaded environment"
   ]
  },
  {
   "cell_type": "code",
   "execution_count": null,
   "metadata": {},
   "outputs": [],
   "source": [
    "pygmentize omp_examples/b03-caching.cpp"
   ]
  },
  {
   "cell_type": "code",
   "execution_count": null,
   "metadata": {},
   "outputs": [],
   "source": [
    "g++ -fopenmp omp_examples/b03-caching.cpp -o caching.out"
   ]
  },
  {
   "cell_type": "code",
   "execution_count": null,
   "metadata": {},
   "outputs": [],
   "source": [
    "./caching.out 1 > caching.txt\n",
    "./caching.out 2 >> caching.txt\n",
    "./caching.out 4 >> caching.txt\n",
    "./caching.out 8 >> caching.txt\n",
    "./caching.out 12 >> caching.txt\n",
    "./caching.out 13 >> caching.txt\n",
    "./caching.out 20 >> caching.txt\n",
    "./caching.out 24 >> caching.txt"
   ]
  },
  {
   "cell_type": "code",
   "execution_count": null,
   "metadata": {},
   "outputs": [],
   "source": [
    "gnuplot -e \"\\\n",
    "set terminal png; \\\n",
    "set style fill solid; \\\n",
    "set yrange[0:0.1]; \\\n",
    "set xlabel '# cores'; \\\n",
    "set ylabel 'runtime [s]'; \\\n",
    "plot 'caching.txt' using 2: xtic(1) title 'runtime' with histogram \\\n",
    "\" | display"
   ]
  },
  {
   "cell_type": "markdown",
   "metadata": {},
   "source": [
    "<div class=\"alert alert-block alert-info\">\n",
    "<b>Now it's your turn...</b><br>\n",
    "<b>11.</b> Can you explain the performance numbers that we see here? What effects are in place?<br>\n",
    "</div>"
   ]
  },
  {
   "cell_type": "markdown",
   "metadata": {},
   "source": [
    "<b>TODO</b><br>\n",
    "11: Explain the numbers\n"
   ]
  },
  {
   "cell_type": "code",
   "execution_count": null,
   "metadata": {},
   "outputs": [],
   "source": [
    "pygmentize omp_examples/b04-caching_fast.cpp"
   ]
  },
  {
   "cell_type": "code",
   "execution_count": null,
   "metadata": {},
   "outputs": [],
   "source": [
    "g++ -fopenmp omp_examples/b06-caching_fast.cpp -o caching2.out"
   ]
  },
  {
   "cell_type": "code",
   "execution_count": null,
   "metadata": {},
   "outputs": [],
   "source": [
    "./caching2.out 1 > caching2.txt\n",
    "./caching2.out 2 >> caching2.txt\n",
    "./caching2.out 4 >> caching2.txt\n",
    "./caching2.out 8 >> caching2.txt\n",
    "./caching2.out 12 >> caching2.txt\n",
    "./caching2.out 13 >> caching2.txt\n",
    "./caching2.out 20 >> caching2.txt\n",
    "./caching2.out 24 >> caching2.txt"
   ]
  },
  {
   "cell_type": "code",
   "execution_count": null,
   "metadata": {},
   "outputs": [],
   "source": [
    "gnuplot -e \"\\\n",
    "set terminal png; \\\n",
    "set style fill solid; \\\n",
    "set yrange[0:0.1]; \\\n",
    "set xlabel '# cores'; \\\n",
    "set ylabel 'runtime [s]'; \\\n",
    "plot 'caching2.txt' using 2: xtic(1) title 'runtime' with histogram \\\n",
    "\" | display"
   ]
  },
  {
   "cell_type": "markdown",
   "metadata": {},
   "source": [
    "<div class=\"alert alert-block alert-info\">\n",
    "<b>Now it's your turn...</b><br>\n",
    "<b>12.</b> Can you explain the performance numbers that we see here? What effects are in place?<br>\n",
    "</div>"
   ]
  },
  {
   "cell_type": "markdown",
   "metadata": {},
   "source": [
    "<b>TODO</b><br>\n",
    "12: Explain the numbers\n"
   ]
  },
  {
   "cell_type": "code",
   "execution_count": null,
   "metadata": {},
   "outputs": [],
   "source": [
    "make clean_examples"
   ]
  }
 ],
 "metadata": {
  "kernelspec": {
   "display_name": "Bash",
   "language": "bash",
   "name": "bash"
  },
  "language_info": {
   "codemirror_mode": "shell",
   "file_extension": ".sh",
   "mimetype": "text/x-sh",
   "name": "bash"
  }
 },
 "nbformat": 4,
 "nbformat_minor": 4
}
